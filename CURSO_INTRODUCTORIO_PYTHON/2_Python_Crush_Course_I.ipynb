{
 "cells": [
  {
   "cell_type": "markdown",
   "id": "6314064d",
   "metadata": {},
   "source": [
    "\n",
    "\n",
    "<br><br><br>\n",
    "<h1><font color=\"#00586D\" size=5>Módulo 1</font></h1>\n",
    "\n",
    "\n",
    "\n",
    "<h1><font color=\"#00586D\" size=6>Python Crash Course I</font></h1>\n",
    "\n",
    "<br>\n",
    "<div style=\"text-align: left\">\n",
    "<font color=\"#95331E\" size=3>Luis Téllez</font><br>\n",
    "<font color=\"#95331E\" size=3>Curso de especialista en Ciencia de Datos</font><br>\n",
    "\n",
    "\n",
    "</div>"
   ]
  },
  {
   "cell_type": "markdown",
   "id": "3489266b",
   "metadata": {
    "toc": true
   },
   "source": [
    "<h1>Tabla de Contenidos<span class=\"tocSkip\"></span></h1>\n",
    "<div class=\"toc\"><ul class=\"toc-item\"><li><span><a href=\"#Consejos\" data-toc-modified-id=\"Consejos-1\"><span class=\"toc-item-num\">1&nbsp;&nbsp;</span>Consejos</a></span><ul class=\"toc-item\"><li><span><a href=\"#Declaración-de-variables:-nombre-de-variables-permitido\" data-toc-modified-id=\"Declaración-de-variables:-nombre-de-variables-permitido-1.1\"><span class=\"toc-item-num\">1.1&nbsp;&nbsp;</span>Declaración de variables: nombre de variables permitido</a></span></li><li><span><a href=\"#Tipado-dinámico\" data-toc-modified-id=\"Tipado-dinámico-1.2\"><span class=\"toc-item-num\">1.2&nbsp;&nbsp;</span>Tipado dinámico</a></span></li></ul></li><li><span><a href=\"#Expresiones\" data-toc-modified-id=\"Expresiones-2\"><span class=\"toc-item-num\">2&nbsp;&nbsp;</span>Expresiones</a></span><ul class=\"toc-item\"><li><span><a href=\"#Operadores-aritméticos\" data-toc-modified-id=\"Operadores-aritméticos-2.1\"><span class=\"toc-item-num\">2.1&nbsp;&nbsp;</span>Operadores aritméticos</a></span></li><li><span><a href=\"#El-paquete-math\" data-toc-modified-id=\"El-paquete-math-2.2\"><span class=\"toc-item-num\">2.2&nbsp;&nbsp;</span>El paquete <code>math</code></a></span></li><li><span><a href=\"#Jerarquía-de-Operaciones\" data-toc-modified-id=\"Jerarquía-de-Operaciones-2.3\"><span class=\"toc-item-num\">2.3&nbsp;&nbsp;</span>Jerarquía de Operaciones</a></span></li><li><span><a href=\"#Funciones-y-Operaciones-sobre-Strings\" data-toc-modified-id=\"Funciones-y-Operaciones-sobre-Strings-2.4\"><span class=\"toc-item-num\">2.4&nbsp;&nbsp;</span>Funciones y Operaciones sobre Strings</a></span></li></ul></li><li><span><a href=\"#Booleanos\" data-toc-modified-id=\"Booleanos-3\"><span class=\"toc-item-num\">3&nbsp;&nbsp;</span>Booleanos</a></span></li><li><span><a href=\"#Estructuras-de-Control\" data-toc-modified-id=\"Estructuras-de-Control-4\"><span class=\"toc-item-num\">4&nbsp;&nbsp;</span>Estructuras de Control</a></span></li><li><span><a href=\"#Funciones-Built-in\" data-toc-modified-id=\"Funciones-Built-in-5\"><span class=\"toc-item-num\">5&nbsp;&nbsp;</span>Funciones Built-in</a></span></li><li><span><a href=\"#Funciones\" data-toc-modified-id=\"Funciones-6\"><span class=\"toc-item-num\">6&nbsp;&nbsp;</span>Funciones</a></span></li><li><span><a href=\"#Advertencia\" data-toc-modified-id=\"Advertencia-7\"><span class=\"toc-item-num\">7&nbsp;&nbsp;</span>Advertencia</a></span></li></ul></div>"
   ]
  },
  {
   "cell_type": "markdown",
   "id": "aa0bde78",
   "metadata": {},
   "source": [
    "En este Notebook, voy a tratar de explicar todo lo necesario para poder introducirnos a Python.\n",
    "Se presupone un conocimiento previo de Python, aunque no es necesario, pero voy a tratar de resumir todo lo esencial y tratar de poner fuentes de las que podéis seguir obteniendo información. \n",
    "\n",
    "## Consejos"
   ]
  },
  {
   "cell_type": "markdown",
   "id": "b428b662",
   "metadata": {},
   "source": [
    "_Algunos comandos básicos cuando para poder trabajar:_\n",
    "\n",
    "* Si nos vamos a una celda en modo comando y pulsamos `M` sin acceder a ésta, la cambiaremos a modo `Markdown`.\n",
    "* Pulsar `b` (below) creará una celda tipo `code` debajo si nos encontramos en modo comandos.\n",
    "* Pulsar `a` (above) creará una celda tipo `code` encima si nos encontramos en modo comandos.\n",
    "* Para acceder hasta una casilla y entrar en modo edición basta con pinchar dentro o pulsar enter una vez seleccionada dicha celda.\n",
    "* `Ctrl + Shift + _` : Corta una celda por el sitio en el que estamos.\n",
    "* `d + d` sobre la misma celda sirve para eliminarla.\n",
    "* `c` sobre una celda sirve para copiarla. (`v` sobre una celda sirve para copiarla.)\n",
    "* Si pinchamos en `Help`, podemos acceder a un montón de documentación del tirón.\n",
    "* Recomiendo hacer uso siempre que sea posible de la **documentación oficial**\n",
    "\n",
    "\n",
    "Algunos recursos que os pueden servir, aunque trataré de hacer un resumen en este Notebook:\n",
    "\n",
    "[Learn Python](https://www.learnpython.org/)\n",
    "\n",
    "[Apuntes iniciación a Python](https://docs.hektorprofe.net/python/)\n",
    "\n",
    "[StackOverflow](https://es.stackoverflow.com/)\n",
    "\n",
    "[medium](https://medium.com/)\n",
    "\n",
    "[Documentación oficial](https://docs.python.org/3/tutorial/)\n"
   ]
  },
  {
   "cell_type": "markdown",
   "id": "b7256e87",
   "metadata": {},
   "source": [
    "---\n",
    "\n",
    "\n",
    "### Declaración de variables: nombre de variables permitido\n",
    "\n",
    "\n",
    "\n",
    "Un identificador **válido** debe cumplir una serie de **condiciones**:\n",
    "\n",
    "* Tiene que **empezar por una letra o el símbolo _**\n",
    "* No puede contener espacios\n",
    "* Aunque puede contener caractéres especiales, como la ñ, se recomienda no hacerlo (estándar en programación)\n",
    "\n",
    "\n",
    "<div class=\"alert alert-block alert-info\">\n",
    "<i class=\"fa fa-info-circle\" aria-hidden=\"true\"></i>\n",
    "<strong>Nota</strong>: Para mostrar el valor de las variables harémos uso de las funciones built-in print y type, que serán explicadas más adelante."
   ]
  },
  {
   "cell_type": "code",
   "execution_count": 1,
   "id": "25480961",
   "metadata": {},
   "outputs": [],
   "source": [
    "mivariable = 1       # Tiene que empezar por una letra\n",
    "_mivariable = 0.123  # O empezar por el símbolo _\n",
    "\n",
    "# Tras el primer caracter, se permiten letras, números y _ (pero no espacios)\n",
    "_123 = \"Hola\"  \n",
    "var2_3_4_final = \"Mundo\""
   ]
  },
  {
   "cell_type": "code",
   "execution_count": 2,
   "id": "f1c6752a",
   "metadata": {},
   "outputs": [
    {
     "name": "stdout",
     "output_type": "stream",
     "text": [
      "2020-10-06\n"
     ]
    }
   ],
   "source": [
    "fecha = \"2020-10-06\"\n",
    "print(fecha)"
   ]
  },
  {
   "cell_type": "markdown",
   "id": "dee226a8",
   "metadata": {},
   "source": [
    "Todas las variables apuntan a una dirección de memoria. Hasta un simple número."
   ]
  },
  {
   "cell_type": "code",
   "execution_count": 3,
   "id": "f37edbae",
   "metadata": {},
   "outputs": [
    {
     "name": "stdout",
     "output_type": "stream",
     "text": [
      "True\n",
      "Id en memoria de n: 1897180654000\n",
      "Id en memoria de m: 1897180654000\n"
     ]
    }
   ],
   "source": [
    "n = 5\n",
    "m = 5\n",
    "print(n == m)\n",
    "print(f'Id en memoria de n: {id(n)}')\n",
    "print(f'Id en memoria de m: {id(m)}')"
   ]
  },
  {
   "cell_type": "markdown",
   "id": "287594e4",
   "metadata": {},
   "source": [
    "### Tipado dinámico \n",
    "\n",
    "\n",
    "En Python los **tipos se infieren dinámicamente**, es decir, no es necesario declarar de qué tipo es una variable pero ésta tiene un tipo asociado (el intérprete determina el tipo). Para declarar una variable basta con escribir un **identificador o nombre y asignarle un valor usando el símbolo `=`**."
   ]
  },
  {
   "cell_type": "code",
   "execution_count": 4,
   "id": "c018f87f",
   "metadata": {},
   "outputs": [
    {
     "name": "stdout",
     "output_type": "stream",
     "text": [
      "5\n",
      "<class 'int'>\n"
     ]
    }
   ],
   "source": [
    "# Declara una variable numérica\n",
    "un_numero = 5\n",
    "print(un_numero)        # Mostramos su valor\n",
    "print(type(un_numero))  # Mostramos su tipo inferido"
   ]
  },
  {
   "cell_type": "code",
   "execution_count": 5,
   "id": "7e8411c3",
   "metadata": {},
   "outputs": [
    {
     "name": "stdout",
     "output_type": "stream",
     "text": [
      "<class 'int'>\n",
      "<class 'float'>\n",
      "<class 'str'>\n",
      "<class 'bool'>\n",
      "<class 'NoneType'>\n"
     ]
    }
   ],
   "source": [
    "# Existen los tipos de datos básicos habituales: int, float, str y bool\n",
    "print(type(1))      # Tipo int (entero)\n",
    "print(type(1.0))    # Tipo float (número flotante)\n",
    "print(type(\"Hola\")) # Tipo str (secuencia de caracteres)\n",
    "print(type(True))   # Tipo bool (Booleano, True o False)\n",
    "\n",
    "# Existe un tipo especial, llamado NoneType, que sirve para indicar que es una variable vacía. Es muy útil \n",
    "# para representar ausencia de información, un resultado especial para una función, etc.\n",
    "print(type(None))   # None es una palabra reservada, al igual que True y False. Se usa igual... 'variable = None'"
   ]
  },
  {
   "cell_type": "markdown",
   "id": "32bd8ed8",
   "metadata": {},
   "source": [
    "<div class=\"alert alert-block alert-warning\">\n",
    "<i class=\"fa fa-exclamation-circle\" aria-hidden=\"true\"></i>\n",
    "Esta flexibilidad, la no necesidad de declarar tipos, es muy potente, pero hay que manejarla con cautela. No existe una declaración de variables al uso, es decir:\n",
    "<ul>\n",
    "    <li> La asignación se encarga de crear la variable si no existe</li>\n",
    "    <li> La asignación modifica el valor de la variable si existe ¡y puede asignar un valor de un tipo diferente! (dinámicamente se cambia el tipo)</li>\n",
    "</ul>\n",
    "</div>"
   ]
  },
  {
   "cell_type": "markdown",
   "id": "7ca047db",
   "metadata": {},
   "source": [
    "## Expresiones"
   ]
  },
  {
   "cell_type": "markdown",
   "id": "645f3df2",
   "metadata": {},
   "source": [
    "### Operadores aritméticos\n",
    "\n",
    "Las operaciones aritméticas básicas son accesibles por defecto."
   ]
  },
  {
   "cell_type": "code",
   "execution_count": 6,
   "id": "46d3c576",
   "metadata": {},
   "outputs": [
    {
     "name": "stdout",
     "output_type": "stream",
     "text": [
      "5\n",
      "-1\n",
      "-6\n",
      "====\n",
      "6\n",
      "2.5\n",
      "2.0\n",
      "2\n",
      "2\n",
      "====\n",
      "1\n",
      "8\n"
     ]
    }
   ],
   "source": [
    "print(2 + 3)     # Suma: 5\n",
    "print(2 - 3)     # Resta: -1\n",
    "print(-6)        # Un número negativo: -6\n",
    "\n",
    "print(\"====\")\n",
    "\n",
    "print(2 * 3)     # Multiplicación: 6\n",
    "print(5 / 2)     # División flotante: 2.5\n",
    "print(4 / 2)     # Aunque los números sean enteros y la división sea exacta\n",
    "                 # el resultado es un número flotante\n",
    "print(5 // 2)    # División entera: 2 (se trunca; equivalente a int(5/2))\n",
    "print(4 // 2)    # El resultado es un entero: 2\n",
    "\n",
    "print(\"====\")\n",
    "\n",
    "print(5 % 2)     # El módulo es 1 (resto de 5 / 2)\n",
    "print(2**3)      # 2 elevado a 3: 8"
   ]
  },
  {
   "cell_type": "markdown",
   "id": "8826cadd",
   "metadata": {},
   "source": [
    "### El paquete `math`\n",
    "Éste incluye funcionalidad de **operadores matemáticos**. Más adelante veremos más detalles sobre paquetes y el uso de `import`."
   ]
  },
  {
   "cell_type": "code",
   "execution_count": 7,
   "id": "b7b3e884",
   "metadata": {},
   "outputs": [],
   "source": [
    "import math"
   ]
  },
  {
   "cell_type": "code",
   "execution_count": 8,
   "id": "b1516b85",
   "metadata": {},
   "outputs": [
    {
     "data": {
      "text/plain": [
       "\u001b[1;31mSignature:\u001b[0m \u001b[0mmath\u001b[0m\u001b[1;33m.\u001b[0m\u001b[0mcos\u001b[0m\u001b[1;33m(\u001b[0m\u001b[0mx\u001b[0m\u001b[1;33m,\u001b[0m \u001b[1;33m/\u001b[0m\u001b[1;33m)\u001b[0m\u001b[1;33m\u001b[0m\u001b[1;33m\u001b[0m\u001b[0m\n",
       "\u001b[1;31mDocstring:\u001b[0m Return the cosine of x (measured in radians).\n",
       "\u001b[1;31mType:\u001b[0m      builtin_function_or_method\n"
      ]
     },
     "metadata": {},
     "output_type": "display_data"
    }
   ],
   "source": [
    "?math.cos"
   ]
  },
  {
   "cell_type": "markdown",
   "id": "4c8c2a78",
   "metadata": {},
   "source": [
    "Sin embargo, si se quieren usar operaciones más complejas, es necesatio importar una librería llamada `math` (hablaremos en mayor detalle en el Tutorial Python II). Esto se realiza con el código `import math`, y se acceden a las funciones con un punto, por ejemplo `math.sqrt` para la raíz cuadrada.\n",
    "\n",
    "Nos centraremos en las operaciones matemáticas:\n",
    "\n",
    "* **Raíz cuadrada de n:** math.sqrt(n)\n",
    "* **Redondear n por lo alto:** math.ceil(n)\n",
    "* **Redondear n por lo bajo:** math.floor(n)\n",
    "* **Factorial de n:** math.factorial(n)\n",
    "* **Exponencial de n:** math.exp(n)\n",
    "* **Logaritmo natural de n:** math.log(n)\n",
    "* **Logaritmo base b de n:** math.log(n, b)\n",
    "\n",
    "Así como estas constantes: \n",
    "\n",
    "* **Número pi:** math.pi\n",
    "* **Número e:** math.e\n",
    "\n",
    "Y operaciones trigonométricas:\n",
    "\n",
    "* **Seno:** math.sin\n",
    "* **Coseno:** math.cos\n",
    "* **Tangente:** math.tam\n",
    "* **Arco seno:** math.asin\n",
    "* **Arco coseno** math.acos\n",
    "* **Arco tangente** math.atan"
   ]
  },
  {
   "cell_type": "code",
   "execution_count": 9,
   "id": "d095b789",
   "metadata": {},
   "outputs": [
    {
     "name": "stdout",
     "output_type": "stream",
     "text": [
      "3.0\n",
      "4\n",
      "3\n",
      "6\n",
      "20.085536923187668\n",
      "0.6931471805599453\n",
      "2.0\n"
     ]
    }
   ],
   "source": [
    "# importamos la librería (módulo) math\n",
    "import math\n",
    "\n",
    "print( math.sqrt(9) )           # Raíz cuadrada de 9: 3\n",
    "print( math.ceil(3.1) )         # El número redondeado a la alta: 4\n",
    "print( math.floor(3.9) )        # El número redondeado a la baja: 3\n",
    "print( math.factorial(3) )      # Factorial de 3: 6\n",
    "print( math.exp(3) )            # Exponencial de 3: 20.085536923187668\n",
    "print( math.log(2) )            # Logaritmo base e de 2: 0.6931471805599453\n",
    "print( math.log(100, 10) )      # Logaritmo base 10 de 100: 2"
   ]
  },
  {
   "cell_type": "code",
   "execution_count": 10,
   "id": "baff138b",
   "metadata": {},
   "outputs": [
    {
     "name": "stdout",
     "output_type": "stream",
     "text": [
      "3.141592653589793\n",
      "2.718281828459045\n",
      "1.2246467991473532e-16\n",
      "-1.0\n",
      "-1.2246467991473532e-16\n",
      "===\n",
      "0.0\n",
      "3.141592653589793\n",
      "0.0\n"
     ]
    }
   ],
   "source": [
    "# Operaciones con ángulos\n",
    "print(math.pi)            # Número pi\n",
    "print(math.e)             # Número e\n",
    "print(math.sin(math.pi))  # Seno de pi (en radianes): 0\n",
    "print(math.cos(math.pi))  # Coseno de pi (en radianes): -1.0\n",
    "print(math.tan(math.pi))  # Tangente de pi (en radianes): 0\n",
    "print(\"===\")\n",
    "\n",
    "# También se dispone de las inversas\n",
    "print(math.asin(0))       # Arco seno de 0: 0 (en radianes)\n",
    "print(math.acos(-1))      # Arco coseno de -1: pi (en radianes)\n",
    "print(math.atan(0))       # Arco tangente de 0: 0 (en radianes)"
   ]
  },
  {
   "cell_type": "markdown",
   "id": "17cb2a90",
   "metadata": {},
   "source": [
    "<div class=\"alert alert-block alert-info\">\n",
    "<i class=\"fa fa-info-circle\" aria-hidden=\"true\"></i>\n",
    "Los números flotantes tienen dos valores especiales:\n",
    "    \n",
    "- infinito (`math.inf`, o `float('inf')`)\n",
    "- not a number o nan (`math.nan` o `float('nan')`)\n",
    "\n",
    "</div>"
   ]
  },
  {
   "cell_type": "markdown",
   "id": "06b8e171",
   "metadata": {},
   "source": [
    "### Jerarquía de Operaciones"
   ]
  },
  {
   "cell_type": "markdown",
   "id": "a744cb2a",
   "metadata": {},
   "source": [
    "La jerarquía natural de las operaciones es la habitual: primero potencias, luego multiplicación y división, y por último sumas y restas. Se puede utilizar los paréntesis para cambiar el orden natural:"
   ]
  },
  {
   "cell_type": "code",
   "execution_count": 11,
   "id": "44f2965a",
   "metadata": {},
   "outputs": [
    {
     "name": "stdout",
     "output_type": "stream",
     "text": [
      "29\n",
      "1679616\n",
      "5.0\n"
     ]
    }
   ],
   "source": [
    "x = 3 * 2**3 + 5  # = 3 * 8 + 5 = 24 + 5 = 29\n",
    "print(x)\n",
    "\n",
    "x = (3 * 2)**(3 + 5)  # = 6 ** 8 = 1679616\n",
    "print(x)\n",
    "\n",
    "x = (5 + 2 ** math.sqrt(9) - 3) / 2 # = (5 + 2 ** 3 - 3) / 2 = (5 + 8 - 3) / 2 = 10 / 2 = 5\n",
    "print(x)"
   ]
  },
  {
   "cell_type": "markdown",
   "id": "08d88582",
   "metadata": {},
   "source": [
    "### Funciones y Operaciones sobre Strings"
   ]
  },
  {
   "cell_type": "markdown",
   "id": "f3b18603",
   "metadata": {},
   "source": [
    "Los Strings son cadenas de caracteres encerradas entre comillas simples `'Hola mundo!'` o dobles `\"Hola mundo!\"`. El carácter especial `\\` sirve para escapar o representar otros caracteres. Principalmente, las combinaciones más comunes son `\\\\`, `\\n` y `\\t`:"
   ]
  },
  {
   "cell_type": "code",
   "execution_count": 12,
   "id": "d7238079",
   "metadata": {},
   "outputs": [
    {
     "name": "stdout",
     "output_type": "stream",
     "text": [
      "Esto es un backslash: \\\n",
      "Esto es un salto de línea: \n",
      "Más texto...\n",
      "Esto es un tabulador\tMás texto...\n"
     ]
    }
   ],
   "source": [
    "print(\"Esto es un backslash: \\\\\")      # El primer backslash sirve para escapar al segundo. Como resultado se imprime uno.\n",
    "print(\"Esto es un salto de línea: \\nMás texto...\") #\n",
    "print(\"Esto es un tabulador\\tMás texto...\") #"
   ]
  },
  {
   "cell_type": "code",
   "execution_count": 13,
   "id": "a3f281c2",
   "metadata": {},
   "outputs": [
    {
     "name": "stdout",
     "output_type": "stream",
     "text": [
      "Ho\"''la\n"
     ]
    }
   ],
   "source": [
    "print(\"Ho\\\"''la\")"
   ]
  },
  {
   "cell_type": "markdown",
   "id": "d06367cd",
   "metadata": {},
   "source": [
    "\n",
    "Hasta ahora la función `print`ha sido utilizada con strings simples (o con otros tipos de datos que se castean automáticamente a strings). A veces es necesario formar strings más complejos, por ejemplo para ser imprimidos con la función `print`.\n",
    "\n",
    "Disponemos de dos operaciones básicas: **concatenación** y **formateo**."
   ]
  },
  {
   "cell_type": "code",
   "execution_count": 14,
   "id": "4c8b2694",
   "metadata": {},
   "outputs": [
    {
     "name": "stdout",
     "output_type": "stream",
     "text": [
      "Hola Mundo!\n",
      "Hola Mundo!\n",
      "Éste es el módulo 1\n",
      "=-==-==-==-==-==-==-==-==-==-==-==-==-==-==-==-==-==-==-==-==-==-==-==-==-==-==-==-==-==-==-==-==-==-==-==-==-==-==-==-==-==-==-==-==-==-==-==-==-==-==-==-==-==-==-==-==-==-==-==-==-==-==-==-==-==-==-==-==-==-==-==-==-==-==-==-==-==-==-==-==-==-==-==-==-==-==-==-==-==-==-==-==-==-==-==-==-==-==-==-==-==-==-==-==-==-==-==-==-==-==-==-==-==-==-==-==-==-==-==-==-==-==-==-==-==-==-==-==-==-==-==-==-==-==-==-==-==-==-==-==-==-==-==-==-==-==-==-==-==-==-==-==-==-==-==-==-==-==-==-==-==-==-==-==-==-==-==-==-==-==-==-==-==-==-==-==-==-==-==-==-==-==-==-==-==-==-==-==-==-==-==-==-==-==-==-==-==-==-==-==-==-==-==-==-==-==-==-==-==-==-==-==-==-==-==-==-==-==-==-==-==-==-==-==-==-==-==-==-==-==-==-==-==-==-==-==-==-==-==-==-==-==-==-==-==-==-==-==-==-==-==-==-==-==-==-==-==-==-==-==-==-==-==-==-==-==-==-==-==-==-==-==-==-==-==-==-==-==-==-==-==-==-==-==-==-==-==-==-==-==-==-==-==-==-==-==-==-==-==-=\n"
     ]
    }
   ],
   "source": [
    "s1 = \"Hola \"\n",
    "s2 =\"Mundo!\"\n",
    "s_concatenado = s1 + s2\n",
    "print(s_concatenado) # Los dos strings se han concatenado, formando la cadena \"Hola Mundo!\"\n",
    "\n",
    "# Se puede concatenar un número indefinido de strings.\n",
    "print(\"Hola\" + \" \" + \"Mundo\" + \"!\")\n",
    "\n",
    "# Si queremos utilizar otras variables o expresiones de tipo distinto a string hay que castear\n",
    "# print(\"Éste es el módulo \" + 1) # Esto fallaría\n",
    "print(\"Éste es el módulo \" + str(1)) # Esto funciona, e imprime \"Éste es el módulo 1\"\n",
    "\n",
    "print( \"=-=\" * 300 )  # Genera un string que contiene \"=-=\" 30 veces seguidas"
   ]
  },
  {
   "cell_type": "markdown",
   "id": "83ac0c53",
   "metadata": {},
   "source": [
    "La función `split` sirve para dividir un string usando un carácter como **separador** (genera una _lista_ de strings):"
   ]
  },
  {
   "cell_type": "code",
   "execution_count": 15,
   "id": "6d9a9bff",
   "metadata": {},
   "outputs": [
    {
     "data": {
      "text/plain": [
       "['Rojo', 'Verde', 'Azul', 'Amarillo']"
      ]
     },
     "execution_count": 15,
     "metadata": {},
     "output_type": "execute_result"
    }
   ],
   "source": [
    "\"Rojo,Verde,Azul,Amarillo\".split(',')"
   ]
  },
  {
   "cell_type": "markdown",
   "id": "65b718d2",
   "metadata": {},
   "source": [
    "La función `join` sirve para volver a unir una lista de strings en uno solo, usando un carácter como **separador**:"
   ]
  },
  {
   "cell_type": "code",
   "execution_count": 16,
   "id": "4a9d7c79",
   "metadata": {},
   "outputs": [
    {
     "data": {
      "text/plain": [
       "'Rojo,Verde,Azul,Amarillo'"
      ]
     },
     "execution_count": 16,
     "metadata": {},
     "output_type": "execute_result"
    }
   ],
   "source": [
    "lista_strings = \"Rojo,Verde,Azul,Amarillo\".split(',')\n",
    "','.join(lista_strings)"
   ]
  },
  {
   "cell_type": "markdown",
   "id": "ca43f369",
   "metadata": {},
   "source": [
    "La función `strip` sirve para eliminar un carácter o múltiples consecutivos al principio y al final de un string. Es muy útil, por ejemplo, para limpiar espacios en blanco:"
   ]
  },
  {
   "cell_type": "code",
   "execution_count": 17,
   "id": "73d5203c",
   "metadata": {},
   "outputs": [
    {
     "name": "stdout",
     "output_type": "stream",
     "text": [
      "Rojo.\n",
      "Verde.\n",
      "Azul.\n",
      "Amarillo.\n"
     ]
    }
   ],
   "source": [
    "rojo, verde, azul, amarillo = \"            Rojo, Verde, Azul, Amarillo  \".split(',')\n",
    "print(rojo.strip()+\".\")\n",
    "print(verde.strip()+\".\")\n",
    "print(azul.strip()+\".\")\n",
    "print(amarillo.strip()+\".\")"
   ]
  },
  {
   "cell_type": "markdown",
   "id": "4d104750",
   "metadata": {},
   "source": [
    "En el caso anterior hemos introducido un número para concatenar con el string. Tener que hacer el cast a str es incómodo.\n",
    "\n",
    "Por ello, existe el **formateo** de strings, que consiste en definir _huecos_ en el string que serán rellenados con las variables indicadas. Se realiza con la función `str.format`."
   ]
  },
  {
   "cell_type": "code",
   "execution_count": 18,
   "id": "10dd4568",
   "metadata": {},
   "outputs": [
    {
     "name": "stdout",
     "output_type": "stream",
     "text": [
      "Éste es el módulo {}\n",
      "Éste es el módulo 1\n",
      "Éste es el módulo 1\n",
      "Formateando esta cadena por 2 vez.\n",
      "Formateando esta cadena en orden, según especificado por usuario.\n",
      "Éste es un entero, impreso como entero: 1\n",
      "Éste es un entero, impreso como flotante: 1.000000\n",
      "Éste es un entero, impreso como string (opción por defecto): 1\n"
     ]
    }
   ],
   "source": [
    "s = \"Éste es el módulo {}\"\n",
    "print(s)                # Imprime la cadena tal cual, con las llaves\n",
    "print(str.format(s, 1)) # Format busca en el string las llaves, y las sustituye en orden por los argumentos de format\n",
    "\n",
    "# La función format la heredan todos los strings (hablaremos de qué significa esto en el Tutorial python II).\n",
    "# Esto permite llamar a la función str.format de una forma más cómoda a través del string\n",
    "print(s.format(1))      # Siendo s una variable tipo str, podemos llamar a la función format como s.format\n",
    "\n",
    "# Un ejemplo con más variables que sustituir\n",
    "s = \"Formateando esta {} por {} vez.\"\n",
    "print(s.format(\"cadena\", 2))\n",
    "\n",
    "# Se puede especificar el órden en el que se usarán los argumentos para sustituir en las llaves.\n",
    "# Para ello, se indica un número entre ellas, donde el primer elemento es el 0.\n",
    "s = \"Formateando esta {1} en orden, según especificado por {0}.\"\n",
    "print(s.format(\"usuario\", \"cadena\"))\n",
    "\n",
    "# También se puede dar un formato custom a las variables formateadas, por ejemplo imprimir un entero como flotante:\n",
    "print(\"Éste es un entero, impreso como entero: {:d}\".format(1))\n",
    "print(\"Éste es un entero, impreso como flotante: {:f}\".format(1))\n",
    "print(\"Éste es un entero, impreso como string (opción por defecto): {}\".format(1))"
   ]
  },
  {
   "cell_type": "markdown",
   "id": "08b0be04",
   "metadata": {},
   "source": [
    "<div class=\"alert alert-block alert-info\">\n",
    "<i class=\"fa fa-info-circle\" aria-hidden=\"true\"></i>\n",
    "    \n",
    "Existe información completa sobre formateo de strings en Python  (<a href=\"https://pyformat.info/\">enlace</a>).\n",
    "\n",
    "Existen básicamente dos tipos de formateos: usando el símbolo % y la función `format` (la usada anteriormente). `format` es la opción recomendada por ser más nueva y dar más posibilidades.\n",
    "</div>"
   ]
  },
  {
   "cell_type": "markdown",
   "id": "6d68345c",
   "metadata": {},
   "source": [
    "<div class=\"alert alert-block alert-warning\">\n",
    "<i class=\"fa fa-exclamation-circle\" aria-hidden=\"true\"></i>\n",
    "El format es capaz de realizar un casting automáticamente si no pierde información. Es decir, si imprimimos un entero como flotante.\n",
    "\n",
    "Sin embargo, si perdemos información, es decir, imprimimos un flotante como entero, el código fallará (sería necesario hacer el casting manualmente). A continuación vemos un ejemplo:\n",
    "</div>"
   ]
  },
  {
   "cell_type": "code",
   "execution_count": 19,
   "id": "f6900935",
   "metadata": {},
   "outputs": [
    {
     "name": "stdout",
     "output_type": "stream",
     "text": [
      "Casteo sin pérdida de información: de int 1 a float 1.000000\n"
     ]
    }
   ],
   "source": [
    "print(\"Casteo sin pérdida de información: de int {:d} a float {:f}\".format(1, 1))"
   ]
  },
  {
   "cell_type": "code",
   "execution_count": 20,
   "id": "0ef23e1e",
   "metadata": {},
   "outputs": [],
   "source": [
    "# Devuelve error\n",
    "#print(\"Casteo con pérdida de información: de float {:f} a int {:d}\".format(1.0, 1.0))  # ¡Falla la ejecución!"
   ]
  },
  {
   "cell_type": "markdown",
   "id": "8c5ad72d",
   "metadata": {},
   "source": [
    "<div class=\"alert alert-block alert-info\">\n",
    "<i class=\"fa fa-info-circle\" aria-hidden=\"true\"></i>\n",
    "    \n",
    "En el [PEP-498](https://www.python.org/dev/peps/pep-0498/) (viene de Python Enhancement Proposals), se incluye a partir de python 3.6 un formateo de string mucho menos \"verbose\":\n",
    "`f'El valor de la variable mi_variable es: {mi_variable}'`.\n",
    "\n",
    "Es decir, permite formatear los strings antepondiendo el caracter 'f' al string, e incluyendo los nombres de las variables (¡e incluso expresiones!) dentro de los corchetes. La conversion de formatos (castings) se puede realizar de la misma manera, incluyendo los ':' después de la expresión:\n",
    "`f'El valor de la variable mi_numero es: {mi_numero:f}'`\n",
    "</div>"
   ]
  },
  {
   "cell_type": "code",
   "execution_count": 21,
   "id": "10f3ceae",
   "metadata": {},
   "outputs": [
    {
     "name": "stdout",
     "output_type": "stream",
     "text": [
      "El valor de la variable mi_variable es: Un texto\n",
      "El valor de la variable mi_numero es: 123.500000, y multiplicado por 2: 247.000000\n"
     ]
    }
   ],
   "source": [
    "mi_variable = \"Un texto\"\n",
    "print(f'El valor de la variable mi_variable es: {mi_variable}')\n",
    "mi_numero = 123.5\n",
    "print(f'El valor de la variable mi_numero es: {mi_numero:f}, y multiplicado por 2: {mi_numero*2:f}')"
   ]
  },
  {
   "cell_type": "code",
   "execution_count": 22,
   "id": "24f702e5",
   "metadata": {},
   "outputs": [
    {
     "data": {
      "text/plain": [
       "'7 - 5 = 2'"
      ]
     },
     "execution_count": 22,
     "metadata": {},
     "output_type": "execute_result"
    }
   ],
   "source": [
    "\"{} - {} = {}\".format(7, 5, 7 - 5)"
   ]
  },
  {
   "cell_type": "markdown",
   "id": "47fd0f93",
   "metadata": {},
   "source": [
    "## Booleanos"
   ]
  },
  {
   "cell_type": "markdown",
   "id": "a433d18b",
   "metadata": {},
   "source": [
    "Existen operaciones para operar con booleanos y formar expresiones booleanas más complejas. Éstas son de gran utilidad para formar condiciones, por ejemplo para bucles while y sentencias if-else (se verán más adelante).\n",
    "\n",
    "Los operadores básicos que veremos en este tutorial son:\n",
    "\n",
    "* **not**: niega el valor booleano\n",
    "* **and**: conjunción\n",
    "* **or**: disyunción\n",
    "\n",
    "_**Nota:** Todos estos operadores son infijos, (al igual que las operaciones de suma, multiplicación, ...)._"
   ]
  },
  {
   "cell_type": "code",
   "execution_count": 23,
   "id": "7117a878",
   "metadata": {},
   "outputs": [
    {
     "name": "stdout",
     "output_type": "stream",
     "text": [
      "El valor real es: True. El valor negado es: False\n",
      "True and False es False\n",
      "True or False es True\n"
     ]
    }
   ],
   "source": [
    "# not\n",
    "b = True\n",
    "print(\"El valor real es: {}. El valor negado es: {}\".format(b, not b))\n",
    "\n",
    "# and\n",
    "b1 = True\n",
    "b2 = False\n",
    "print(\"{} and {} es {}\".format(b1, b2, b1 and b2))\n",
    "\n",
    "# or\n",
    "b1 = True\n",
    "b2 = False\n",
    "print(\"{} or {} es {}\".format(b1, b2, b1 or b2))"
   ]
  },
  {
   "cell_type": "code",
   "execution_count": 24,
   "id": "a92466e0",
   "metadata": {},
   "outputs": [
    {
     "name": "stdout",
     "output_type": "stream",
     "text": [
      "True\n",
      "False\n",
      "True\n",
      "False\n"
     ]
    }
   ],
   "source": [
    "# El orden de precedencia es similar a los operadores aritméticos, donde la negación es como la potencia, la \n",
    "# conjunción es como la multiplicación, la disyunción es como la suma\n",
    "\n",
    "print(True or False and False)   # Esto es igual que (True or (False and False)): True\n",
    "\n",
    "print((True or False) and False) # Esto es igual que ((True or False) and False): False\n",
    "\n",
    "print(not True or True)          # Esto es igual que ((not True) or True): True\n",
    "\n",
    "print(not (True or True))        # Esto es igual que (not (True or True)): False"
   ]
  },
  {
   "cell_type": "markdown",
   "id": "c754b3f0",
   "metadata": {},
   "source": [
    "---"
   ]
  },
  {
   "cell_type": "markdown",
   "id": "617619db",
   "metadata": {},
   "source": [
    "## Estructuras de Control"
   ]
  },
  {
   "cell_type": "markdown",
   "id": "15ac1995",
   "metadata": {},
   "source": [
    "Las estructuras de control sirven para definir flujos de ejecución dentro de un programa. Las estructuras básicas de control son:\n",
    "* **If-else**: estructura condicional\n",
    "* **Bucle for**: estructura de bucle for\n",
    "* **Bucle while**: estructura de bucle while\n",
    "\n",
    "<div class=\"alert alert-block alert-info\">\n",
    "<i class=\"fa fa-info-circle\" aria-hidden=\"true\"></i>\n",
    "En python no existen llaves como en otros lenguajes (java, C, ...) para definir (o delimitar )bloques de código. Por el contrario, en python existe la indentación, que consiste en <strong>4 espacios consecutivos</strong>, para definir los bloques de código.\n",
    "</div>"
   ]
  },
  {
   "cell_type": "markdown",
   "id": "b5d64b8f",
   "metadata": {},
   "source": [
    "La estructura condicional permite **bifurcar el flujo de la ejecución de un programa** en dos alternativas. Mediante el uso de una expresión booleana (que se resuelve como `True` o `False`), perimte ejecutar uno u otro bloque, asociados a cada uno de los posibles valores booleanos."
   ]
  },
  {
   "cell_type": "code",
   "execution_count": 25,
   "id": "fd94d329",
   "metadata": {},
   "outputs": [
    {
     "name": "stdin",
     "output_type": "stream",
     "text": [
      "Introduce un número entero 7\n"
     ]
    },
    {
     "name": "stdout",
     "output_type": "stream",
     "text": [
      "Has introducido un número impar\n"
     ]
    }
   ],
   "source": [
    "\"\"\"\n",
    "if condición booleana:\n",
    "    # indentación de 4 espacios para definir código dentro del if.\n",
    "    código ejecutado si condición es True\n",
    "else:\n",
    "    # indentación de 4 espacios para definir código dentro del else.\n",
    "    código ejecutado si condición es False\n",
    "\"\"\"\n",
    "\n",
    "x = int(input(\"Introduce un número entero\"))  # Nos aseguramos de que el número introducido sea un int\n",
    "\n",
    "if x % 2 == 0:\n",
    "    print(\"Has introducido un número par\")\n",
    "else:\n",
    "    print(\"Has introducido un número impar\")"
   ]
  },
  {
   "cell_type": "markdown",
   "id": "329c8cab",
   "metadata": {},
   "source": [
    "La estructura de bucle for permite **repetir un bloque de código** tantas veces como elementos tenga una **lista**. En cada iteración sobre el bucle, una variable tomará el valor de cada uno de los elementos de esa lista."
   ]
  },
  {
   "cell_type": "code",
   "execution_count": 43,
   "id": "2dd92e0f",
   "metadata": {},
   "outputs": [
    {
     "name": "stdout",
     "output_type": "stream",
     "text": [
      "Soy el número 1\n",
      "Soy el número 2\n",
      "Soy el número 3\n",
      "Soy el número 4\n"
     ]
    }
   ],
   "source": [
    "\"\"\"\n",
    "for variable in lista:\n",
    "    # indentación de 4 espacios para definir código dentro del for.\n",
    "    código a ejecutar dentro del bucle, donde variable toma cada uno de los valores de la lista\n",
    "    (el código se ejecutará tantas veces como valores diferentes haya en la lista)\n",
    "\"\"\"\n",
    "for i in [1, 2, 3, 4]:\n",
    "    print(\"Soy el número {:d}\".format(i))"
   ]
  },
  {
   "cell_type": "markdown",
   "id": "85fbf877",
   "metadata": {},
   "source": [
    "La estructura de bucle for permite **repetir un bloque de código** en función de una expresión **booleana**. Al comienzo de cada iteración se comprobará el valor de esta expresión, y se continuará ejecutando el bucle si la condición es `True`, y se terminará en caso contrario (`False`)"
   ]
  },
  {
   "cell_type": "code",
   "execution_count": 44,
   "id": "6bc7d994",
   "metadata": {},
   "outputs": [
    {
     "name": "stdout",
     "output_type": "stream",
     "text": [
      "Soy el número 1\n",
      "Soy el número 2\n",
      "Soy el número 3\n",
      "Soy el número 4\n"
     ]
    }
   ],
   "source": [
    "\"\"\"\n",
    "while condición:\n",
    "    # indentación de 4 espacios para definir código dentro del for.\n",
    "    código a ejecutar dentro del bucle, donde variable toma cada uno de los valores de la lista\n",
    "    (el código se ejecutará tantas veces como valores diferentes haya en la lista)\n",
    "\"\"\"\n",
    "x = 1\n",
    "while x < 5:\n",
    "    print(\"Soy el número {:d}\".format(x))\n",
    "    x += 1"
   ]
  },
  {
   "cell_type": "markdown",
   "id": "8c6bf408",
   "metadata": {},
   "source": [
    "## Funciones Built-in"
   ]
  },
  {
   "cell_type": "markdown",
   "id": "d8f2b9d2",
   "metadata": {},
   "source": [
    "Una **función** es un bloque que parte de unas entradas (argumentos), que son utilizados por un código que ejecuta internamente para devolver una salida. Por ejemplo, la función `sum(x, y)` es una función que recibe dos números `x` e `y`, y devuelve como salida la suma de ambos. El uso de una función se realiza mediante su nombre (`sum`) e introduciendo la lista de variables de entrada (**argumentos**), separadas por comas, entre paréntesis: por ejemplo al ejecutar `sum(2,3)` devuelve 5.\n",
    "\n",
    "En este [enlace](https://docs.python.org/3.6/library/functions.html) se puede ver la lista de funciones built-in en Python 3.6. Éstas son funciones que están disponibles desde que se inicia el intérprete. A continuación se describen las que pueden resultar de mayor interes durante el curso. Éstas son un subconjunto de las más importantes:\n",
    "\n",
    "* **abs**: Computa el valor absoluto\n",
    "* **bool**: Fuerza un elemento (cast) a ser de tipo booleano\n",
    "* **int**: Fuerza un elemento (cast) a ser de tipo entero\n",
    "* **float**: Fuerza un elemento (cast) a ser de tipo flotante\n",
    "* **str**: Fuerza un elemento (cast) a ser de tipo string\n",
    "* **divmod**: Calcula el módulo (resto de una división)\n",
    "* **input**: Permite solicitar un valor por teclado para, por ejemplo, signarlo a una variable. \n",
    "* **max** _(iterable)_: Computa el máximo entre los números pasados como argumentos\n",
    "* **min** _(iterable)_: Computa el mínimo entre los números pasados como argumentos\n",
    "* **pow**: Computa la potencia del primer argumento (base) con el segundo argumento (exponente)\n",
    "* **print**: Función que imprime en la salida el string pasado como argumento. Si no es un string, intentará castearlo a string.\n",
    "* **range** Genera un rango de enteros (secuencia de números enteros)\n",
    "* **round**: Redondea un número flotante a entero. **Utiliza el método de redondeo del banquero**.\n",
    "* **type**: Devuelve el tipo de la variable pasada como argumento.\n",
    "\n",
    "\n",
    "<div class=\"alert alert-block alert-info\">\n",
    "<i class=\"fa fa-info-circle\" aria-hidden=\"true\"></i>\n",
    "    <strong>Nota 1</strong>: Las funciones en las que se indica la palabra <i>iterable</i> se volverán a utilizar en el Tutorial de Python II, donde se explicará qué significa <i>\"iterable\"</i>.\n",
    "</div>"
   ]
  },
  {
   "cell_type": "code",
   "execution_count": 45,
   "id": "06039e0d",
   "metadata": {},
   "outputs": [
    {
     "name": "stdout",
     "output_type": "stream",
     "text": [
      "[5, 7, 9]\n",
      "[10, 9, 8, 7]\n",
      "[1, 2]\n",
      "[]\n",
      "[0, 1, 2, 3, 4]\n"
     ]
    }
   ],
   "source": [
    "# Range permite especificar una secuencia de enteros. Tiene 3 argumentos:\n",
    "# range(valor inicial inclusive, valor final exclusive, incremento)\n",
    "\n",
    "# Nota: utilizaremos la función list() para poder visualizar la secuencia\n",
    "# de valores devuelta por range. \n",
    "\n",
    "print( list(range(5, 10, 2)) )  # 5, 7 y 9\n",
    "\n",
    "print( list(range(10, 6, -1)) )  # 10, 9 y 8 y 7\n",
    "\n",
    "# Algunos argumentos se pueden omitir. Si solo se especifican 2, corresponden\n",
    "# con el valor inicial y final, y se supone el incremento = +1\n",
    "print( list(range(1, 3)) )  # 1 y 2\n",
    "\n",
    "# Por ello, si se empieza en 3 y se termina en 1 con incrementos de +1, la secuencia es vacía\n",
    "print( list(range(3, 1)) )  # Secuencia vacía\n",
    "\n",
    "# Si solo se especifica un argumento, éste es el valor final, siendo el valor\n",
    "# inicial 0, y el incremento +1\n",
    "print( list(range(5)) )  # 0, 1, 2, 3 y 4"
   ]
  },
  {
   "cell_type": "code",
   "execution_count": 46,
   "id": "d2677dcb",
   "metadata": {},
   "outputs": [
    {
     "name": "stdout",
     "output_type": "stream",
     "text": [
      "10\n",
      "11\n",
      "11\n",
      "12\n",
      "====\n",
      "10\n",
      "-10\n",
      "12\n",
      "-12\n"
     ]
    }
   ],
   "source": [
    "# Función round. Redondea al entero siguiendo el método del banquero:\n",
    "# Se trata de un redondeo más justo. Es un redondeo típoco si la parte\n",
    "# decimal es >.5 o <.5. Sin embargo, si es exactamente .5: si la parte\n",
    "# entera es par, se redondea como si fuese <.5, y si es impar como si fuese > .5\n",
    "\n",
    "# Si la parte entera es par\n",
    "print( round(10.4) )  # 10.4 se redondea a 10\n",
    "print( round(10.6) )  # 10.6 se redondea a 11\n",
    "# Si la parte entera es impar\n",
    "print( round(11.4) )  # 11.4 se redondea a 11\n",
    "print( round(11.6) )  # 11.6 se redondea a 12\n",
    "\n",
    "print(\"====\")\n",
    "# En cambio, si la parte decimal es .5 exactamente\n",
    "# Si la parte entera es par\n",
    "print( round(10.5) )  # 10.5 se redondea a 10\n",
    "print( round(-10.5) ) # -10.5 se redondea a 10\n",
    "# Si la parte entera es impar\n",
    "print( round(11.5) )  # 11.5 se redondea a 12\n",
    "print( round(-11.5) ) # -11.5 se redondea a -12"
   ]
  },
  {
   "cell_type": "markdown",
   "id": "415233e8",
   "metadata": {},
   "source": [
    "## Funciones"
   ]
  },
  {
   "cell_type": "markdown",
   "id": "31b46cb3",
   "metadata": {},
   "source": [
    "Las funciones permiten nombrar a bloques de código para ser reutilizados en múltiples partes de nuestro programa.\n",
    "\n",
    "Como vimos en las funciones built-in, éstas se caracterizan por un número de entradas (**argumentos**) y una **salida**.\n",
    "\n",
    "Se crean usando la palabra reserada **def** seguido del **nombre** de la función (para que sea un nombre válido, debe cumplir las mismas condiciones que el nombrado de variables), y **entre paréntesis el nombre de los argumentos separados por comas** (si no tiene argumentos, tan solo los paréntesis). Si la función tiene una salida (ésta es opcional) se usa **return** para especificar qué devuelve."
   ]
  },
  {
   "cell_type": "code",
   "execution_count": 47,
   "id": "e2877ef0",
   "metadata": {},
   "outputs": [],
   "source": [
    "def sumar(x, y):\n",
    "    return x + y"
   ]
  },
  {
   "cell_type": "code",
   "execution_count": 48,
   "id": "34c06ca8",
   "metadata": {},
   "outputs": [
    {
     "data": {
      "text/plain": [
       "8"
      ]
     },
     "execution_count": 48,
     "metadata": {},
     "output_type": "execute_result"
    }
   ],
   "source": [
    "# Para usarla, igual que con las fucniones built-in\n",
    "sumar(2, 6)"
   ]
  },
  {
   "cell_type": "code",
   "execution_count": 49,
   "id": "b1f8648e",
   "metadata": {},
   "outputs": [
    {
     "data": {
      "text/plain": [
       "\u001b[1;31mSignature:\u001b[0m \u001b[0mmi_funcion\u001b[0m\u001b[1;33m(\u001b[0m\u001b[1;33m)\u001b[0m\u001b[1;33m\u001b[0m\u001b[1;33m\u001b[0m\u001b[0m\n",
       "\u001b[1;31mDocstring:\u001b[0m\n",
       "Esto es un docstring.\n",
       "Esta funcion no tiene argumentos ni salida.\n",
       "\u001b[1;31mFile:\u001b[0m      c:\\users\\luisi\\appdata\\local\\temp\\ipykernel_17864\\3139835716.py\n",
       "\u001b[1;31mType:\u001b[0m      function\n"
      ]
     },
     "metadata": {},
     "output_type": "display_data"
    }
   ],
   "source": [
    "def mi_funcion():\n",
    "    \"\"\"\n",
    "    Esto es un docstring.\n",
    "    Esta funcion no tiene argumentos ni salida.\n",
    "    \"\"\"\n",
    "    print(\"Mi primera función\")\n",
    "\n",
    "?mi_funcion"
   ]
  },
  {
   "cell_type": "code",
   "execution_count": 50,
   "id": "4579f001",
   "metadata": {},
   "outputs": [
    {
     "data": {
      "text/plain": [
       "\u001b[1;31mSignature:\u001b[0m \u001b[0msumar\u001b[0m\u001b[1;33m(\u001b[0m\u001b[0mx\u001b[0m\u001b[1;33m,\u001b[0m \u001b[0my\u001b[0m\u001b[1;33m)\u001b[0m\u001b[1;33m\u001b[0m\u001b[1;33m\u001b[0m\u001b[0m\n",
       "\u001b[1;31mDocstring:\u001b[0m\n",
       "Esta función devuelve la suma de dos entradas. En este ejemplo usamos el estilo de Google\n",
       "https://sphinxcontrib-napoleon.readthedocs.io/en/latest/example_google.html\n",
       "\n",
       "Args:\n",
       "  x: Primer número a sumar\n",
       "  y: Segundo número a sumar\n",
       "\n",
       "Returns:\n",
       "  La suma de x e y\n",
       "\u001b[1;31mFile:\u001b[0m      c:\\users\\luisi\\appdata\\local\\temp\\ipykernel_17864\\3877767619.py\n",
       "\u001b[1;31mType:\u001b[0m      function\n"
      ]
     },
     "metadata": {},
     "output_type": "display_data"
    }
   ],
   "source": [
    "def sumar(x, y):\n",
    "    \"\"\"\n",
    "    Esta función devuelve la suma de dos entradas. En este ejemplo usamos el estilo de Google\n",
    "    https://sphinxcontrib-napoleon.readthedocs.io/en/latest/example_google.html\n",
    "    \n",
    "    Args:\n",
    "      x: Primer número a sumar\n",
    "      y: Segundo número a sumar\n",
    "    \n",
    "    Returns:\n",
    "      La suma de x e y\n",
    "    \"\"\"\n",
    "    return x + y\n",
    "\n",
    "?sumar"
   ]
  },
  {
   "cell_type": "code",
   "execution_count": 51,
   "id": "e98a45e1",
   "metadata": {},
   "outputs": [
    {
     "name": "stdout",
     "output_type": "stream",
     "text": [
      "La suma de 5.300000 y 7.900000 es 13.200000\n"
     ]
    }
   ],
   "source": [
    "x = 5.3\n",
    "y = 7.9\n",
    "suma = sumar(x, y)\n",
    "print(\"La suma de {:f} y {:f} es {:f}\".format(x, y, suma))"
   ]
  },
  {
   "cell_type": "code",
   "execution_count": 52,
   "id": "be50a980",
   "metadata": {},
   "outputs": [],
   "source": [
    "# Definición de una función más compleja (haciendo uso de la definida anteriormente)\n",
    "def mi_funcion_multiplica_enteros(x, y):\n",
    "    \"\"\"\n",
    "    Esta función devuelve la multiplicación de dos números enteros\n",
    "    Args:\n",
    "        x: Primer número a multiplicar (número entero)\n",
    "        y: Segundo número a multiplicar (número entero)\n",
    "    Returns\n",
    "        La multiplicación de x e y (número entero)\n",
    "    \"\"\"\n",
    "    # Aseguramos que x e y son números enteros\n",
    "    x = int(x)\n",
    "    y = int(y)\n",
    "    # Hacemos uso de la función mi_funcion_suma para multiplicar\n",
    "    suma = 0\n",
    "    for _ in range(y):  # Itera sin tener en cuenta la variable\n",
    "        suma = sumar(suma, x)  # Acumula x y veces en la variable suma\n",
    "    return suma"
   ]
  },
  {
   "cell_type": "code",
   "execution_count": 53,
   "id": "5c06f802",
   "metadata": {},
   "outputs": [
    {
     "name": "stdout",
     "output_type": "stream",
     "text": [
      "La multiplicación de 5 por 7 es 35\n"
     ]
    }
   ],
   "source": [
    "x = 5\n",
    "y = 7\n",
    "multiplicacion = mi_funcion_multiplica_enteros(x, y)\n",
    "print(\"La multiplicación de {:d} por {:d} es {:d}\".format(x, y, multiplicacion))"
   ]
  },
  {
   "cell_type": "markdown",
   "id": "cf909da2",
   "metadata": {},
   "source": [
    "<div class=\"alert alert-block alert-info\">\n",
    "<i class=\"fa fa-info-circle\" aria-hidden=\"true\"></i>\n",
    "En el ejemplo anterior, el bucle for declara la variable de iteración usando _. Ésta es una forma de declarar variables anónimas: de esta manera permite que la variable no se cree ni consuma espacio en memoria (útil cuando no vayamos a hacer uso de la variable)\n",
    "</div>"
   ]
  },
  {
   "cell_type": "markdown",
   "id": "3cf91840",
   "metadata": {},
   "source": [
    "Cuando se llama a una función, los argumentos pueden ser proporcionados en **orden** o por **nombre**."
   ]
  },
  {
   "cell_type": "code",
   "execution_count": 54,
   "id": "af8d57ab",
   "metadata": {},
   "outputs": [
    {
     "name": "stdout",
     "output_type": "stream",
     "text": [
      "3\n",
      "3\n",
      "3\n"
     ]
    }
   ],
   "source": [
    "def suma(x, y):\n",
    "    return x + y\n",
    "\n",
    "print(suma(1,2))      # En orden\n",
    "print(suma(x=1, y=2)) # Por nombre\n",
    "print(suma(y=2, x=1)) # ¡Por nombre y cambiando el orden!"
   ]
  },
  {
   "cell_type": "markdown",
   "id": "156020c4",
   "metadata": {},
   "source": [
    "Las funciones se pueden declarar con valores por defecto para ciertos parámetros. Sin embargo, los parámetros tienen que estar ordenados en este caso:\n",
    "\n",
    "* Primero los parámetros obligatorios (sin valores por defecto)\n",
    "* Después los parámetros opcionales (con valores por defecto)"
   ]
  },
  {
   "cell_type": "code",
   "execution_count": 55,
   "id": "2d4cbf81",
   "metadata": {},
   "outputs": [
    {
     "name": "stdout",
     "output_type": "stream",
     "text": [
      "Estos son los parametros introducidos: a, b, Opcional y 5\n",
      "Estos son los parametros introducidos: a, b, Otra cosa y 5\n",
      "Estos son los parametros introducidos: a, b, Opcional y 100\n"
     ]
    }
   ],
   "source": [
    "def mi_funcion(req1, req2, opt1=\"Opcional\", opt2=5):\n",
    "    print(\"Estos son los parametros introducidos: {}, {}, {} y {}\".format(req1, req2, opt1, opt2))\n",
    "\n",
    "mi_funcion('a', 'b')\n",
    "mi_funcion('a', 'b', \"Otra cosa\")\n",
    "mi_funcion('a', 'b', opt2=100)"
   ]
  },
  {
   "cell_type": "markdown",
   "id": "234b6ec4",
   "metadata": {},
   "source": [
    "---\n",
    "\n",
    "## Advertencia\n",
    "\n",
    "<div class=\"alert alert-block alert-warning\">\n",
    "<i class=\"fa fa-exclamation-circle\" aria-hidden=\"true\"></i>\n",
    "¡Cuidado con el nombrado de las variables en Python, y en especial al usar jupyter notebooks!\n",
    "\n",
    "<ul>\n",
    "    <li> La asignación se encarga de crear la variable si no existe</li>\n",
    "    <li> La asignación modifica el valor de la variable si existe ¡y puede asignar un valor de un tipo diferente! (dinámicamente se cambia el tipo)</li>\n",
    "</ul>\n",
    "\n",
    "¡Esto significa que podemos machacar variables, funciones y paquetes por error!\n",
    "\n",
    "</div>"
   ]
  },
  {
   "cell_type": "code",
   "execution_count": 56,
   "id": "e853bc58",
   "metadata": {},
   "outputs": [],
   "source": [
    "def suma(x, y):\n",
    "    return x + y"
   ]
  },
  {
   "cell_type": "code",
   "execution_count": 57,
   "id": "e0c729e5",
   "metadata": {},
   "outputs": [
    {
     "data": {
      "text/plain": [
       "3"
      ]
     },
     "execution_count": 57,
     "metadata": {},
     "output_type": "execute_result"
    }
   ],
   "source": [
    "resultado = suma(1, 2)\n",
    "resultado"
   ]
  },
  {
   "cell_type": "code",
   "execution_count": 58,
   "id": "6574dd2e",
   "metadata": {},
   "outputs": [],
   "source": [
    "suma = 2 + 3"
   ]
  },
  {
   "cell_type": "code",
   "execution_count": 59,
   "id": "1faa0165",
   "metadata": {},
   "outputs": [
    {
     "ename": "TypeError",
     "evalue": "'int' object is not callable",
     "output_type": "error",
     "traceback": [
      "\u001b[1;31m---------------------------------------------------------------------------\u001b[0m",
      "\u001b[1;31mTypeError\u001b[0m                                 Traceback (most recent call last)",
      "\u001b[1;32m~\\AppData\\Local\\Temp/ipykernel_17864/1143699060.py\u001b[0m in \u001b[0;36m<module>\u001b[1;34m\u001b[0m\n\u001b[1;32m----> 1\u001b[1;33m \u001b[0msuma\u001b[0m\u001b[1;33m(\u001b[0m\u001b[1;36m1\u001b[0m\u001b[1;33m,\u001b[0m \u001b[1;36m2\u001b[0m\u001b[1;33m)\u001b[0m\u001b[1;33m\u001b[0m\u001b[1;33m\u001b[0m\u001b[0m\n\u001b[0m",
      "\u001b[1;31mTypeError\u001b[0m: 'int' object is not callable"
     ]
    }
   ],
   "source": [
    "suma(1, 2)"
   ]
  }
 ],
 "metadata": {
  "hide_input": false,
  "kernelspec": {
   "display_name": "Python 3 (ipykernel)",
   "language": "python",
   "name": "python3"
  },
  "language_info": {
   "codemirror_mode": {
    "name": "ipython",
    "version": 3
   },
   "file_extension": ".py",
   "mimetype": "text/x-python",
   "name": "python",
   "nbconvert_exporter": "python",
   "pygments_lexer": "ipython3",
   "version": "3.9.7"
  },
  "toc": {
   "base_numbering": 1,
   "nav_menu": {},
   "number_sections": true,
   "sideBar": true,
   "skip_h1_title": true,
   "title_cell": "Tabla de Contenidos",
   "title_sidebar": "Contenidos",
   "toc_cell": true,
   "toc_position": {},
   "toc_section_display": true,
   "toc_window_display": true
  },
  "varInspector": {
   "cols": {
    "lenName": 16,
    "lenType": 16,
    "lenVar": 40
   },
   "kernels_config": {
    "python": {
     "delete_cmd_postfix": "",
     "delete_cmd_prefix": "del ",
     "library": "var_list.py",
     "varRefreshCmd": "print(var_dic_list())"
    },
    "r": {
     "delete_cmd_postfix": ") ",
     "delete_cmd_prefix": "rm(",
     "library": "var_list.r",
     "varRefreshCmd": "cat(var_dic_list()) "
    }
   },
   "types_to_exclude": [
    "module",
    "function",
    "builtin_function_or_method",
    "instance",
    "_Feature"
   ],
   "window_display": false
  }
 },
 "nbformat": 4,
 "nbformat_minor": 5
}

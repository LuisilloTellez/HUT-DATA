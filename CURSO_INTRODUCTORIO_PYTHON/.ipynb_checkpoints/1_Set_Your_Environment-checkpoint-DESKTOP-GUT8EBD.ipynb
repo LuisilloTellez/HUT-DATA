{
 "cells": [
  {
   "cell_type": "markdown",
   "id": "d9126907",
   "metadata": {},
   "source": [
    "\n",
    "\n",
    "<br><br><br>\n",
    "<h1><font color=\"#00586D\" size=5>Módulo 1</font></h1>\n",
    "\n",
    "\n",
    "\n",
    "<h1><font color=\"#00586D\" size=6>Set Your Environment</font></h1>\n",
    "\n",
    "<br>\n",
    "<div style=\"text-align: left\">\n",
    "<font color=\"#95331E\" size=3>Luis Téllez</font><br>\n",
    "<font color=\"#95331E\" size=3>Curso de especialista en Ciencia de Datos</font><br>\n",
    "\n",
    "\n",
    "</div>"
   ]
  },
  {
   "cell_type": "markdown",
   "id": "ad8aead5",
   "metadata": {
    "toc": true
   },
   "source": [
    "<h1>Tabla de Contenidos<span class=\"tocSkip\"></span></h1>\n",
    "<div class=\"toc\"><ul class=\"toc-item\"><li><span><a href=\"#Introducción\" data-toc-modified-id=\"Introducción-1\"><span class=\"toc-item-num\">1&nbsp;&nbsp;</span>Introducción</a></span><ul class=\"toc-item\"><li><span><a href=\"#¿Por-qué-Python?\" data-toc-modified-id=\"¿Por-qué-Python?-1.1\"><span class=\"toc-item-num\">1.1&nbsp;&nbsp;</span>¿Por qué Python?</a></span></li><li><span><a href=\"#¿Qué-es-un-intérprete?\" data-toc-modified-id=\"¿Qué-es-un-intérprete?-1.2\"><span class=\"toc-item-num\">1.2&nbsp;&nbsp;</span>¿Qué es un intérprete?</a></span></li><li><span><a href=\"#Gestor-de-paquetes\" data-toc-modified-id=\"Gestor-de-paquetes-1.3\"><span class=\"toc-item-num\">1.3&nbsp;&nbsp;</span>Gestor de paquetes</a></span></li><li><span><a href=\"#Sistema-de-versionado-de-paquetes:\" data-toc-modified-id=\"Sistema-de-versionado-de-paquetes:-1.4\"><span class=\"toc-item-num\">1.4&nbsp;&nbsp;</span>Sistema de versionado de paquetes:</a></span></li><li><span><a href=\"#Creación-de-un-Entorno-Virtual-(Virtual-Environment)\" data-toc-modified-id=\"Creación-de-un-Entorno-Virtual-(Virtual-Environment)-1.5\"><span class=\"toc-item-num\">1.5&nbsp;&nbsp;</span>Creación de un Entorno Virtual (Virtual Environment)</a></span></li><li><span><a href=\"#¿Dónde-se-instalan-estos-paquetes?\" data-toc-modified-id=\"¿Dónde-se-instalan-estos-paquetes?-1.6\"><span class=\"toc-item-num\">1.6&nbsp;&nbsp;</span>¿Dónde se instalan estos paquetes?</a></span></li><li><span><a href=\"#Distribuciones-Alternativas-de-Python\" data-toc-modified-id=\"Distribuciones-Alternativas-de-Python-1.7\"><span class=\"toc-item-num\">1.7&nbsp;&nbsp;</span>Distribuciones Alternativas de Python</a></span></li><li><span><a href=\"#Anaconda\" data-toc-modified-id=\"Anaconda-1.8\"><span class=\"toc-item-num\">1.8&nbsp;&nbsp;</span>Anaconda</a></span></li><li><span><a href=\"#Recomendaciones\" data-toc-modified-id=\"Recomendaciones-1.9\"><span class=\"toc-item-num\">1.9&nbsp;&nbsp;</span>Recomendaciones</a></span></li></ul></li><li><span><a href=\"#TF-GPU-installation-(Win10)\" data-toc-modified-id=\"TF-GPU-installation-(Win10)-2\"><span class=\"toc-item-num\">2&nbsp;&nbsp;</span>TF-GPU installation (Win10)</a></span></li><li><span><a href=\"#Jupyter-Notebooks\" data-toc-modified-id=\"Jupyter-Notebooks-3\"><span class=\"toc-item-num\">3&nbsp;&nbsp;</span>Jupyter Notebooks</a></span></li><li><span><a href=\"#Github:-Where-the-Worlds-builds-Software\" data-toc-modified-id=\"Github:-Where-the-Worlds-builds-Software-4\"><span class=\"toc-item-num\">4&nbsp;&nbsp;</span>Github: Where the Worlds builds Software</a></span></li></ul></div>"
   ]
  },
  {
   "cell_type": "markdown",
   "id": "68bed3cb",
   "metadata": {},
   "source": [
    "# Python Crash Course"
   ]
  },
  {
   "cell_type": "code",
   "execution_count": 1,
   "id": "958803c6",
   "metadata": {},
   "outputs": [
    {
     "data": {
      "text/html": [
       "<style>.container { width:85% !important; }</style>"
      ],
      "text/plain": [
       "<IPython.core.display.HTML object>"
      ]
     },
     "metadata": {},
     "output_type": "display_data"
    }
   ],
   "source": [
    "# La libreta ocupa así el 85% de la pantalla\n",
    "from IPython.core.display import display, HTML\n",
    "display(HTML(\"<style>.container { width:85% !important; }</style>\"))"
   ]
  },
  {
   "cell_type": "markdown",
   "id": "203710f6",
   "metadata": {},
   "source": [
    "## Introducción\n",
    "\n",
    "Para poder profundizar en este tutorial, y sacarle partido, se recomienda leer los 2 primeros capítulos del siguiente libro:\n",
    "\n",
    "[Python for Data Analysis, 2e: Data Wrangling with Pandas, NumPy, and IPython](https://www.amazon.es/Python-Data-Analysis-Wrangling-IPython/dp/1491957662)"
   ]
  },
  {
   "cell_type": "markdown",
   "id": "cb7c7d7d",
   "metadata": {},
   "source": [
    "### ¿Por qué Python?\n",
    "* El uso de lenguajes de programación fuera del ámbito informático se ha vuelto imprescindible. (R, Matlab, Python, Julia,... )\n",
    "* ¿Qué tienen en común estos lenguajes?\n",
    "    1. Interactivo\n",
    "    2. Gran Comunidad\n",
    "    3. Aprendizaje\n",
    "* Python, además es un potente lenguaje de programación de propósito general.\n",
    "\n",
    "![Leng_prog](./Images/Lenguajes_programacion.jpg)\n",
    "\n",
    "[Fuente](https://spectrum.ieee.org/at-work/tech-careers/top-programming-language-2020)"
   ]
  },
  {
   "cell_type": "markdown",
   "id": "96fc8433",
   "metadata": {},
   "source": [
    "Python permite trabajar de manera sencilla con:\n",
    "\n",
    "* **Tratamiento de datos (Pandas)**\n",
    "* **ML, DL, Big Data (Scikit-learn, PySpark, Tensorflow, PyTorch)**\n",
    "* **Visualización (Matplotlib, Seaborn, Altair, Plotly)**\n",
    "* **Entornos Cloud (AWS, Google Cloud, Microsoft Azure)**\n",
    "\n",
    "Hay que tener en cuenta que aunque para Deep Learning, los frameworks más utilizados (Tensorflow, Keras, Pytorch) usan Python, aunque están implementados en C, la comunidad desarrolla en Python.\n",
    "\n",
    "Python permite también:\n",
    "\n",
    "* **Scripting**: no necesita compilación. Permite ejecutar código directamente en un\n",
    "intérprete.\n",
    "* **POO**: Está basado en programación orientada a objetos intuitiva y muy potente.\n",
    "* **Orden superior**: Elementos de la programación funcional y funciones de orden\n",
    "superior muy útiles para gestionar datos\n",
    "\n",
    "[Documentación Developers](https://docs.python.org/3/library/)"
   ]
  },
  {
   "cell_type": "markdown",
   "id": "997176cc",
   "metadata": {},
   "source": [
    "### ¿Qué es un intérprete?"
   ]
  },
  {
   "cell_type": "markdown",
   "id": "00d5d061",
   "metadata": {},
   "source": [
    "* Es un entorno de trabajo que contiene la información de lo que se está ejecutando (variables, funciones, paquetes importados, etc).\n",
    "* En Python todo código se ejecuta dentro de un intérprete.\n",
    "* Estos entornos de trabajo son aislados: los elementos en un entorno no son visibles en otros."
   ]
  },
  {
   "cell_type": "markdown",
   "id": "ed6622e0",
   "metadata": {},
   "source": [
    "![Hello_World](./Images/Hello_World.jpg)"
   ]
  },
  {
   "cell_type": "markdown",
   "id": "31a398ca",
   "metadata": {},
   "source": [
    "### Gestor de paquetes\n",
    "* Python incluye una serie de paquetes de por defecto “core”.\n",
    "* Se puede extender la funcionalidad instalando nuevos paquetes en el entorno de trabajo (numpy, pandas, requests, …).\n",
    "* Como hemos dicho, Python es un lenguaje interpretado, se puede descargar el código fuente de un paquete e importarlo (utilizarlo) en nuestro código.\n",
    "---\n",
    "* Por razones de comodidad y reproducibilidad se utiliza un gestor de paquetes y dependencias.\n",
    "* `pip` es el gestor de dependencias nativo de Python\n",
    "* Existe un repositorio de paquetes `pypi`, de donde `pip` instala los módulos\n",
    "* Se utiliza ejecutando el paquete con python (opción -m)\n",
    "\n",
    "`python -m pip --version`\n",
    "\n",
    "* Instalar un paquete\n",
    "`python -m pip install requests`\n",
    "\n",
    "* Actualizar un paquete\n",
    "`python -m pip install -U requests`\n",
    "\n",
    "* Desinstalar un paquete\n",
    "`python -m pip uninstall requests`\n",
    "\n",
    "`requests` es un paquete de ejemplo (sirve para hacer peticiones a IPs)\n",
    "\n",
    "---\n",
    "\n",
    "### Sistema de versionado de paquetes:\n",
    "* Los paquetes se versionan siguiendo un versionado semántico (semver)\n",
    "\n",
    "`<major>.<minor>.<patch>`\n",
    "\n",
    "`python -m pip install requests==2.20.1`\n",
    "\n",
    "* Por reproducibilidad se suelen almacenar las dependencias que necesitemos en un fichero (una por línea) llamado requirements.txt\n",
    "\n",
    "`python -m pip install -r requirements.txt`\n",
    "\n",
    "Es decir, cuando queráis reproducir sin ningún problema el notebook de alguien, éste os debe facilitar un archivo `requirements.txt` que si lo abrimos, tendrá la siguiente forma:\n",
    "\n",
    "    argon2-cffi==20.1.0\n",
    "\n",
    "    async-generator==1.10\n",
    "\n",
    "    attrs==20.3.0\n",
    "\n",
    "    backcall==0.2.0\n",
    "\n",
    "    bleach==3.2.1\n",
    "\n",
    "    certifi==2020.11.8\n",
    "\n",
    "Así, podremos \"simular\" el entorno en el que se ha creado dicho Notebook, y podremos ejecutarlo sin problema.\n",
    "\n",
    "Si lo que queremos es obtener el propio fichero de requirements.txt, desde la consola del [environment](https://pip.pypa.io/en/stable/reference/pip_freeze/), `python -m pip freeze > requirements.txt`"
   ]
  },
  {
   "cell_type": "markdown",
   "id": "421fca16",
   "metadata": {},
   "source": [
    "### Creación de un Entorno Virtual (Virtual Environment)"
   ]
  },
  {
   "cell_type": "markdown",
   "id": "5c1ad56d",
   "metadata": {},
   "source": [
    "Esto es muy importante, que esto nos va a permitir aislar los paquetes para distintos proyectos. Por defecto, los paquetes que instalemos se instalan en el environment `(base)(root)`, por tanto, es bueno no andar sobrescribiendo los distintos paquetes, y también que hay algunos proyectos o paquetes que pueden requerir de versiones anteriores de otros paquetes y con esto evitamos todos estos problemas.\n",
    "\n",
    "Si estamos trabajando desde la consola (en mi caso cmd de Windows), con Python abierto, utilizamos el siguiente comando:\n",
    "\n",
    "`python -m venv <nombre_del_entorno>`\n",
    "\n",
    "Para activarlo:\n",
    "`source nombre_entorno_virtual/bin/activate`\n",
    "\n",
    "Para desactivarlo:\n",
    "`deactivate`\n",
    "\n",
    "![venv](./Images/venv.jpg)\n",
    "\n",
    "![pip_install1](./Images/pip_install1.jpg)"
   ]
  },
  {
   "cell_type": "markdown",
   "id": "a623601a",
   "metadata": {},
   "source": [
    "### ¿Dónde se instalan estos paquetes?"
   ]
  },
  {
   "cell_type": "markdown",
   "id": "b9118e8f",
   "metadata": {},
   "source": [
    "* Existe una carpeta de sistema donde se descarga el código de los paquetes. Si instalamos una versión diferente de un paquete, sobreescribe la versión anterior.\n",
    "* Se desaconseja trabajar con el entorno de python del sistema. Los entornos virtuales permiten usar diferentes carpetas para almacenar las dependencias."
   ]
  },
  {
   "cell_type": "markdown",
   "id": "3b618cb6",
   "metadata": {},
   "source": [
    "### Distribuciones Alternativas de Python\n",
    "\n",
    "* Aunque Python es interpretado, existen ciertas librerías que se traducen a código compilado, como numpy.\n",
    "\n",
    "* Hay distribuciones que se encargan de mantener un correcto versionado de los paquetes, precompilados con respecto a sistemas operativos, arquitecturas hardware, etc\n",
    "\n",
    "* Uno de los más populares en el stack científico, y en particular orientado a data science y machine learning, es [Anaconda](https://www.anaconda.com/).\n",
    "\n",
    "* Intel dispone de una distribución propia sobre Anaconda, optimizado para la ejecución en procesadores Intel.\n",
    "\n",
    "---\n",
    "\n",
    "### Anaconda\n",
    "* Es una distribución open source de los lenguajes Python y R.\n",
    "* Incluye un gestor de paquetes así como de entornos virtuales llamado conda.\n",
    "* Anaconda-Navigator es una interfaz visual que facilita esta gestión.\n",
    "* El entorno base incluye una serie paquetes orientados al stack científico.\n",
    "\n",
    "![ANACONDA](./Images/ANACONDA.jpg)"
   ]
  },
  {
   "cell_type": "markdown",
   "id": "87dbd016",
   "metadata": {},
   "source": [
    "### Recomendaciones\n",
    "\n",
    "* Personalmente, si no estoy entrenando redes neuronales, me gusta trabajar en local, actualmente utilizo para ello el entorno de ANACONDA, que tiene todo lo que nos hace falta. Es cierto que las versiones de Python tardan algo en actualizarse conforme se va desarrollando, pero es debido a que este distribuidor busca hacer dicho traspaso de la manera más estable posible, y es cuestión de días que aparezcan dichas versiones en el entorno de ANACONDA.\n",
    "\n",
    "* Si no se van a hacer entrenamientos demasiado potentes (sin uso de GPU) trabajar en local está bien, aunque si queremos utilizar nuestra propia GPU, pues encontraremos algunos problemas que tendremos que resolver. Por ejemplo, para usar PyTorch con nuestra GPU debemos asegurarnos que tenemos instalado CUDA, que nuestra gráfica está dentro de las que tienen dicha arquitectura, tenemos que agregar algunas variables de entorno y es posible que algún paso más. **No** es nada trivial usar GPU para paralelizar un proceso, por tanto os recomendamos que siempre que podáis, utilicéis entornos que ya nos facilitan estos pasos, como es [Google Colab.](https://colab.research.google.com/notebooks/intro.ipynb)\n",
    "\n",
    "* Por defecto, Google Colab tiene instalados la mayoría de paquetes que podamos imaginar, aunque igual no los tiene en la versión que nos interesa, y tendremos que instalar paquetes usando un `!pip install <paquete>`."
   ]
  },
  {
   "cell_type": "markdown",
   "id": "92bd9faf",
   "metadata": {},
   "source": [
    "Aquí os dejo el único tutorial que me ha funcionado para conseguir instalar Tensorflow con GPU en local.\n",
    "\n",
    "## TF-GPU installation (Win10)\n",
    "\n",
    "1. Install anaconda, create environment.\n",
    "\n",
    "2. In cmd as admin, activate environment:\n",
    "\n",
    "```\n",
    "conda install cudatoolkit=11.0 cudnn=8.0 -c=conda-forge\n",
    "```\n",
    "\n",
    "```\n",
    "pip install --upgrade tensorflow-gpu==2.4.1\n",
    "```\n",
    "\n",
    "3. After that, in anaconda powershell:\n",
    "\n",
    "Activate environment, in python, check if GPU drivers are loaded correctly:\n",
    "\n",
    "```\n",
    "import tensorflow as tf\n",
    "tf.config.list_physical_devices('GPU')\n",
    "```"
   ]
  },
  {
   "cell_type": "markdown",
   "id": "aaa205d9",
   "metadata": {},
   "source": [
    "## Jupyter Notebooks"
   ]
  },
  {
   "cell_type": "markdown",
   "id": "df14525e",
   "metadata": {},
   "source": [
    "Como hemos comentado, **Python** fue diseñado como un lenguaje para **scripting**. La interfaz básica adolecía de varios problemas, como ejecutar bloques de código.\n",
    "\n",
    "El paquete **IPython** surgió para solventarlos (Interactive Python), que permitió:\n",
    "   * Gestión de bloques, no de líneas.\n",
    "   * Visualización de gráficos\n",
    "   * Ejecutar comandos de bash dentro del intérprete (usando la exclamación)\n",
    "    \n",
    "Como evolución de **IPython** surgió [Jupyter](https://jupyter.org/) y sus maravillosas ventajas:\n",
    "   * Nos permite interactuar con un intérprete de Python a través de una página web en el navegador.\n",
    "   * Una libreta se divide en celdas, donde podemos escribir código en Python y ejecutar cada una cuando queramos.\n",
    "   * IDE cómodo e interactivo (también muestra gráficos), perfecto para Data Scientist.\n",
    "   * Para otro tipo de proyectos, existen IDEs muy potentes como [PyCharm](https://www.jetbrains.com/pycharm/).\n",
    "   \n",
    "La evolución de **Jupyter Notebook** es **Jupyterlab**. Que incorpora algunas opciones muy interesantes.\n",
    "\n",
    "   * `python -m pip install jupyterlab`\n",
    "   \n",
    "---\n",
    "\n",
    "Volviendo a **Jupyter Notebooks**:\n",
    "\n",
    "   * Sigue un modelo cliente - servidor. El intérprete expone un servidor web. Accedemos desde cualquier navegador a través de la red.\n",
    "   * Una libreta tiene asociado un intérprete de Python, llamado Kernel.\n",
    "   * Las libretas se dividen en celdas, que pueden contener código en Python o texto en [Markdown](https://jupyter-notebook.readthedocs.io/en/stable/examples/Notebook/Working%20With%20Markdown%20Cells.html)\n",
    "   \n",
    "   \n",
    "Al trabajar con una libreta nos podemos encontrar en dos modos diferentes:\n",
    "   1. **Modo comandos**: no aparece el cursor en la celda. Se cambia a este modo pulsando escape, o clicando en la parte izquierda de la celda.\n",
    "   2. **Modo edición**: aparece el cursor en la celda. Se cambia a este modo pulsando enter, o clicando en la parte central de la celda."
   ]
  },
  {
   "cell_type": "markdown",
   "id": "35e180d7",
   "metadata": {},
   "source": [
    "## Github: Where the Worlds builds Software"
   ]
  },
  {
   "cell_type": "markdown",
   "id": "1b505087",
   "metadata": {},
   "source": [
    "De esta manera tan ambiciosa es como se define Github, una compañía fundada en 2008 que se utiliza como control de versiones [Git](https://es.wikipedia.org/wiki/Git).\n",
    "\n",
    "Es fundamental, ya que si cometemos algún error en el código y estamos bajo control de código fuente, podremos volver a la versión previa, podemos ver los cambios que se han realizado entre una versión y otra comparándolos. Podremos subir comentarios para entendernos con los demás en caso de compartir un proyecto, podremos ver los repositorios de gente profesional, preguntar dudas a la comunidad, ...\n",
    "\n",
    "[https://github.com/](https://github.com/)\n",
    "\n",
    "\n",
    "También existen otros controladores de versiones muy interesantes como Tortoise, un software Apache y por tanto gratuito.\n",
    "\n",
    "En mi caso que no soy demasiado experto en el tema, me gusta utilizar `Github Desktop`, una herramienta que simplifica mucho el uso de Git, y que además, es muy visual.\n",
    "\n",
    "https://desktop.github.com/\n",
    "\n",
    "![GIT](./Images/Git.jpg)"
   ]
  }
 ],
 "metadata": {
  "hide_input": false,
  "kernelspec": {
   "display_name": "Python 3",
   "language": "python",
   "name": "python3"
  },
  "language_info": {
   "codemirror_mode": {
    "name": "ipython",
    "version": 3
   },
   "file_extension": ".py",
   "mimetype": "text/x-python",
   "name": "python",
   "nbconvert_exporter": "python",
   "pygments_lexer": "ipython3",
   "version": "3.8.10"
  },
  "toc": {
   "base_numbering": 1,
   "nav_menu": {},
   "number_sections": true,
   "sideBar": true,
   "skip_h1_title": true,
   "title_cell": "Tabla de Contenidos",
   "title_sidebar": "Contenidos",
   "toc_cell": true,
   "toc_position": {},
   "toc_section_display": true,
   "toc_window_display": false
  },
  "varInspector": {
   "cols": {
    "lenName": 16,
    "lenType": 16,
    "lenVar": 40
   },
   "kernels_config": {
    "python": {
     "delete_cmd_postfix": "",
     "delete_cmd_prefix": "del ",
     "library": "var_list.py",
     "varRefreshCmd": "print(var_dic_list())"
    },
    "r": {
     "delete_cmd_postfix": ") ",
     "delete_cmd_prefix": "rm(",
     "library": "var_list.r",
     "varRefreshCmd": "cat(var_dic_list()) "
    }
   },
   "types_to_exclude": [
    "module",
    "function",
    "builtin_function_or_method",
    "instance",
    "_Feature"
   ],
   "window_display": false
  }
 },
 "nbformat": 4,
 "nbformat_minor": 5
}

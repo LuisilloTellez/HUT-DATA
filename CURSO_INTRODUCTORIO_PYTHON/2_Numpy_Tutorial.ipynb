{
 "cells": [
  {
   "cell_type": "markdown",
   "id": "cae90f9f",
   "metadata": {},
   "source": [
    "\n",
    "\n",
    "<br><br><br>\n",
    "<h1><font color=\"#00586D\" size=5>Módulo 1</font></h1>\n",
    "\n",
    "\n",
    "\n",
    "<h1><font color=\"#00586D\" size=6>Numpy - Tutorial</font></h1>\n",
    "\n",
    "<br>\n",
    "<div style=\"text-align: left\">\n",
    "<font color=\"#95331E\" size=3>Luis Téllez</font><br>\n",
    "<font color=\"#95331E\" size=3>Curso de especialista en Ciencia de Datos</font><br>\n",
    "\n",
    "\n",
    "</div>"
   ]
  },
  {
   "cell_type": "code",
   "execution_count": 2,
   "id": "8c9d27da",
   "metadata": {},
   "outputs": [],
   "source": [
    "# Tabla de contenidos"
   ]
  },
  {
   "cell_type": "markdown",
   "id": "3df8e49b",
   "metadata": {},
   "source": [
    "<h2><font color=\"#00586D\" size=5>Índice</font></h2>\n",
    "\n",
    "---\n",
    "\n",
    "El objetivo de este tutorial es conocer los flujos de control y las estructuras de datos básicas del lenguaje python.\n",
    "\n",
    "A modo de **índice**, en este tutorial se verán:\n",
    "\n",
    "\n",
    "1. Introducción\n",
    "2. Creación de arrays\n",
    "3. Indexación\n",
    "4. Vectorización\n",
    "5. Copias y vistas\n",
    "6. Cambio de dimensiones\n",
    "\n",
    "---"
   ]
  },
  {
   "cell_type": "markdown",
   "id": "10a72f8c",
   "metadata": {},
   "source": [
    "<a id=\"section1\"></a> \n",
    "<h2><font color=\"#00586D\" size=5> 1. Introducción</font></h2>\n",
    "<br>\n",
    "\n",
    "[__NumPy__](http://www.numpy.org) es la librería para procesamiento numérico de Python. Proporciona funcionalidades para el manejo _eficiente_ de vectores, y es la base de otras librerías, como _SciPy_, _Pandas_ o _Scikit-learn_.\n",
    "\n",
    "En estas libretas se presentarán, mediante ejemplos, los conceptos básicos de _Numpy_ que son necesarios para el seguimiento del máster. Dado que es una simple introducción, es posible que en momentos puntuales debamos ampliar la base de numpy. Esta introducción puede completarse con la abundante información existente en la red, y con la [documentación oficial](https://docs.scipy.org/doc/numpy/index.html). "
   ]
  },
  {
   "cell_type": "markdown",
   "id": "81f06da8",
   "metadata": {},
   "source": [
    "---\n",
    "<h1><font color=\"#00586D\" size=5>2. Creación de arrays </font></h1>\n",
    "\n",
    "En _NumPy_, un array (un objeto de la clase `ndarray`) es una secuencia _multidimensional_ de valores del **mismo tipo**. Aunque se pueden especificar _tipos complejos_, todos los elementos de un array deben ser del mismo tipo.\n",
    "\n",
    "Vamos a ver 4 formas diferentes de crear un numpy array:\n",
    "\n",
    "1. A partir de un iterable de python\n",
    "2. Usando generadores de secuencias, como `arange` y `linspace`\n",
    "3. Usando funciones específicas de numpy para construir estructuras con un patrón"
   ]
  }
 ],
 "metadata": {
  "kernelspec": {
   "display_name": "Python 3",
   "language": "python",
   "name": "python3"
  },
  "language_info": {
   "codemirror_mode": {
    "name": "ipython",
    "version": 3
   },
   "file_extension": ".py",
   "mimetype": "text/x-python",
   "name": "python",
   "nbconvert_exporter": "python",
   "pygments_lexer": "ipython3",
   "version": "3.8.10"
  }
 },
 "nbformat": 4,
 "nbformat_minor": 5
}

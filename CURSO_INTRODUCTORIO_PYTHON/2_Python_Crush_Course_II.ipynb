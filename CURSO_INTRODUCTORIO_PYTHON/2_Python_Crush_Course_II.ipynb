{
 "cells": [
  {
   "cell_type": "markdown",
   "id": "13d851ef",
   "metadata": {},
   "source": [
    "\n",
    "\n",
    "<br><br><br>\n",
    "<h1><font color=\"#00586D\" size=5>Módulo 1</font></h1>\n",
    "\n",
    "\n",
    "\n",
    "<h1><font color=\"#00586D\" size=6>Python Crash Course II </font></h1>\n",
    "\n",
    "<br>\n",
    "<div style=\"text-align: left\">\n",
    "<font color=\"#95331E\" size=3>Luis Téllez</font><br>\n",
    "<font color=\"#95331E\" size=3>Curso de especialista en Ciencia de Datos</font><br>\n",
    "\n",
    "\n",
    "</div>"
   ]
  },
  {
   "cell_type": "markdown",
   "id": "a150dbd7",
   "metadata": {
    "toc": true
   },
   "source": [
    "<h1>Tabla de Contenidos<span class=\"tocSkip\"></span></h1>\n",
    "<div class=\"toc\"><ul class=\"toc-item\"><li><span><a href=\"#Estructuras-de-Datos\" data-toc-modified-id=\"Estructuras-de-Datos-1\"><span class=\"toc-item-num\">1&nbsp;&nbsp;</span>Estructuras de Datos</a></span><ul class=\"toc-item\"><li><span><a href=\"#Listas\" data-toc-modified-id=\"Listas-1.1\"><span class=\"toc-item-num\">1.1&nbsp;&nbsp;</span>Listas</a></span><ul class=\"toc-item\"><li><span><a href=\"#-Creación-de-listas-\" data-toc-modified-id=\"-Creación-de-listas--1.1.1\"><span class=\"toc-item-num\">1.1.1&nbsp;&nbsp;</span><font color=\"#00586D\" size=\"3\"> Creación de listas </font></a></span></li><li><span><a href=\"#-Indexación:-acceso-a-los-elementos-de-una-lista-\" data-toc-modified-id=\"-Indexación:-acceso-a-los-elementos-de-una-lista--1.1.2\"><span class=\"toc-item-num\">1.1.2&nbsp;&nbsp;</span><font color=\"#00586D\" size=\"3\"> Indexación: acceso a los elementos de una lista </font></a></span></li><li><span><a href=\"#-Adición-de-elementos-\" data-toc-modified-id=\"-Adición-de-elementos--1.1.3\"><span class=\"toc-item-num\">1.1.3&nbsp;&nbsp;</span><font color=\"#00586D\" size=\"3\"> Adición de elementos </font></a></span></li><li><span><a href=\"#-Concatenación-de-elementos-\" data-toc-modified-id=\"-Concatenación-de-elementos--1.1.4\"><span class=\"toc-item-num\">1.1.4&nbsp;&nbsp;</span><font color=\"#00586D\" size=\"3\"> Concatenación de elementos </font></a></span></li><li><span><a href=\"#-Inserción-de-elementos-\" data-toc-modified-id=\"-Inserción-de-elementos--1.1.5\"><span class=\"toc-item-num\">1.1.5&nbsp;&nbsp;</span><font color=\"#00586D\" size=\"3\"> Inserción de elementos </font></a></span></li><li><span><a href=\"#-Borrado-de-elementos-\" data-toc-modified-id=\"-Borrado-de-elementos--1.1.6\"><span class=\"toc-item-num\">1.1.6&nbsp;&nbsp;</span><font color=\"#00586D\" size=\"3\"> Borrado de elementos </font></a></span></li><li><span><a href=\"#-Tamaño-de-la-lista\" data-toc-modified-id=\"-Tamaño-de-la-lista-1.1.7\"><span class=\"toc-item-num\">1.1.7&nbsp;&nbsp;</span><font color=\"#00586D\" size=\"3\"> Tamaño de la lista</font></a></span></li><li><span><a href=\"#-Operaciones-sobre-secuencias-de-elementos-(iterables)-\" data-toc-modified-id=\"-Operaciones-sobre-secuencias-de-elementos-(iterables)--1.1.8\"><span class=\"toc-item-num\">1.1.8&nbsp;&nbsp;</span><font color=\"#00586D\" size=\"3\"> Operaciones sobre secuencias de elementos (<em>iterables</em>) </font></a></span></li><li><span><a href=\"#-all-\" data-toc-modified-id=\"-all--1.1.9\"><span class=\"toc-item-num\">1.1.9&nbsp;&nbsp;</span><font color=\"#00586D\" size=\"3\"> all </font></a></span></li><li><span><a href=\"#-any-\" data-toc-modified-id=\"-any--1.1.10\"><span class=\"toc-item-num\">1.1.10&nbsp;&nbsp;</span><font color=\"#00586D\" size=\"3\"> any </font></a></span></li><li><span><a href=\"#-all-\" data-toc-modified-id=\"-all--1.1.11\"><span class=\"toc-item-num\">1.1.11&nbsp;&nbsp;</span><font color=\"#00586D\" size=\"3\"> all </font></a></span></li><li><span><a href=\"#-min-\" data-toc-modified-id=\"-min--1.1.12\"><span class=\"toc-item-num\">1.1.12&nbsp;&nbsp;</span><font color=\"#00586D\" size=\"3\"> min </font></a></span></li><li><span><a href=\"#-sum-\" data-toc-modified-id=\"-sum--1.1.13\"><span class=\"toc-item-num\">1.1.13&nbsp;&nbsp;</span><font color=\"#00586D\" size=\"3\"> sum </font></a></span></li></ul></li></ul></li><li><span><a href=\"#Comprehension-Lists\" data-toc-modified-id=\"Comprehension-Lists-2\"><span class=\"toc-item-num\">2&nbsp;&nbsp;</span>Comprehension Lists</a></span></li><li><span><a href=\"#Conjuntos\" data-toc-modified-id=\"Conjuntos-3\"><span class=\"toc-item-num\">3&nbsp;&nbsp;</span>Conjuntos</a></span><ul class=\"toc-item\"><li><ul class=\"toc-item\"><li><span><a href=\"#-Creación-de-conjuntos\" data-toc-modified-id=\"-Creación-de-conjuntos-3.0.1\"><span class=\"toc-item-num\">3.0.1&nbsp;&nbsp;</span><font color=\"#00586D\" size=\"3\"> Creación de conjuntos</font></a></span></li><li><span><a href=\"#-Inserción-de-elementos\" data-toc-modified-id=\"-Inserción-de-elementos-3.0.2\"><span class=\"toc-item-num\">3.0.2&nbsp;&nbsp;</span><font color=\"#00586D\" size=\"3\"> Inserción de elementos</font></a></span></li><li><span><a href=\"#-Eliminación-de-elementos\" data-toc-modified-id=\"-Eliminación-de-elementos-3.0.3\"><span class=\"toc-item-num\">3.0.3&nbsp;&nbsp;</span><font color=\"#00586D\" size=\"3\"> Eliminación de elementos</font></a></span></li><li><span><a href=\"#Pertenencia-de-elementos\" data-toc-modified-id=\"Pertenencia-de-elementos-3.0.4\"><span class=\"toc-item-num\">3.0.4&nbsp;&nbsp;</span><font color=\"#00586D\" size=\"3\">Pertenencia de elementos</font></a></span></li><li><span><a href=\"#-Operaciones-básicas-sobre-conjuntos\" data-toc-modified-id=\"-Operaciones-básicas-sobre-conjuntos-3.0.5\"><span class=\"toc-item-num\">3.0.5&nbsp;&nbsp;</span><font color=\"#00586D\" size=\"3\"> Operaciones básicas sobre conjuntos</font></a></span></li></ul></li></ul></li><li><span><a href=\"#Tuplas\" data-toc-modified-id=\"Tuplas-4\"><span class=\"toc-item-num\">4&nbsp;&nbsp;</span>Tuplas</a></span><ul class=\"toc-item\"><li><ul class=\"toc-item\"><li><span><a href=\"#-Creación-de-tuplas\" data-toc-modified-id=\"-Creación-de-tuplas-4.0.1\"><span class=\"toc-item-num\">4.0.1&nbsp;&nbsp;</span><font color=\"#00586D\" size=\"3\"> Creación de tuplas</font></a></span></li></ul></li><li><span><a href=\"#Asignación-múltiple\" data-toc-modified-id=\"Asignación-múltiple-4.1\"><span class=\"toc-item-num\">4.1&nbsp;&nbsp;</span><font color=\"#00586D\" size=\"4\">Asignación múltiple</font></a></span></li></ul></li><li><span><a href=\"#Diccionarios\" data-toc-modified-id=\"Diccionarios-5\"><span class=\"toc-item-num\">5&nbsp;&nbsp;</span>Diccionarios</a></span><ul class=\"toc-item\"><li><ul class=\"toc-item\"><li><span><a href=\"#-Creación-de-diccionarios\" data-toc-modified-id=\"-Creación-de-diccionarios-5.0.1\"><span class=\"toc-item-num\">5.0.1&nbsp;&nbsp;</span><font color=\"#00586D\" size=\"3\"> Creación de diccionarios</font></a></span></li><li><span><a href=\"#-Acceso-a-pares-clave-valor\" data-toc-modified-id=\"-Acceso-a-pares-clave-valor-5.0.2\"><span class=\"toc-item-num\">5.0.2&nbsp;&nbsp;</span><font color=\"#00586D\" size=\"3\"> Acceso a pares clave-valor</font></a></span></li><li><span><a href=\"#-Diccionarios-con-un-valor-por-defecto-\" data-toc-modified-id=\"-Diccionarios-con-un-valor-por-defecto--5.0.3\"><span class=\"toc-item-num\">5.0.3&nbsp;&nbsp;</span><font color=\"#00586D\" size=\"3\"> Diccionarios con un valor por defecto </font></a></span></li></ul></li></ul></li></ul></div>"
   ]
  },
  {
   "cell_type": "markdown",
   "id": "4374e775",
   "metadata": {},
   "source": [
    "## Estructuras de Datos"
   ]
  },
  {
   "cell_type": "markdown",
   "id": "54697c45",
   "metadata": {},
   "source": [
    "### Listas"
   ]
  },
  {
   "cell_type": "markdown",
   "id": "6bbbb457",
   "metadata": {},
   "source": [
    "Las listas son **secuencias de elementos** (análogo a los arrays en otros lenguajes). **No es necesario especificar el tamaño máximo** (crece según sea necesario) **ni el tipo de datos que albergará** (puede ser cualquier combinación).\n",
    "\n",
    "Las funciones que utlizaremos para gestionar las listas son:\n",
    "* **Creacón de listas**: `list` o `[]`\n",
    "* **Indexación**: acceso a los elementos de la lista usando los corchetes `[]`\n",
    "* **Insertar elementos al final**: `append`\n",
    "* **Concatenar**: Operador `+`\n",
    "* **Insertar un elemento en cualquier posición**: `insert`\n",
    "* **Borrar un elemento**: `del`\n",
    "* **Número de elementos en la lista**: `len`\n",
    "* Operaciones sobre **iterables**: all, any, max, min y sum"
   ]
  },
  {
   "cell_type": "markdown",
   "id": "5d96ffe8",
   "metadata": {},
   "source": [
    "#### <font color=\"#00586D\" size=3> Creación de listas </font>"
   ]
  },
  {
   "cell_type": "code",
   "execution_count": 1,
   "id": "ecb7ea09",
   "metadata": {},
   "outputs": [
    {
     "name": "stdout",
     "output_type": "stream",
     "text": [
      "[1, 2, 3, 'a', 'b', 4]\n"
     ]
    }
   ],
   "source": [
    "# Se crean de dos formas distintas:\n",
    "\n",
    "# Usando la función built-in list\n",
    "lista = list()\n",
    "# O usando los corchetes\n",
    "lista = []\n",
    "\n",
    "# La ventaja de usar los corchetes es que la podemos inicializar con una secuencia de valores:\n",
    "lista = [1, 2, 3, \"a\", \"b\", 4]\n",
    "print(lista)"
   ]
  },
  {
   "cell_type": "markdown",
   "id": "ee16a822",
   "metadata": {},
   "source": [
    "Si queremos acceder a todos los atributos de un objeto, podemos utilizar el comando `dir`."
   ]
  },
  {
   "cell_type": "code",
   "execution_count": 2,
   "id": "80a0d2ba",
   "metadata": {},
   "outputs": [
    {
     "data": {
      "text/plain": [
       "['__add__',\n",
       " '__class__',\n",
       " '__contains__',\n",
       " '__delattr__',\n",
       " '__delitem__',\n",
       " '__dir__',\n",
       " '__doc__',\n",
       " '__eq__',\n",
       " '__format__',\n",
       " '__ge__',\n",
       " '__getattribute__',\n",
       " '__getitem__',\n",
       " '__gt__',\n",
       " '__hash__',\n",
       " '__iadd__',\n",
       " '__imul__',\n",
       " '__init__',\n",
       " '__init_subclass__',\n",
       " '__iter__',\n",
       " '__le__',\n",
       " '__len__',\n",
       " '__lt__',\n",
       " '__mul__',\n",
       " '__ne__',\n",
       " '__new__',\n",
       " '__reduce__',\n",
       " '__reduce_ex__',\n",
       " '__repr__',\n",
       " '__reversed__',\n",
       " '__rmul__',\n",
       " '__setattr__',\n",
       " '__setitem__',\n",
       " '__sizeof__',\n",
       " '__str__',\n",
       " '__subclasshook__',\n",
       " 'append',\n",
       " 'clear',\n",
       " 'copy',\n",
       " 'count',\n",
       " 'extend',\n",
       " 'index',\n",
       " 'insert',\n",
       " 'pop',\n",
       " 'remove',\n",
       " 'reverse',\n",
       " 'sort']"
      ]
     },
     "execution_count": 2,
     "metadata": {},
     "output_type": "execute_result"
    }
   ],
   "source": [
    "dir(lista)"
   ]
  },
  {
   "cell_type": "markdown",
   "id": "78601cfb",
   "metadata": {},
   "source": [
    "#### <font color=\"#00586D\" size=3> Indexación: acceso a los elementos de una lista </font>"
   ]
  },
  {
   "cell_type": "code",
   "execution_count": 3,
   "id": "90482ce6",
   "metadata": {},
   "outputs": [
    {
     "name": "stdout",
     "output_type": "stream",
     "text": [
      "Imprimo el primer elemento 1\n",
      "Imprimo el último elemento 3\n",
      "Imprimo el último elemento 3\n",
      "Imprimo el primer elemento 1\n",
      "====\n",
      "[2]\n",
      "[1, 2]\n",
      "[2, 3]\n",
      "[1, 3]\n"
     ]
    }
   ],
   "source": [
    "lista = [1, 2, 3]\n",
    "\n",
    "# El acceso es mediante el índice (posición dentro de la lista). El primer elemento tiene el índice 0, y el último\n",
    "# el número de elementos menos 1\n",
    "x = lista[0]\n",
    "print(\"Imprimo el primer elemento {}\".format(x))\n",
    "\n",
    "x = lista[2]\n",
    "print(\"Imprimo el último elemento {}\".format(x))\n",
    "\n",
    "# Los índices pueden ser negativos. Esto indica que se empieza a contar en orden inverso (desde la última posición)\n",
    "# En este caso, -1 indica el último elemento, y el número de elementos negativo es el primer elemento.\n",
    "x = lista[-1]\n",
    "print(\"Imprimo el último elemento {}\".format(x))\n",
    "\n",
    "x = lista[-3]\n",
    "print(\"Imprimo el primer elemento {}\".format(x))\n",
    "\n",
    "print(\"====\")\n",
    "\n",
    "# Se puede acceder a una secuencia de elementos utilizando los denominados slice indices\n",
    "print(lista[1:2])    # Obtiene los elementos desde el índice 1 (inclusive) hasta el índice 2 (exclusive)\n",
    "\n",
    "# Se puede obviar tanto el índice a la izquierda como el de la derecha de los :\n",
    "# Si obviamos el de la izquierda, se supone el primer índice como 0\n",
    "print(lista[:2])     # Obtiene los elementos desde 0 (inclusive) hasta 2 (exclusive)\n",
    "\n",
    "# Si obviamos el de la derecha, se supone el último índice como el número de elementos (es decir, todos los elementos hasta el final)\n",
    "print(lista[1:])     # Obtiene los elementos desde 1 (inclusive) hasta 3 (exclusive)\n",
    "\n",
    "# Un tercer campo se utiliza para especificar el incremento, por defecto de +1 en +1\n",
    "print(lista[0:3:2])  # Obtiene los elementos 1 y 3"
   ]
  },
  {
   "cell_type": "markdown",
   "id": "d3f5a23e",
   "metadata": {},
   "source": [
    "#### <font color=\"#00586D\" size=3> Adición de elementos </font>"
   ]
  },
  {
   "cell_type": "code",
   "execution_count": 4,
   "id": "e1e17dbb",
   "metadata": {},
   "outputs": [
    {
     "name": "stdout",
     "output_type": "stream",
     "text": [
      "[1, 2, 3, 'c']\n"
     ]
    }
   ],
   "source": [
    "# Podemos extender la lista añadiendole nuevos elementos por el final\n",
    "lista = [1, 2, 3]\n",
    "lista.append('c')\n",
    "print(lista)"
   ]
  },
  {
   "cell_type": "markdown",
   "id": "fc76c2d2",
   "metadata": {},
   "source": [
    "<div class=\"alert alert-block alert-warning\">\n",
    "<i class=\"fa fa-exclamation-circle\" aria-hidden=\"true\"></i>\n",
    "Como una lista puede albergar cualquier elemento, puede albergar una lista también. Si ejecutamos `lista.append([1, 2, 3])` no introduce los elementos 1, 2 y 3, sino que introduce un elemento (lista) que contiene los elementos 1, 2 y 3.\n",
    "</div>"
   ]
  },
  {
   "cell_type": "code",
   "execution_count": 5,
   "id": "b89f5043",
   "metadata": {},
   "outputs": [
    {
     "name": "stdout",
     "output_type": "stream",
     "text": [
      "[1, 2, 3, [1, 2, 3]]\n"
     ]
    }
   ],
   "source": [
    "lista = [1, 2, 3]\n",
    "lista.append([1, 2, 3])\n",
    "print(lista)"
   ]
  },
  {
   "cell_type": "markdown",
   "id": "35185470",
   "metadata": {},
   "source": [
    "#### <font color=\"#00586D\" size=3> Concatenación de elementos </font>"
   ]
  },
  {
   "cell_type": "code",
   "execution_count": 6,
   "id": "4f3984f1",
   "metadata": {},
   "outputs": [
    {
     "name": "stdout",
     "output_type": "stream",
     "text": [
      "[1, 2, 3, 'a', 'b', 'c']\n",
      "[1, 2, 3]\n",
      "['a', 'b', 'c']\n"
     ]
    }
   ],
   "source": [
    "# Al igual que con los strings, las listas se pueden concatenar usando el operador +\n",
    "l1 = [1, 2, 3]\n",
    "l2 = ['a', 'b', 'c']\n",
    "print(l1 + l2)\n",
    "\n",
    "# Las listas l1 y l2 no han sido modificadas\n",
    "print(l1)\n",
    "print(l2)"
   ]
  },
  {
   "cell_type": "markdown",
   "id": "98e0c498",
   "metadata": {},
   "source": [
    "#### <font color=\"#00586D\" size=3> Inserción de elementos </font>"
   ]
  },
  {
   "cell_type": "code",
   "execution_count": 7,
   "id": "e36782ff",
   "metadata": {},
   "outputs": [
    {
     "name": "stdout",
     "output_type": "stream",
     "text": [
      "[1, 'a', 2, 3]\n",
      "['primer elemento', 1, 'a', 2, 3]\n",
      "['primer elemento', 1, 'a', 2, 3, 'último elemento']\n"
     ]
    }
   ],
   "source": [
    "# Existe la función insert para insertar un elemento en una posición determinada\n",
    "\n",
    "l = [1, 2, 3]\n",
    "l.insert(1, 'a')                 # Inserta el elemento 'a' (segundo argumento) en la posición 1 (primer argumento)\n",
    "                                 # Los índices van desde el 0 (primera posición) hasta la última (número de elementos menos 1)\n",
    "print(l)\n",
    "\n",
    "l.insert(0, 'primer elemento')   # Insertamos un elemento en la primera posición\n",
    "print(l)\n",
    "\n",
    "l.insert(5, 'último elemento')   # Insertamos un elemento en la última posición (la lista tiene 6 elementos)\n",
    "print(l)"
   ]
  },
  {
   "cell_type": "markdown",
   "id": "1089d271",
   "metadata": {},
   "source": [
    "#### <font color=\"#00586D\" size=3> Borrado de elementos </font>"
   ]
  },
  {
   "cell_type": "code",
   "execution_count": 8,
   "id": "0c93caac",
   "metadata": {},
   "outputs": [
    {
     "name": "stdout",
     "output_type": "stream",
     "text": [
      "3\n",
      "[1, 2, 4, 5]\n",
      "[1, 5]\n"
     ]
    }
   ],
   "source": [
    "# Permite borrar elementos de la lista. Para ello se indexa los elementos que queremos borrar, y se precede la palabra \"del\"\n",
    "l = [1, 2, 3, 4, 5]\n",
    "print( l[2] ) # Indexamos un elemento (el 3)\n",
    "\n",
    "del l[2]      # Lo borramos\n",
    "print(l)\n",
    "\n",
    "# Borramos una secuencia de elementos utilizando slice indices\n",
    "del l[1:3]\n",
    "print(l)"
   ]
  },
  {
   "cell_type": "code",
   "execution_count": 9,
   "id": "5952c9a4",
   "metadata": {},
   "outputs": [
    {
     "data": {
      "text/plain": [
       "5"
      ]
     },
     "execution_count": 9,
     "metadata": {},
     "output_type": "execute_result"
    }
   ],
   "source": [
    "l = [1, 2, 3, 4, 5]\n",
    "len(l)"
   ]
  },
  {
   "cell_type": "markdown",
   "id": "a9bae06d",
   "metadata": {},
   "source": [
    "#### <font color=\"#00586D\" size=3> Tamaño de la lista</font>"
   ]
  },
  {
   "cell_type": "code",
   "execution_count": 10,
   "id": "46624a2f",
   "metadata": {},
   "outputs": [
    {
     "name": "stdout",
     "output_type": "stream",
     "text": [
      "3\n",
      "c\n",
      "c\n"
     ]
    }
   ],
   "source": [
    "# Función que devuelve el número de elementos que tiene una lista\n",
    "l = ['a', 'b', 'c']\n",
    "print( len(l) )   # Imprimie el número de elementos: 'c'\n",
    "\n",
    "# Es útil para acceder al último elemento\n",
    "print(l[len(l)-1])\n",
    "\n",
    "# Aunque es mucho más simple utilizar los índices negativos\n",
    "print(l[-1])"
   ]
  },
  {
   "cell_type": "markdown",
   "id": "f4493bca",
   "metadata": {},
   "source": [
    "#### <font color=\"#00586D\" size=3> Operaciones sobre secuencias de elementos (_iterables_) </font>\n",
    "\n",
    "Un elemento **iterable** representa una secuencia de elementos: ejemplo de elementos iterables son las listas, los conjuntos, las tuplas y los diccionarios (tanto las claves como los valores). Las operaciones sobre iterables son operaciones que se pueden ejecutar recibiendo como argumento un elemento iterable."
   ]
  },
  {
   "cell_type": "code",
   "execution_count": 11,
   "id": "21dbd6aa",
   "metadata": {},
   "outputs": [
    {
     "data": {
      "text/plain": [
       "range(0, 5)"
      ]
     },
     "execution_count": 11,
     "metadata": {},
     "output_type": "execute_result"
    }
   ],
   "source": [
    "range(5) # esto es un iterable"
   ]
  },
  {
   "cell_type": "code",
   "execution_count": 12,
   "id": "3e109453",
   "metadata": {},
   "outputs": [
    {
     "name": "stdout",
     "output_type": "stream",
     "text": [
      "0\n",
      "1\n",
      "2\n",
      "3\n",
      "4\n"
     ]
    }
   ],
   "source": [
    "for i in range(5):\n",
    "    print(i)"
   ]
  },
  {
   "cell_type": "code",
   "execution_count": 13,
   "id": "af8bafc9",
   "metadata": {},
   "outputs": [
    {
     "data": {
      "text/plain": [
       "[0, 1, 2, 3, 4]"
      ]
     },
     "execution_count": 13,
     "metadata": {},
     "output_type": "execute_result"
    }
   ],
   "source": [
    "list(range(5))"
   ]
  },
  {
   "cell_type": "markdown",
   "id": "2923b983",
   "metadata": {},
   "source": [
    "#### <font color=\"#00586D\" size=3> all </font>"
   ]
  },
  {
   "cell_type": "code",
   "execution_count": 14,
   "id": "b29c4f81",
   "metadata": {},
   "outputs": [
    {
     "name": "stdout",
     "output_type": "stream",
     "text": [
      "False\n",
      "True\n"
     ]
    }
   ],
   "source": [
    "# Si la lista es una lista de booleanos, devuelve True si todos los elementos son True, y False en caso contrario\n",
    "l = [True, False, True]\n",
    "print(all(l))   # Imprime False\n",
    "\n",
    "l = [True, True, True]\n",
    "print(all(l))   # Imprime True"
   ]
  },
  {
   "cell_type": "markdown",
   "id": "d459cd1e",
   "metadata": {},
   "source": [
    "#### <font color=\"#00586D\" size=3> any </font>"
   ]
  },
  {
   "cell_type": "code",
   "execution_count": 15,
   "id": "700ab1fe",
   "metadata": {},
   "outputs": [
    {
     "name": "stdout",
     "output_type": "stream",
     "text": [
      "True\n",
      "False\n"
     ]
    }
   ],
   "source": [
    "# Si la lista es una lista de booleanos, devuelve True si alguno de los elementos es True, y False en caso contrario\n",
    "l = [True, False, True]\n",
    "print(any(l))   # Imprime True\n",
    "\n",
    "l = [False, False, False]\n",
    "print(any(l))   # Imprime True"
   ]
  },
  {
   "cell_type": "markdown",
   "id": "f4c9d6bd",
   "metadata": {},
   "source": [
    "#### <font color=\"#00586D\" size=3> all </font>"
   ]
  },
  {
   "cell_type": "code",
   "execution_count": 16,
   "id": "d87f3976",
   "metadata": {},
   "outputs": [
    {
     "data": {
      "text/plain": [
       "9"
      ]
     },
     "execution_count": 16,
     "metadata": {},
     "output_type": "execute_result"
    }
   ],
   "source": [
    "# Max también puede ser utilizado pasando una lista como único argumento, analizando todos los elementos de la lista para computar el máximo\n",
    "max([1,2,3,9,8,7,6]) # Computa 9"
   ]
  },
  {
   "cell_type": "markdown",
   "id": "2826217a",
   "metadata": {},
   "source": [
    "#### <font color=\"#00586D\" size=3> min </font>"
   ]
  },
  {
   "cell_type": "code",
   "execution_count": 17,
   "id": "ccc15ea3",
   "metadata": {},
   "outputs": [
    {
     "data": {
      "text/plain": [
       "1"
      ]
     },
     "execution_count": 17,
     "metadata": {},
     "output_type": "execute_result"
    }
   ],
   "source": [
    "# Min también puede ser utilizado pasando una lista como único argumento, analizando todos los elementos de la lista para computar el mínimo\n",
    "min([1,2,3,9,8,7,6]) # Computa 1"
   ]
  },
  {
   "cell_type": "markdown",
   "id": "fac5953b",
   "metadata": {},
   "source": [
    "#### <font color=\"#00586D\" size=3> sum </font>"
   ]
  },
  {
   "cell_type": "code",
   "execution_count": 18,
   "id": "636dbbcb",
   "metadata": {},
   "outputs": [
    {
     "data": {
      "text/plain": [
       "15"
      ]
     },
     "execution_count": 18,
     "metadata": {},
     "output_type": "execute_result"
    }
   ],
   "source": [
    "# Computa la suma de todos los elementos de una lista, pasada como argumento\n",
    "sum([1, 2, 3, 4, 5]) # Devuelve 15"
   ]
  },
  {
   "cell_type": "markdown",
   "id": "151636e1",
   "metadata": {},
   "source": [
    "## Comprehension Lists"
   ]
  },
  {
   "cell_type": "markdown",
   "id": "4be8046e",
   "metadata": {},
   "source": [
    "Esta estructura es muy interesante, es algo más compleja, pero es verdaderamente útil. No obstante, no se recomienda cuando haya que anidar más de 2 Comprehension Lists, ya que complica mucho las operaciones, y pueden hacer el código más farragoso. Recuerda:"
   ]
  },
  {
   "cell_type": "markdown",
   "id": "f36e05a9",
   "metadata": {},
   "source": [
    "import this"
   ]
  },
  {
   "cell_type": "code",
   "execution_count": 19,
   "id": "2e5440b3",
   "metadata": {},
   "outputs": [
    {
     "data": {
      "text/plain": [
       "[1, 4, 9, 16, 25]"
      ]
     },
     "execution_count": 19,
     "metadata": {},
     "output_type": "execute_result"
    }
   ],
   "source": [
    "m = []\n",
    "for n in [1,2,3,4,5]:\n",
    "    m.append(n**2)\n",
    "m"
   ]
  },
  {
   "cell_type": "markdown",
   "id": "7488bec8",
   "metadata": {},
   "source": [
    "De manera más elegante, utilizando Comprehension Lists:"
   ]
  },
  {
   "cell_type": "code",
   "execution_count": 20,
   "id": "7e8da9ef",
   "metadata": {},
   "outputs": [
    {
     "data": {
      "text/plain": [
       "[1, 4, 9, 16, 25]"
      ]
     },
     "execution_count": 20,
     "metadata": {},
     "output_type": "execute_result"
    }
   ],
   "source": [
    "[n**2 for n in [1,2,3,4,5]]"
   ]
  },
  {
   "cell_type": "markdown",
   "id": "83a54e81",
   "metadata": {},
   "source": [
    "Una list comprehension tiene la siguiente estructura:\n",
    "\n",
    "[_operation_ **if** _condition_ **else** _other_operation_ **for** _iterador_ **in** _iterable_]"
   ]
  },
  {
   "cell_type": "markdown",
   "id": "79f5b350",
   "metadata": {},
   "source": [
    "Os dejo algunos ejemplos de cosas que se pueden hacer con estas:"
   ]
  },
  {
   "cell_type": "code",
   "execution_count": 21,
   "id": "24a5403a",
   "metadata": {},
   "outputs": [
    {
     "name": "stdout",
     "output_type": "stream",
     "text": [
      "Luis Tellez\n",
      "['L', 'u', 'i', 's', ' ', 'T', 'e', 'l', 'l', 'e', 'z']\n"
     ]
    }
   ],
   "source": [
    "full_name = \"Luis Tellez\"\n",
    "characters = [char for char in full_name]\n",
    "print(full_name)\n",
    "print(characters)"
   ]
  },
  {
   "cell_type": "code",
   "execution_count": 22,
   "id": "43603566",
   "metadata": {},
   "outputs": [
    {
     "name": "stdout",
     "output_type": "stream",
     "text": [
      "Luis Tellez\n",
      "['L', 'u', 'i', 's', ' ', 'T', 'e', 'l', 'l', 'e', 'z']\n"
     ]
    }
   ],
   "source": [
    "full_name = \"Luis Tellez\"\n",
    "characters = []\n",
    "for char in full_name:\n",
    "    characters.append(char)\n",
    "print(full_name)\n",
    "print(characters)"
   ]
  },
  {
   "cell_type": "code",
   "execution_count": 23,
   "id": "a8f18cdb",
   "metadata": {},
   "outputs": [
    {
     "name": "stdout",
     "output_type": "stream",
     "text": [
      "[[2, 1, 5], [5, 99, 0], [33, 2, 4]]\n",
      "[5, 99, 33]\n"
     ]
    }
   ],
   "source": [
    "Matrix = [[2, 1, 5],\n",
    "          [5, 99, 0],\n",
    "          [33, 2, 4]]\n",
    "row_max = [max(row) for row in Matrix]\n",
    "print(Matrix)\n",
    "print(row_max)"
   ]
  },
  {
   "cell_type": "code",
   "execution_count": 24,
   "id": "cab994da",
   "metadata": {},
   "outputs": [
    {
     "name": "stdout",
     "output_type": "stream",
     "text": [
      "['Yang'] ['Yang', 'Tom', 'tom'] ['tom']\n"
     ]
    }
   ],
   "source": [
    "Genius = [\"Yang\", \"Tom\", \"Jerry\", \"Jack\", \"tom\", \"yang\"]\n",
    "L1 = [name for name in Genius if name.startswith('Y')]\n",
    "L2 = [name for name in Genius if name.startswith('Y') or len(name) < 4]\n",
    "L3 = [name for name in Genius if len(name) < 4 and name.islower()]\n",
    "print(L1, L2, L3)"
   ]
  },
  {
   "cell_type": "code",
   "execution_count": 25,
   "id": "90a7a2c7",
   "metadata": {},
   "outputs": [
    {
     "name": "stdout",
     "output_type": "stream",
     "text": [
      "['Jerry', 'Jack', 'Tom', 'Yang']\n"
     ]
    }
   ],
   "source": [
    "Genius = [\"Jerry\", \"Jack\", \"tom\", \"yang\"]\n",
    "L1 = [name.capitalize() for name in Genius]\n",
    "print(L1)\n"
   ]
  },
  {
   "cell_type": "code",
   "execution_count": 26,
   "id": "0715c984",
   "metadata": {},
   "outputs": [
    {
     "name": "stdout",
     "output_type": "stream",
     "text": [
      "['Not Genius', 'Not Genius', 'Not Genius', 'yang']\n"
     ]
    }
   ],
   "source": [
    "\n",
    "Genius = [\"Jerry\", \"Jack\", \"tom\", \"yang\"]\n",
    "L1 = [name if name.startswith('y') else 'Not Genius' for name in Genius]\n",
    "print(L1)\n"
   ]
  },
  {
   "cell_type": "code",
   "execution_count": 27,
   "id": "27f12c66",
   "metadata": {},
   "outputs": [
    {
     "name": "stdout",
     "output_type": "stream",
     "text": [
      "['J', 'e', 'r', 'r', 'y', 'J', 'a', 'c', 'k', 't', 'o', 'm', 'y', 'a', 'n', 'g']\n"
     ]
    }
   ],
   "source": [
    "Genius = [\"Jerry\", \"Jack\", \"tom\", \"yang\"]\n",
    "L1 = [char for name in Genius for char in name]\n",
    "print(L1)"
   ]
  },
  {
   "cell_type": "code",
   "execution_count": 28,
   "id": "f1ea9ceb",
   "metadata": {},
   "outputs": [
    {
     "name": "stdout",
     "output_type": "stream",
     "text": [
      "['J', 'e', 'r', 'r', 'y', 'J', 'a', 'c', 'k', 't', 'o', 'm', 'y', 'a', 'n', 'g']\n"
     ]
    }
   ],
   "source": [
    "Genius = [\"Jerry\", \"Jack\", \"tom\", \"yang\"]\n",
    "L1 = []\n",
    "for name in Genius:\n",
    "    for char in name:\n",
    "        L1.append(char)\n",
    "print(L1)"
   ]
  },
  {
   "cell_type": "code",
   "execution_count": 29,
   "id": "33274c64",
   "metadata": {},
   "outputs": [
    {
     "name": "stdout",
     "output_type": "stream",
     "text": [
      "['t', 'o', 'm']\n"
     ]
    }
   ],
   "source": [
    "Genius = [\"Jerry\", \"Jack\", \"tom\", \"yang\"]\n",
    "L1 = [char for name in Genius if len(name) < 4 for char in name]\n",
    "print(L1)"
   ]
  },
  {
   "cell_type": "code",
   "execution_count": 30,
   "id": "c5d2f39e",
   "metadata": {
    "tags": []
   },
   "outputs": [
    {
     "name": "stdout",
     "output_type": "stream",
     "text": [
      "['tom']\n",
      "['tom']\n"
     ]
    }
   ],
   "source": [
    "Genius = [\"Jerry\", \"Jack\", \"tom\", \"yang\"]\n",
    "L1 = filter(lambda a: len(a) < 4, Genius)\n",
    "print(list(L1))\n",
    "\n",
    "L2 = [a for a in Genius if len(a) < 4]\n",
    "print(L2)\n"
   ]
  },
  {
   "cell_type": "code",
   "execution_count": 31,
   "id": "9d949253",
   "metadata": {},
   "outputs": [
    {
     "name": "stdout",
     "output_type": "stream",
     "text": [
      "8697440\n",
      "96\n"
     ]
    }
   ],
   "source": [
    "large_list = [x for x in range(1_000_000)]\n",
    "large_list_g = (x for x in range(1_000_000))\n",
    "print(large_list.__sizeof__())\n",
    "print(large_list_g.__sizeof__())"
   ]
  },
  {
   "cell_type": "markdown",
   "id": "a3997b67",
   "metadata": {},
   "source": [
    "## Conjuntos"
   ]
  },
  {
   "cell_type": "markdown",
   "id": "ad44ad4a",
   "metadata": {},
   "source": [
    "Los conjuntos son **conjuntos de elementos no repetidos**. En este caso la indexación no tiene sentido, únicamente la comprobación de pertenencia de un elemento al conjunto. Para ello haremos uso de la palabra reservada `in`.\n",
    "\n",
    "Las funciones utilizadas para gestionar un conjunto son:\n",
    "* **Creación de conjuntos**: `set`\n",
    "* **Insertar elementos**: `add`\n",
    "* **Eliminar elementos**: `remove`\n",
    "* **Pertenencia de elementos al conjunto**: operador infijo `in`\n",
    "* **Operaciones básicas de conjuntos**: unión, intersección y diferencia\n",
    "* **Número de elementos en el conjunto**: `len`\n",
    "* Operaciones sobre **iterables**: all, any, max, min y sum **(igual que para listas)**"
   ]
  },
  {
   "cell_type": "markdown",
   "id": "1afe26dc",
   "metadata": {},
   "source": [
    "<div class=\"alert alert-block alert-info\">\n",
    "<i class=\"fa fa-info-circle\" aria-hidden=\"true\"></i>\n",
    "Se puede almacenar cualquier elemento hasheable, que son elementos que tienen implementada una función hash. Para nosotros, serán hasheables los tipos básicos (int, float, bool y str, así como las tuplas, que veremos a continuación.\n",
    "</div>"
   ]
  },
  {
   "cell_type": "markdown",
   "id": "f22900ef",
   "metadata": {},
   "source": [
    "#### <font color=\"#00586D\" size=3> Creación de conjuntos</font>"
   ]
  },
  {
   "cell_type": "code",
   "execution_count": 32,
   "id": "c250f40d",
   "metadata": {
    "tags": []
   },
   "outputs": [
    {
     "name": "stdout",
     "output_type": "stream",
     "text": [
      "set()\n",
      "{1, 2, 3, 4}\n"
     ]
    }
   ],
   "source": [
    "# Se crean usando la función built-in set\n",
    "print(set())\n",
    "\n",
    "# También se puede crear un conjunto con una lista de elementos incial\n",
    "print(set([1,2,3,4]))"
   ]
  },
  {
   "cell_type": "markdown",
   "id": "95722fc8",
   "metadata": {},
   "source": [
    "#### <font color=\"#00586D\" size=3> Inserción de elementos</font>"
   ]
  },
  {
   "cell_type": "code",
   "execution_count": 33,
   "id": "66a8dbf0",
   "metadata": {},
   "outputs": [
    {
     "name": "stdout",
     "output_type": "stream",
     "text": [
      "{1, 2.3, 'Hola'}\n",
      "{1, 2.3, 'Hola'}\n"
     ]
    }
   ],
   "source": [
    "# Se utiliza la función add\n",
    "s = set()      # Creamos el conjunto\n",
    "s.add(1)       # Añadimos el 1\n",
    "s.add(\"Hola\")  # Añadimos el string \"Hola\"\n",
    "s.add(2.3)     # Añadimos el flotante 2.3\n",
    "print(s)\n",
    "\n",
    "# Ahora si añadimos un elemento repetido no hace nada (el conjunto sigue siendo el mismo)\n",
    "s.add(1)       # Añadimos el 1\n",
    "s.add(\"Hola\")  # Añadimos el string \"Hola\"\n",
    "s.add(2.3)     # Añadimos el flotante 2.3\n",
    "print(s)"
   ]
  },
  {
   "cell_type": "markdown",
   "id": "c61c3dac",
   "metadata": {},
   "source": [
    "#### <font color=\"#00586D\" size=3> Eliminación de elementos</font>"
   ]
  },
  {
   "cell_type": "code",
   "execution_count": 34,
   "id": "b223c1eb",
   "metadata": {},
   "outputs": [
    {
     "name": "stdout",
     "output_type": "stream",
     "text": [
      "{'b', 'a', 'c'}\n",
      "{'a', 'c'}\n"
     ]
    }
   ],
   "source": [
    "s = set(['a','b','c'])\n",
    "print(s)\n",
    "\n",
    "s.remove('b')  # Extraemos el elemento 'b'\n",
    "print(s)"
   ]
  },
  {
   "cell_type": "markdown",
   "id": "f8584677",
   "metadata": {},
   "source": [
    "#### <font color=\"#00586D\" size=3>Pertenencia de elementos</font>"
   ]
  },
  {
   "cell_type": "code",
   "execution_count": 35,
   "id": "e6b9a08f",
   "metadata": {},
   "outputs": [
    {
     "name": "stdout",
     "output_type": "stream",
     "text": [
      "True\n",
      "False\n"
     ]
    }
   ],
   "source": [
    "# Con el operador infijo \"in\" se puede comprobar la petenencia de elementos en un set\n",
    "# Comprueba si el elemento a la izquierda existe en el elemento de la derecha\n",
    "\n",
    "s = set([1,2,3])\n",
    "print(2 in s) # Devuelve True\n",
    "print(5 in s) # Devuelve False"
   ]
  },
  {
   "cell_type": "markdown",
   "id": "5afd3833",
   "metadata": {},
   "source": [
    "<div class=\"alert alert-block alert-info\">\n",
    "<i class=\"fa fa-info-circle\" aria-hidden=\"true\"></i>\n",
    "En realidad el operador infijo <i>in</i> se puede utilizar sobre cualquier elemento que sea iterable (como listas, tuplas o diccionarios).\n",
    "    \n",
    "Por ejemplo: `'b' in ['a', 'b', 'c']` devolvería `True`\n",
    "</div>"
   ]
  },
  {
   "cell_type": "markdown",
   "id": "ab3d9cd0",
   "metadata": {},
   "source": [
    "#### <font color=\"#00586D\" size=3> Operaciones básicas sobre conjuntos</font>\n",
    "* <font color=\"#00586D\" size=3> <strong>unión</strong> </font>: union\n",
    "* <font color=\"#00586D\" size=3> <strong>intersección</strong> </font>: intersection\n",
    "* <font color=\"#00586D\" size=3> <strong>diferencia</strong> </font>: difference (-)"
   ]
  },
  {
   "cell_type": "code",
   "execution_count": 36,
   "id": "90ec0852",
   "metadata": {},
   "outputs": [
    {
     "name": "stdout",
     "output_type": "stream",
     "text": [
      "Unión de conjuntos: {1, 2, 3, 4, 5, 6, 7, 8}\n",
      "Intersección de conjuntos: {4, 5}\n",
      "Diferencia entre conjuntos: {1, 2, 3}, igual que {1, 2, 3}\n"
     ]
    }
   ],
   "source": [
    "s1 = set([1,2,3,4,5])\n",
    "s2 = set([4,5,6,7,8])\n",
    "\n",
    "print(\"Unión de conjuntos: {}\".format(s1.union(s2)))\n",
    "print(\"Intersección de conjuntos: {}\".format(s1.intersection(s2)))\n",
    "print(\"Diferencia entre conjuntos: {}, igual que {}\".format(s1.difference(s2), s1 - s2))"
   ]
  },
  {
   "cell_type": "markdown",
   "id": "596f9bba",
   "metadata": {},
   "source": [
    "## Tuplas"
   ]
  },
  {
   "cell_type": "markdown",
   "id": "c1565c17",
   "metadata": {},
   "source": [
    "Las tuplas son secuencias de elementos, de forma similar a las listas, pero que son **inmutables**. Esto significa que una tupla no se puede modificar una vez ésta ha sido creada.\n",
    "\n",
    "Una de las ventajas de las tuplas, más allá de la definición conceptual, es que permiten que exista implementada una función hash por defecto: **permite que estos elementos puedan ser insertados en conjuntos y en diccionarios como claves**\n",
    "\n",
    "\n",
    "Al ser una especialización de las listas, tanto la **indexación** como las funciones descritas anteriormente para las listas sirven para las tuplas. La **excepción** son las funciones que modifican la lista (¡ya que las tuplas son inmutables!). Éstas son las funciones `append`, `insert` y `del`, además de las que trabajan con **iterables**: all, any, max, min y sum.\n",
    "\n",
    "Por lo tanto, a modo de índice, éstas son las funciones que usaremos para gestionar las tuplas:\n",
    "* **Creacón de tuplas**: `tuple` o `()`\n",
    "* **Indexación**: acceso a los elementos de la tupla usando los corchetes `[]` **(igual que para listas)**.\n",
    "* **Concatenar**: Operador `+` **(igual que para listas)**\n",
    "* **Número de elementos en la tupla**: `len` **(igual que para listas)**\n",
    "* Operaciones sobre **iterables**: all, any, max, min y sum **(igual que para listas)**\n"
   ]
  },
  {
   "cell_type": "code",
   "execution_count": 37,
   "id": "1472b9a2",
   "metadata": {},
   "outputs": [],
   "source": [
    "t = (1,2)"
   ]
  },
  {
   "cell_type": "code",
   "execution_count": 38,
   "id": "333fff37",
   "metadata": {},
   "outputs": [
    {
     "ename": "TypeError",
     "evalue": "'tuple' object does not support item assignment",
     "output_type": "error",
     "traceback": [
      "\u001b[1;31m---------------------------------------------------------------------------\u001b[0m",
      "\u001b[1;31mTypeError\u001b[0m                                 Traceback (most recent call last)",
      "\u001b[1;32m<ipython-input-38-eee80f1aab81>\u001b[0m in \u001b[0;36m<module>\u001b[1;34m\u001b[0m\n\u001b[1;32m----> 1\u001b[1;33m \u001b[0mt\u001b[0m\u001b[1;33m[\u001b[0m\u001b[1;36m0\u001b[0m\u001b[1;33m]\u001b[0m \u001b[1;33m=\u001b[0m \u001b[1;36m3\u001b[0m  \u001b[1;31m# TypeError: 'tuple' object does not support item assignment\u001b[0m\u001b[1;33m\u001b[0m\u001b[1;33m\u001b[0m\u001b[0m\n\u001b[0m",
      "\u001b[1;31mTypeError\u001b[0m: 'tuple' object does not support item assignment"
     ]
    }
   ],
   "source": [
    "t[0] = 3  # TypeError: 'tuple' object does not support item assignment"
   ]
  },
  {
   "cell_type": "markdown",
   "id": "1c35ce09",
   "metadata": {},
   "source": [
    "#### <font color=\"#00586D\" size=3> Creación de tuplas</font>"
   ]
  },
  {
   "cell_type": "code",
   "execution_count": 39,
   "id": "079009a0",
   "metadata": {},
   "outputs": [
    {
     "name": "stdout",
     "output_type": "stream",
     "text": [
      "(1, 2, 3)\n",
      "(1, 2, 3)\n",
      "()\n",
      "()\n"
     ]
    }
   ],
   "source": [
    "# Mediante la función built-in tuple, a la que se le pasa una lista (si no se indican argumentos, construye una tupla vacía)\n",
    "t = tuple([1, 2, 3])   # Tupla con los elementos 1, 2, 3\n",
    "print(t)\n",
    "\n",
    "# También se puede crear mediante el uso de paréntesis:\n",
    "t = (1, 2, 3)\n",
    "print(t)\n",
    "\n",
    "# Creación de tuplas vacías:\n",
    "print(tuple())         # Función tuple sin argumentos\n",
    "print(())              # Paréntesis sin elementos."
   ]
  },
  {
   "cell_type": "code",
   "execution_count": 40,
   "id": "2b148ed2",
   "metadata": {},
   "outputs": [
    {
     "name": "stdout",
     "output_type": "stream",
     "text": [
      "{(1, 2)}\n",
      "True\n"
     ]
    }
   ],
   "source": [
    "# Como son objetos hasheables, se pueden insertar en conjuntos:\n",
    "s = set()\n",
    "s.add((1,2))       # Añadimos la tupla (1, 2) al conjunto\n",
    "print(s)\n",
    "\n",
    "print((1,2) in s)  # Comprobamos si la tupla pertenece o no al conjunto"
   ]
  },
  {
   "cell_type": "markdown",
   "id": "0d7765ae",
   "metadata": {},
   "source": [
    "<div class=\"alert alert-block alert-warning\">\n",
    "<i class=\"fa fa-exclamation-circle\" aria-hidden=\"true\"></i>\n",
    "Cuando se crea una tupla con un solo elemento tenemos dos opciones:\n",
    "\n",
    "- Usar `tuple('a')`</li>\n",
    "- Usar `('a',)`. ¡En este caso es necesaria la coma para diferenciar el uso de los paréntesis como agrupación de operaciones!\n",
    "\n",
    "</div>"
   ]
  },
  {
   "cell_type": "markdown",
   "id": "3971896b",
   "metadata": {},
   "source": [
    "### <font color=\"#00586D\" size=4>Asignación múltiple</font>\n",
    "\n",
    "En Python se permite asignación múltiple: `x, y, z = 1, 2, 3`\n",
    "\n",
    "En realidad, el código al que se traduce es el siguiente: `(x, y, z) = (1, 2, 3)`.\n",
    "\n",
    "Puede ser muy útil, por ejemplo, en la descomposición de strings:"
   ]
  },
  {
   "cell_type": "code",
   "execution_count": 41,
   "id": "1e3389fd",
   "metadata": {},
   "outputs": [
    {
     "name": "stdout",
     "output_type": "stream",
     "text": [
      "Pedro\n",
      "López\n",
      "Santos\n"
     ]
    }
   ],
   "source": [
    "nombre, apellido1, apellido2 = \"Pedro López Santos\".split(\" \")\n",
    "print(nombre)\n",
    "print(apellido1)\n",
    "print(apellido2)"
   ]
  },
  {
   "cell_type": "markdown",
   "id": "de002acf",
   "metadata": {},
   "source": [
    "## Diccionarios"
   ]
  },
  {
   "cell_type": "markdown",
   "id": "49058bdb",
   "metadata": {},
   "source": [
    "Los diccionarios son elementos que relacionan una **clave** con un **valor**. La clave tiene que ser hasheable (al igual que pasaba con los elementos de un **set**). El valor puede ser cualquier elemento.\n",
    "\n",
    "Las siguientes funciones son las utilizadas para gestionar diccionarios:\n",
    "\n",
    "* **Creacón de diccionarios**: `dict` o `{}`\n",
    "* **Indexación**: acceso a los elementos de la tupla usando los corchetes `[]`, donde dentro de los corchetes se especifica una clave\n",
    "* **Borrar un elementos**: `del` **(igual que para listas)**\n",
    "* **Número de elementos en el diccionario**: `len` **(igual que para listas)**\n",
    "* Operaciones sobre **iterables**: all, any, max, min y sum **(igual que para listas. Opera sobre la lista de claves)**\n",
    "* Operaciones **iterables**: all, any, max, min y sum (**se opera sobre la lista de claves**)"
   ]
  },
  {
   "cell_type": "markdown",
   "id": "5aefb798",
   "metadata": {},
   "source": [
    "#### <font color=\"#00586D\" size=3> Creación de diccionarios</font>"
   ]
  },
  {
   "cell_type": "code",
   "execution_count": 42,
   "id": "87818cd6",
   "metadata": {},
   "outputs": [
    {
     "name": "stdout",
     "output_type": "stream",
     "text": [
      "{'a': 1, 'b': 2}\n",
      "{'a': 1, 'b': 2}\n"
     ]
    }
   ],
   "source": [
    "# Se crean usando la función built-in dict, y como argumentos asignaciones \"clave=valor\"\n",
    "print(dict(a=1, b=2))\n",
    "\n",
    "# También se puede crear utilizando las llaves, y elemenos \"clave:valor\" separados por comas\n",
    "print({'a':1, 'b':2})"
   ]
  },
  {
   "cell_type": "markdown",
   "id": "a5a661ef",
   "metadata": {},
   "source": [
    "<div class=\"alert alert-block alert-info\">\n",
    "<i class=\"fa fa-info-circle\" aria-hidden=\"true\"></i>\n",
    "La ventaja de crear los diccionarios con la palabra reservada `dict` es que puede resultar más cómodo de recordar, al seguir el formato de agumentos en funciones.\n",
    "\n",
    "<br>\n",
    "<i class=\"fa fa-info-circle\" aria-hidden=\"true\"></i>\n",
    "La desventaja es que las claves en este formato siempre se toman como caracteres. Si queremos utilizar enteros o flotantes como clave, hay que hacerlo usando el constructor basado en llaves `{}`\n",
    "</div>"
   ]
  },
  {
   "cell_type": "code",
   "execution_count": 43,
   "id": "5b3e4e44",
   "metadata": {},
   "outputs": [
    {
     "name": "stdout",
     "output_type": "stream",
     "text": [
      "{1: 'entero', 2.65: 'flotante'}\n"
     ]
    }
   ],
   "source": [
    "# Ejemplo de creación de un diccionario con claves numéricas:\n",
    "print({1:\"entero\", 2.65:\"flotante\"})"
   ]
  },
  {
   "cell_type": "markdown",
   "id": "98050e9d",
   "metadata": {},
   "source": [
    "#### <font color=\"#00586D\" size=3> Acceso a pares clave-valor</font>"
   ]
  },
  {
   "cell_type": "code",
   "execution_count": 44,
   "id": "af69439a",
   "metadata": {},
   "outputs": [
    {
     "name": "stdout",
     "output_type": "stream",
     "text": [
      "entero\n",
      "flotante\n",
      "string\n"
     ]
    }
   ],
   "source": [
    "# El acceso se realiza mediante el uso de corchetes\n",
    "d = {1:\"entero\", 2.5: \"flotante\", \"hola\": \"string\"}\n",
    "\n",
    "print(d[1])       # \"entero\"\n",
    "print(d[2.5])     # \"flotante\"\n",
    "print(d[\"hola\"])  # \"string\""
   ]
  },
  {
   "cell_type": "code",
   "execution_count": 45,
   "id": "9fe273dc",
   "metadata": {},
   "outputs": [],
   "source": [
    "d = {}\n",
    "d['hola'] = 'mundo'"
   ]
  },
  {
   "cell_type": "code",
   "execution_count": 46,
   "id": "5143361a",
   "metadata": {},
   "outputs": [],
   "source": [
    "d[(1,2,3)] = 1"
   ]
  },
  {
   "cell_type": "code",
   "execution_count": 47,
   "id": "d1ce4c46",
   "metadata": {},
   "outputs": [
    {
     "data": {
      "text/plain": [
       "{'hola': 'mundo', (1, 2, 3): 1}"
      ]
     },
     "execution_count": 47,
     "metadata": {},
     "output_type": "execute_result"
    }
   ],
   "source": [
    "d"
   ]
  },
  {
   "cell_type": "markdown",
   "id": "168edd9d",
   "metadata": {},
   "source": [
    "Se puede acceder a la lista de claves, la lista de valores, y la lista de tuplas (clave, valor). Para ello, existen las funciones `keys`, `values` e `items`."
   ]
  },
  {
   "cell_type": "markdown",
   "id": "decc60e4",
   "metadata": {},
   "source": [
    "<div class=\"alert alert-block alert-info\">\n",
    "<i class=\"fa fa-info-circle\" aria-hidden=\"true\"></i>\n",
    "Estas funciones devuelven un generador, que explicaremos más adelante. Por ahora solo necesitamos saber que para generar la lista a parir del generador, es necesario usar la función list().\n",
    "</div>"
   ]
  },
  {
   "cell_type": "code",
   "execution_count": 48,
   "id": "96ca5347",
   "metadata": {},
   "outputs": [
    {
     "name": "stdout",
     "output_type": "stream",
     "text": [
      "[1, 2.5, 'hola']\n",
      "['entero', 'flotante', 'string']\n",
      "[(1, 'entero'), (2.5, 'flotante'), ('hola', 'string')]\n"
     ]
    }
   ],
   "source": [
    "d = {1:\"entero\", 2.5: \"flotante\", \"hola\": \"string\"}\n",
    "\n",
    "print( list(d.keys()) )    # Imprime la lista de claves\n",
    "print( list(d.values()) )  # Imprime la lista de valores\n",
    "print( list(d.items()) )   # Imprime la lista de tuplas (clave, valor)"
   ]
  },
  {
   "cell_type": "markdown",
   "id": "69b65957",
   "metadata": {},
   "source": [
    "#### <font color=\"#00586D\" size=3> Diccionarios con un valor por defecto </font>"
   ]
  },
  {
   "cell_type": "markdown",
   "id": "4cf9b2f3",
   "metadata": {},
   "source": [
    "En ocasiones es muy útil disponer de diccionarios con un valor por defecto. Existen los `defaultdict`, diccionarios que al asignar"
   ]
  },
  {
   "cell_type": "code",
   "execution_count": 49,
   "id": "3fdb8aec",
   "metadata": {},
   "outputs": [
    {
     "data": {
      "text/plain": [
       "{'en': 2,\n",
       " 'un': 2,\n",
       " 'día': 1,\n",
       " 'como': 1,\n",
       " 'hoy,': 1,\n",
       " 'estamos': 1,\n",
       " 'viendo': 1,\n",
       " 'el': 1,\n",
       " 'uso': 1,\n",
       " 'de': 1,\n",
       " 'diccionarios': 1,\n",
       " 'python': 1,\n",
       " 'con': 1,\n",
       " 'valor': 1,\n",
       " 'por': 1,\n",
       " 'defecto': 1}"
      ]
     },
     "execution_count": 49,
     "metadata": {},
     "output_type": "execute_result"
    }
   ],
   "source": [
    "cuentapalabras = dict()\n",
    "texto = \"En un día como hoy, estamos viendo el uso de diccionarios en Python con un valor por defecto\".split(\" \")\n",
    "for p in texto:\n",
    "    # hacemos la palabra lowercase\n",
    "    palabra = p.lower()\n",
    "    if palabra in cuentapalabras:\n",
    "        cuentapalabras[palabra] += 1\n",
    "    else:\n",
    "        cuentapalabras[palabra] = 1\n",
    "cuentapalabras"
   ]
  },
  {
   "cell_type": "code",
   "execution_count": 50,
   "id": "1d909842",
   "metadata": {
    "tags": []
   },
   "outputs": [
    {
     "data": {
      "text/plain": [
       "defaultdict(int,\n",
       "            {'en': 2,\n",
       "             'un': 2,\n",
       "             'día': 1,\n",
       "             'como': 1,\n",
       "             'hoy,': 1,\n",
       "             'estamos': 1,\n",
       "             'viendo': 1,\n",
       "             'el': 1,\n",
       "             'uso': 1,\n",
       "             'de': 1,\n",
       "             'diccionarios': 1,\n",
       "             'python': 1,\n",
       "             'con': 1,\n",
       "             'valor': 1,\n",
       "             'por': 1,\n",
       "             'defecto': 1})"
      ]
     },
     "execution_count": 50,
     "metadata": {},
     "output_type": "execute_result"
    }
   ],
   "source": [
    "from collections import defaultdict\n",
    "\n",
    "cuentapalabras = defaultdict(int)\n",
    "texto = \"En un día como hoy, estamos viendo el uso de diccionarios en Python con un valor por defecto\".split(\" \")\n",
    "for p in texto:\n",
    "    palabra = p.lower()\n",
    "    # hacemos la palabra lowercase\n",
    "    cuentapalabras[palabra] += 1\n",
    "cuentapalabras"
   ]
  },
  {
   "cell_type": "code",
   "execution_count": 51,
   "id": "60533339",
   "metadata": {},
   "outputs": [
    {
     "data": {
      "text/plain": [
       "defaultdict(list,\n",
       "            {'verbo': ['estamos', 'escuchando'],\n",
       "             'preposición': ['en'],\n",
       "             'nombre': ['clase']})"
      ]
     },
     "execution_count": 51,
     "metadata": {},
     "output_type": "execute_result"
    }
   ],
   "source": [
    "# También es muy útil cuando manejamos listas...\n",
    "tipo_palabras = [('estamos', 'verbo'), ('en', 'preposición'), ('clase', 'nombre'), ('escuchando', 'verbo')]\n",
    "\n",
    "grupos_palabras = defaultdict(list)\n",
    "for valor, clave in tipo_palabras:\n",
    "    grupos_palabras[clave].append(valor)\n",
    "grupos_palabras"
   ]
  },
  {
   "cell_type": "code",
   "execution_count": null,
   "id": "eafe8349",
   "metadata": {},
   "outputs": [],
   "source": []
  },
  {
   "cell_type": "code",
   "execution_count": null,
   "id": "548a2fa7",
   "metadata": {},
   "outputs": [],
   "source": []
  },
  {
   "cell_type": "code",
   "execution_count": null,
   "id": "c218a634",
   "metadata": {},
   "outputs": [],
   "source": []
  }
 ],
 "metadata": {
  "hide_input": false,
  "kernelspec": {
   "display_name": "Python 3",
   "language": "python",
   "name": "python3"
  },
  "language_info": {
   "codemirror_mode": {
    "name": "ipython",
    "version": 3
   },
   "file_extension": ".py",
   "mimetype": "text/x-python",
   "name": "python",
   "nbconvert_exporter": "python",
   "pygments_lexer": "ipython3",
   "version": "3.8.10"
  },
  "toc": {
   "base_numbering": 1,
   "nav_menu": {},
   "number_sections": true,
   "sideBar": true,
   "skip_h1_title": true,
   "title_cell": "Tabla de Contenidos",
   "title_sidebar": "Contents",
   "toc_cell": true,
   "toc_position": {},
   "toc_section_display": true,
   "toc_window_display": true
  },
  "varInspector": {
   "cols": {
    "lenName": 16,
    "lenType": 16,
    "lenVar": 40
   },
   "kernels_config": {
    "python": {
     "delete_cmd_postfix": "",
     "delete_cmd_prefix": "del ",
     "library": "var_list.py",
     "varRefreshCmd": "print(var_dic_list())"
    },
    "r": {
     "delete_cmd_postfix": ") ",
     "delete_cmd_prefix": "rm(",
     "library": "var_list.r",
     "varRefreshCmd": "cat(var_dic_list()) "
    }
   },
   "types_to_exclude": [
    "module",
    "function",
    "builtin_function_or_method",
    "instance",
    "_Feature"
   ],
   "window_display": false
  }
 },
 "nbformat": 4,
 "nbformat_minor": 5
}

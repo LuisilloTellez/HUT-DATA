{
 "cells": [
  {
   "cell_type": "markdown",
   "id": "f915c449",
   "metadata": {
    "toc": true
   },
   "source": [
    "<h1>Tabla de Contenidos<span class=\"tocSkip\"></span></h1>\n",
    "<div class=\"toc\"><ul class=\"toc-item\"><li><span><a href=\"#Paquetes-y-módulos:-importar\" data-toc-modified-id=\"Paquetes-y-módulos:-importar-1\"><span class=\"toc-item-num\">1&nbsp;&nbsp;</span>Paquetes y módulos: importar</a></span></li><li><span><a href=\"#Ámbito-de-declaración\" data-toc-modified-id=\"Ámbito-de-declaración-2\"><span class=\"toc-item-num\">2&nbsp;&nbsp;</span>Ámbito de declaración</a></span></li><li><span><a href=\"#Ficheros\" data-toc-modified-id=\"Ficheros-3\"><span class=\"toc-item-num\">3&nbsp;&nbsp;</span>Ficheros</a></span></li><li><span><a href=\"#Contextos\" data-toc-modified-id=\"Contextos-4\"><span class=\"toc-item-num\">4&nbsp;&nbsp;</span>Contextos</a></span><ul class=\"toc-item\"><li><span><a href=\"#Ejercicio\" data-toc-modified-id=\"Ejercicio-4.1\"><span class=\"toc-item-num\">4.1&nbsp;&nbsp;</span><font color=\"#00586D\" size=\"4\"><i class=\"fa fa-pencil-square-o\"></i>Ejercicio</font></a></span></li></ul></li><li><span><a href=\"#Pickle:-Serialización-de-Objetos\" data-toc-modified-id=\"Pickle:-Serialización-de-Objetos-5\"><span class=\"toc-item-num\">5&nbsp;&nbsp;</span>Pickle: Serialización de Objetos</a></span></li><li><span><a href=\"#Librería-OS\" data-toc-modified-id=\"Librería-OS-6\"><span class=\"toc-item-num\">6&nbsp;&nbsp;</span>Librería OS</a></span></li><li><span><a href=\"#Clases-y-Objetos\" data-toc-modified-id=\"Clases-y-Objetos-7\"><span class=\"toc-item-num\">7&nbsp;&nbsp;</span>Clases y Objetos</a></span></li><li><span><a href=\"#Herencia\" data-toc-modified-id=\"Herencia-8\"><span class=\"toc-item-num\">8&nbsp;&nbsp;</span>Herencia</a></span><ul class=\"toc-item\"><li><span><a href=\"#Ejercicio\" data-toc-modified-id=\"Ejercicio-8.1\"><span class=\"toc-item-num\">8.1&nbsp;&nbsp;</span><font color=\"#00586D\" size=\"4\"><i class=\"fa fa-pencil-square-o\"></i>Ejercicio</font></a></span></li></ul></li></ul></div>"
   ]
  },
  {
   "cell_type": "markdown",
   "id": "dc9640a5",
   "metadata": {},
   "source": [
    "\n",
    "\n",
    "<br><br><br>\n",
    "<h1><font color=\"#00586D\" size=5>Módulo 1</font></h1>\n",
    "\n",
    "\n",
    "\n",
    "<h1><font color=\"#00586D\" size=6>Python Crash Course III </font></h1>\n",
    "\n",
    "<br>\n",
    "<div style=\"text-align: left\">\n",
    "<font color=\"#95331E\" size=3>Luis Téllez</font><br>\n",
    "<font color=\"#95331E\" size=3>Curso de especialista en Ciencia de Datos</font><br>\n",
    "\n",
    "\n",
    "</div>"
   ]
  },
  {
   "cell_type": "markdown",
   "id": "421119e8",
   "metadata": {
    "toc": true
   },
   "source": [
    "<h1>Tabla de Contenidos<span class=\"tocSkip\"></span></h1>\n",
    "<div class=\"toc\"><ul class=\"toc-item\"><li><span><a href=\"#Paquetes-y-módulos:-importar\" data-toc-modified-id=\"Paquetes-y-módulos:-importar-1\"><span class=\"toc-item-num\">1&nbsp;&nbsp;</span>Paquetes y módulos: importar</a></span></li><li><span><a href=\"#Ámbito-de-declaración\" data-toc-modified-id=\"Ámbito-de-declaración-2\"><span class=\"toc-item-num\">2&nbsp;&nbsp;</span>Ámbito de declaración</a></span></li><li><span><a href=\"#Ficheros\" data-toc-modified-id=\"Ficheros-3\"><span class=\"toc-item-num\">3&nbsp;&nbsp;</span>Ficheros</a></span></li><li><span><a href=\"#Contextos\" data-toc-modified-id=\"Contextos-4\"><span class=\"toc-item-num\">4&nbsp;&nbsp;</span>Contextos</a></span><ul class=\"toc-item\"><li><span><a href=\"#Ejercicio\" data-toc-modified-id=\"Ejercicio-4.1\"><span class=\"toc-item-num\">4.1&nbsp;&nbsp;</span><font color=\"#00586D\" size=\"4\"><i class=\"fa fa-pencil-square-o\"></i>Ejercicio</font></a></span></li></ul></li><li><span><a href=\"#Pickle:-Serialización-de-Objetos\" data-toc-modified-id=\"Pickle:-Serialización-de-Objetos-5\"><span class=\"toc-item-num\">5&nbsp;&nbsp;</span>Pickle: Serialización de Objetos</a></span></li><li><span><a href=\"#Librería-OS\" data-toc-modified-id=\"Librería-OS-6\"><span class=\"toc-item-num\">6&nbsp;&nbsp;</span>Librería OS</a></span></li><li><span><a href=\"#Clases-y-Objetos\" data-toc-modified-id=\"Clases-y-Objetos-7\"><span class=\"toc-item-num\">7&nbsp;&nbsp;</span>Clases y Objetos</a></span></li><li><span><a href=\"#Herencia\" data-toc-modified-id=\"Herencia-8\"><span class=\"toc-item-num\">8&nbsp;&nbsp;</span>Herencia</a></span><ul class=\"toc-item\"><li><span><a href=\"#Ejercicio\" data-toc-modified-id=\"Ejercicio-8.1\"><span class=\"toc-item-num\">8.1&nbsp;&nbsp;</span><font color=\"#00586D\" size=\"4\"><i class=\"fa fa-pencil-square-o\"></i>Ejercicio</font></a></span></li></ul></li></ul></div>"
   ]
  },
  {
   "cell_type": "code",
   "execution_count": 1,
   "id": "f5ed4a08",
   "metadata": {},
   "outputs": [
    {
     "name": "stdout",
     "output_type": "stream",
     "text": [
      "The `sinfo` package has changed name and is now called `session_info` to become more discoverable and self-explanatory. The `sinfo` PyPI package will be kept around to avoid breaking old installs and you can downgrade to 0.3.2 if you want to use it without seeing this message. For the latest features and bug fixes, please install `session_info` instead. The usage and defaults also changed slightly, so please review the latest README at https://gitlab.com/joelostblom/session_info.\n",
      "-----\n",
      "sinfo       0.3.4\n",
      "-----\n",
      "IPython             7.22.0\n",
      "jupyter_client      6.1.12\n",
      "jupyter_core        4.7.1\n",
      "jupyterlab          3.0.9\n",
      "notebook            6.2.0\n",
      "-----\n",
      "Python 3.8.10 (default, May 19 2021, 13:12:57) [MSC v.1916 64 bit (AMD64)]\n",
      "Windows-10-10.0.19043-SP0\n",
      "16 logical CPU cores, AMD64 Family 23 Model 96 Stepping 1, AuthenticAMD\n",
      "-----\n",
      "Session information updated at 2021-09-07 13:40\n"
     ]
    }
   ],
   "source": [
    "from sinfo import sinfo\n",
    "\n",
    "sinfo()"
   ]
  },
  {
   "cell_type": "markdown",
   "id": "42e54edf",
   "metadata": {},
   "source": [
    "---\n",
    "## Paquetes y módulos: importar"
   ]
  },
  {
   "cell_type": "markdown",
   "id": "dbf4fe0a",
   "metadata": {},
   "source": [
    "En el _Tutorial python I_ ya introdujimos cómo importar módulos (`import math`).\n",
    "\n",
    "Los módulos son ficheros en python. Los módulos pueden ser importados, haciendo su código accesible: por ejemplo `modulo.atributo`.\n",
    "\n",
    "Para cargar un módulo se usa la sentencia `import` seguido del nombre del paquete. Se creará una variable cuyo nombre es el nombre del paquete, y podremos acceder a su contenido con el punto: por ejemplo `math.pi`.\n",
    "\n",
    "Si queremos que la variable para acceder al paquete tenga otro nombre, se puede elegir añadiendo `as nuevo_nombre` después del import: `import math as mt`"
   ]
  },
  {
   "cell_type": "code",
   "execution_count": 2,
   "id": "24daadf0",
   "metadata": {},
   "outputs": [],
   "source": [
    "import math"
   ]
  },
  {
   "cell_type": "code",
   "execution_count": 3,
   "id": "eef1b19a",
   "metadata": {},
   "outputs": [
    {
     "data": {
      "text/plain": [
       "3.141592653589793"
      ]
     },
     "execution_count": 3,
     "metadata": {},
     "output_type": "execute_result"
    }
   ],
   "source": [
    "math.pi"
   ]
  },
  {
   "cell_type": "markdown",
   "id": "d95b9e58",
   "metadata": {},
   "source": [
    "<div class=\"alert alert-block alert-info\">\n",
    "<i class=\"fa fa-info-circle\" aria-hidden=\"true\"></i>\n",
    "Los paquetes son directorios que contienen uno o más módulos (u otros paquetes). Además, cada paquete debe contener un módulo con un nombre especial: <i>__init__.py</i>. Este fichero especial contiene el código que será ejecutado cuando el paquete se importe por primera vez en el intérprete.\n",
    "</div>"
   ]
  },
  {
   "cell_type": "markdown",
   "id": "ec3b3521",
   "metadata": {},
   "source": [
    "<div class=\"alert alert-block alert-info\">\n",
    "<i class=\"fa fa-info-circle\" aria-hidden=\"true\"></i>\n",
    "Además de import, existen otras formas de importar módulos y paquetes. Los más importantes son tres:\n",
    "\n",
    "\n",
    "- `import` (el mostrado anteriormente)\n",
    "- `from módulo import elemento as nombre` (donde `as nombre` es opcional)\n",
    "- Uso del paquete `importlib`: permite un mayor control a la hora de importar módulos y paquetes. Uno de los ejemplos es el importar mediante el uso de strings: `importlib.import_module('random')`.\n",
    "\n",
    "</div>"
   ]
  },
  {
   "cell_type": "code",
   "execution_count": 4,
   "id": "7aa3d682",
   "metadata": {},
   "outputs": [
    {
     "name": "stdout",
     "output_type": "stream",
     "text": [
      "La media +- desviación típica es: 4.9996236 +- 3.1625865772059183.\n"
     ]
    }
   ],
   "source": [
    "\"\"\"\n",
    "En este ejemplo utilizaremos el módulo random para generar números aleatorios.\n",
    "\"\"\"\n",
    "import random  # importamos el módulo\n",
    "import numpy as np  # si no tenemos insyalado numpy, instalarlo ahora\n",
    "numeros_aleatorios = []\n",
    "a, b = 0, 10\n",
    "N = 10000000\n",
    "for _ in range(N):\n",
    "    numeros_aleatorios.append(random.randint(a, b))\n",
    "\n",
    "# Obtenemos estadísticas de sobre la lista de números aleatorios generada\n",
    "\n",
    "print(\"La media +- desviación típica es: {} +- {}.\".format(\n",
    "    np.mean(numeros_aleatorios), np.std(numeros_aleatorios)))\n"
   ]
  },
  {
   "cell_type": "code",
   "execution_count": 5,
   "id": "86c184a6",
   "metadata": {},
   "outputs": [
    {
     "name": "stdout",
     "output_type": "stream",
     "text": [
      "La media +- desviación típoca es: 5.176 +- 3.110470060939343.\n"
     ]
    }
   ],
   "source": [
    "# Utilizando from\n",
    "import random  # importamos el módulo\n",
    "from numpy import mean, std\n",
    "numeros_aleatorios = []\n",
    "a, b = 0, 10\n",
    "N = 1000\n",
    "for _ in range(N):\n",
    "    numeros_aleatorios.append(random.randint(a, b))\n",
    "\n",
    "# Obtenemos estadísticas de sobre la lista de números aleatorios generada\n",
    "\n",
    "print(\"La media +- desviación típoca es: {} +- {}.\".format(\n",
    "    mean(numeros_aleatorios), std(numeros_aleatorios)))\n"
   ]
  },
  {
   "cell_type": "markdown",
   "id": "8eb978aa",
   "metadata": {},
   "source": [
    "<div class=\"alert alert-block alert-info\">\n",
    "<i class=\"fa fa-info-circle\" aria-hidden=\"true\"></i>\n",
    "<strong>Nota</strong>: Sobre todo si no estás habituado a programar en python, es muy recomendable utilizar únicamente `import`. De esta manera, es más dificil cometer errores en el nombrado de variables y machacar paquetes importados (en ese caso, habría que volver a realizar el import para acceder a los módulos / paquetes)."
   ]
  },
  {
   "cell_type": "markdown",
   "id": "8ce24b75",
   "metadata": {},
   "source": [
    "<div class=\"alert alert-block alert-warning\">\n",
    "<i class=\"fa fa-info-circle\" aria-hidden=\"true\"></i>\n",
    "<strong>Nota</strong>: Al usar from, se puede utilizar el asterisco, importando todo lo que hay dentro del paquete. Sin embargo esta práctica está desaconsejada por perder todalmente la visibilidad de los elementos importados."
   ]
  },
  {
   "cell_type": "markdown",
   "id": "ee627f9d",
   "metadata": {},
   "source": [
    "## Ámbito de declaración"
   ]
  },
  {
   "cell_type": "markdown",
   "id": "ce02a95f",
   "metadata": {},
   "source": [
    "Hasta ahora no nos hemos preocupado del **ámbito de declaración** de las variables y funciones. En cualquier parte del código podemos crear una nueva variable con tan solo realizar una asignación, _¿pero es visible desde todo el código?_\n",
    "\n",
    "Por ejemplo:"
   ]
  },
  {
   "cell_type": "code",
   "execution_count": 6,
   "id": "5b5e740f",
   "metadata": {},
   "outputs": [
    {
     "name": "stdout",
     "output_type": "stream",
     "text": [
      "Texto\n"
     ]
    }
   ],
   "source": [
    "fuera_de_funcion = \"Texto\"\n",
    "\n",
    "def mi_funcion():\n",
    "    print(fuera_de_funcion)\n",
    "\n",
    "mi_funcion()  # ¿Funcionará? Sí, accede a la variable global"
   ]
  },
  {
   "cell_type": "code",
   "execution_count": 7,
   "id": "8e48a0a6",
   "metadata": {},
   "outputs": [
    {
     "name": "stdout",
     "output_type": "stream",
     "text": [
      "Texto\n"
     ]
    }
   ],
   "source": [
    "def mi_funcion():\n",
    "    print(fuera_de_funcion)\n",
    "\n",
    "fuera_de_funcion = \"Texto\"\n",
    "\n",
    "mi_funcion()  # ¿Funcionará? Sí, accede a la variable global (no importa el orden del código, importa el de ejecución)"
   ]
  },
  {
   "cell_type": "code",
   "execution_count": 8,
   "id": "562533af",
   "metadata": {},
   "outputs": [
    {
     "ename": "NameError",
     "evalue": "name 'dentro_de_funcion' is not defined",
     "output_type": "error",
     "traceback": [
      "\u001b[1;31m---------------------------------------------------------------------------\u001b[0m",
      "\u001b[1;31mNameError\u001b[0m                                 Traceback (most recent call last)",
      "\u001b[1;32m<ipython-input-8-20887d6b14bd>\u001b[0m in \u001b[0;36m<module>\u001b[1;34m\u001b[0m\n\u001b[0;32m      4\u001b[0m \u001b[0mmi_funcion\u001b[0m\u001b[1;33m(\u001b[0m\u001b[1;33m)\u001b[0m\u001b[1;33m\u001b[0m\u001b[1;33m\u001b[0m\u001b[0m\n\u001b[0;32m      5\u001b[0m \u001b[1;31m# Devuelve error\u001b[0m\u001b[1;33m\u001b[0m\u001b[1;33m\u001b[0m\u001b[1;33m\u001b[0m\u001b[0m\n\u001b[1;32m----> 6\u001b[1;33m \u001b[0mprint\u001b[0m\u001b[1;33m(\u001b[0m\u001b[0mdentro_de_funcion\u001b[0m\u001b[1;33m)\u001b[0m  \u001b[1;31m# ¿Funcionará? No. La función está declarada dentro de mi_funcion (ámbito local a la función)\u001b[0m\u001b[1;33m\u001b[0m\u001b[1;33m\u001b[0m\u001b[0m\n\u001b[0m",
      "\u001b[1;31mNameError\u001b[0m: name 'dentro_de_funcion' is not defined"
     ]
    }
   ],
   "source": [
    "def mi_funcion():\n",
    "    dentro_de_funcion = \"Texto\"\n",
    "\n",
    "mi_funcion()\n",
    "# Devuelve error\n",
    "print(dentro_de_funcion)  # ¿Funcionará? No. La función está declarada dentro de mi_funcion (ámbito local a la función)"
   ]
  },
  {
   "cell_type": "code",
   "execution_count": 9,
   "id": "bcbcec34",
   "metadata": {},
   "outputs": [],
   "source": [
    "def fn():\n",
    "    for i in [4, 5, 6]:\n",
    "        print(i)\n",
    "    print(\"=======\")\n",
    "    print(i)\n",
    "    print(\"=======\")\n",
    "    print(locals())\n",
    "    print(\"=======\")"
   ]
  },
  {
   "cell_type": "code",
   "execution_count": 10,
   "id": "7f7d8f60",
   "metadata": {},
   "outputs": [
    {
     "name": "stdout",
     "output_type": "stream",
     "text": [
      "4\n",
      "5\n",
      "6\n",
      "=======\n",
      "6\n",
      "=======\n",
      "{'i': 6}\n",
      "=======\n"
     ]
    }
   ],
   "source": [
    "fn()"
   ]
  },
  {
   "cell_type": "markdown",
   "id": "c1e96120",
   "metadata": {},
   "source": [
    "En el ultimo ejemplo, la variable ha sido declarada dentro de una función, cuyo ámbito es local a la función. **¡Es decir, la variable solo es visible mientras la función se está ejecutando!**"
   ]
  },
  {
   "cell_type": "markdown",
   "id": "c4b35674",
   "metadata": {},
   "source": [
    "En python existen dos ámbitos:\n",
    "* Local\n",
    "* Global\n",
    "\n",
    "Todo lo que se declare **en el cuerpo del módulo principal** se declara como **global** (_en las libretas, cualquier celda se considera cuerpo del módulo principal, por lo que en general trabajaremos con variables globales_).\n",
    "\n",
    "En todo momento podemos consultar la lista de declaraciones globales y locales mediante las funciones built-in `globals` y `locals`.\n",
    "\n",
    "**El resto se declara como local** al ámbito de donde se esté ejecutando (función, objeto, módulo, ...)."
   ]
  },
  {
   "cell_type": "code",
   "execution_count": 11,
   "id": "07ee0cfc",
   "metadata": {},
   "outputs": [
    {
     "name": "stdout",
     "output_type": "stream",
     "text": [
      "Éstos son los elementos de ámbito local: {'dentro_de_funcion': 'Texto'}\n",
      "\n",
      "Fuera de la función éstos son los elementos de ámbito locales: {'__name__': '__main__', '__doc__': '\\nEn este ejemplo utilizaremos el módulo random para generar números aleatorios.\\n', '__package__': None, '__loader__': None, '__spec__': None, '__builtin__': <module 'builtins' (built-in)>, '__builtins__': <module 'builtins' (built-in)>, '_ih': ['', 'from sinfo import sinfo\\n\\nsinfo()', 'import math', 'math.pi', '\"\"\"\\nEn este ejemplo utilizaremos el módulo random para generar números aleatorios.\\n\"\"\"\\nimport random  # importamos el módulo\\nimport numpy as np  # si no tenemos insyalado numpy, instalarlo ahora\\nnumeros_aleatorios = []\\na, b = 0, 10\\nN = 10000000\\nfor _ in range(N):\\n    numeros_aleatorios.append(random.randint(a, b))\\n\\n# Obtenemos estadísticas de sobre la lista de números aleatorios generada\\n\\nprint(\"La media +- desviación típica es: {} +- {}.\".format(\\n    np.mean(numeros_aleatorios), np.std(numeros_aleatorios)))', '# Utilizando from\\nimport random  # importamos el módulo\\nfrom numpy import mean, std\\nnumeros_aleatorios = []\\na, b = 0, 10\\nN = 1000\\nfor _ in range(N):\\n    numeros_aleatorios.append(random.randint(a, b))\\n\\n# Obtenemos estadísticas de sobre la lista de números aleatorios generada\\n\\nprint(\"La media +- desviación típoca es: {} +- {}.\".format(\\n    mean(numeros_aleatorios), std(numeros_aleatorios)))', 'fuera_de_funcion = \"Texto\"\\n\\ndef mi_funcion():\\n    print(fuera_de_funcion)\\n\\nmi_funcion()  # ¿Funcionará? Sí, accede a la variable global', 'def mi_funcion():\\n    print(fuera_de_funcion)\\n\\nfuera_de_funcion = \"Texto\"\\n\\nmi_funcion()  # ¿Funcionará? Sí, accede a la variable global (no importa el orden del código, importa el de ejecución)', 'def mi_funcion():\\n    dentro_de_funcion = \"Texto\"\\n\\nmi_funcion()\\n# Devuelve error\\nprint(dentro_de_funcion)  # ¿Funcionará? No. La función está declarada dentro de mi_funcion (ámbito local a la función)', 'def fn():\\n    for i in [4, 5, 6]:\\n        print(i)\\n    print(\"=======\")\\n    print(i)\\n    print(\"=======\")\\n    print(locals())\\n    print(\"=======\")', 'fn()', 'def mi_funcion():\\n    dentro_de_funcion = \"Texto\"\\n    print(\"Éstos son los elementos de ámbito local: {}\\\\n\".format(locals()))\\n\\nmi_funcion()\\n\\nprint(\"Fuera de la función éstos son los elementos de ámbito locales: {}\\\\n\".format(locals()))\\n\\nprint(\"Que son los mismos que los elementos de ámbito global: {}\\\\n\".format(globals()))'], '_oh': {3: 3.141592653589793}, '_dh': ['C:\\\\Users\\\\LUIS\\\\OneDrive - Universidad de Almeria\\\\Python\\\\PYTHON COURSE LUIS'], 'In': ['', 'from sinfo import sinfo\\n\\nsinfo()', 'import math', 'math.pi', '\"\"\"\\nEn este ejemplo utilizaremos el módulo random para generar números aleatorios.\\n\"\"\"\\nimport random  # importamos el módulo\\nimport numpy as np  # si no tenemos insyalado numpy, instalarlo ahora\\nnumeros_aleatorios = []\\na, b = 0, 10\\nN = 10000000\\nfor _ in range(N):\\n    numeros_aleatorios.append(random.randint(a, b))\\n\\n# Obtenemos estadísticas de sobre la lista de números aleatorios generada\\n\\nprint(\"La media +- desviación típica es: {} +- {}.\".format(\\n    np.mean(numeros_aleatorios), np.std(numeros_aleatorios)))', '# Utilizando from\\nimport random  # importamos el módulo\\nfrom numpy import mean, std\\nnumeros_aleatorios = []\\na, b = 0, 10\\nN = 1000\\nfor _ in range(N):\\n    numeros_aleatorios.append(random.randint(a, b))\\n\\n# Obtenemos estadísticas de sobre la lista de números aleatorios generada\\n\\nprint(\"La media +- desviación típoca es: {} +- {}.\".format(\\n    mean(numeros_aleatorios), std(numeros_aleatorios)))', 'fuera_de_funcion = \"Texto\"\\n\\ndef mi_funcion():\\n    print(fuera_de_funcion)\\n\\nmi_funcion()  # ¿Funcionará? Sí, accede a la variable global', 'def mi_funcion():\\n    print(fuera_de_funcion)\\n\\nfuera_de_funcion = \"Texto\"\\n\\nmi_funcion()  # ¿Funcionará? Sí, accede a la variable global (no importa el orden del código, importa el de ejecución)', 'def mi_funcion():\\n    dentro_de_funcion = \"Texto\"\\n\\nmi_funcion()\\n# Devuelve error\\nprint(dentro_de_funcion)  # ¿Funcionará? No. La función está declarada dentro de mi_funcion (ámbito local a la función)', 'def fn():\\n    for i in [4, 5, 6]:\\n        print(i)\\n    print(\"=======\")\\n    print(i)\\n    print(\"=======\")\\n    print(locals())\\n    print(\"=======\")', 'fn()', 'def mi_funcion():\\n    dentro_de_funcion = \"Texto\"\\n    print(\"Éstos son los elementos de ámbito local: {}\\\\n\".format(locals()))\\n\\nmi_funcion()\\n\\nprint(\"Fuera de la función éstos son los elementos de ámbito locales: {}\\\\n\".format(locals()))\\n\\nprint(\"Que son los mismos que los elementos de ámbito global: {}\\\\n\".format(globals()))'], 'Out': {3: 3.141592653589793}, 'get_ipython': <bound method InteractiveShell.get_ipython of <ipykernel.zmqshell.ZMQInteractiveShell object at 0x0000012A7DE5F100>>, 'exit': <IPython.core.autocall.ZMQExitAutocall object at 0x0000012A7DE5FA60>, 'quit': <IPython.core.autocall.ZMQExitAutocall object at 0x0000012A7DE5FA60>, '_': 999, '__': '', '___': '', '_i': 'fn()', '_ii': 'def fn():\\n    for i in [4, 5, 6]:\\n        print(i)\\n    print(\"=======\")\\n    print(i)\\n    print(\"=======\")\\n    print(locals())\\n    print(\"=======\")', '_iii': 'def mi_funcion():\\n    dentro_de_funcion = \"Texto\"\\n\\nmi_funcion()\\n# Devuelve error\\nprint(dentro_de_funcion)  # ¿Funcionará? No. La función está declarada dentro de mi_funcion (ámbito local a la función)', '_i1': 'from sinfo import sinfo\\n\\nsinfo()', 'sinfo': <function sinfo at 0x0000012A7DF1CC10>, '_i2': 'import math', 'math': <module 'math' (built-in)>, '_i3': 'math.pi', '_3': 3.141592653589793, '_i4': '\"\"\"\\nEn este ejemplo utilizaremos el módulo random para generar números aleatorios.\\n\"\"\"\\nimport random  # importamos el módulo\\nimport numpy as np  # si no tenemos insyalado numpy, instalarlo ahora\\nnumeros_aleatorios = []\\na, b = 0, 10\\nN = 10000000\\nfor _ in range(N):\\n    numeros_aleatorios.append(random.randint(a, b))\\n\\n# Obtenemos estadísticas de sobre la lista de números aleatorios generada\\n\\nprint(\"La media +- desviación típica es: {} +- {}.\".format(\\n    np.mean(numeros_aleatorios), np.std(numeros_aleatorios)))', 'random': <module 'random' from 'C:\\\\Users\\\\LUIS\\\\anaconda3\\\\envs\\\\TORRECARDENAS\\\\lib\\\\random.py'>, 'np': <module 'numpy' from 'C:\\\\Users\\\\LUIS\\\\anaconda3\\\\envs\\\\TORRECARDENAS\\\\lib\\\\site-packages\\\\numpy\\\\__init__.py'>, 'numeros_aleatorios': [0, 5, 3, 8, 2, 4, 6, 4, 7, 8, 1, 7, 4, 8, 8, 5, 7, 6, 0, 3, 10, 0, 0, 0, 4, 0, 1, 10, 7, 5, 5, 9, 7, 7, 7, 1, 10, 10, 8, 3, 6, 6, 3, 4, 10, 7, 3, 10, 7, 6, 1, 8, 0, 2, 4, 0, 3, 9, 5, 10, 7, 9, 3, 5, 4, 6, 9, 6, 2, 3, 10, 5, 9, 7, 7, 3, 8, 2, 10, 6, 7, 0, 1, 8, 7, 6, 9, 9, 10, 5, 6, 5, 5, 10, 0, 8, 4, 2, 5, 10, 1, 8, 2, 3, 7, 0, 1, 4, 5, 9, 2, 3, 9, 5, 0, 4, 7, 2, 5, 3, 9, 7, 9, 6, 9, 5, 10, 0, 3, 10, 8, 8, 3, 8, 5, 2, 5, 9, 10, 4, 6, 3, 6, 5, 5, 7, 2, 4, 2, 6, 9, 0, 1, 9, 5, 7, 5, 2, 5, 10, 7, 4, 6, 1, 10, 0, 7, 8, 3, 2, 1, 5, 7, 2, 2, 6, 2, 7, 6, 1, 5, 9, 4, 10, 9, 8, 6, 4, 3, 7, 6, 2, 8, 0, 8, 6, 1, 7, 1, 1, 1, 4, 1, 6, 1, 4, 8, 1, 5, 10, 5, 8, 0, 4, 3, 9, 10, 0, 10, 6, 5, 9, 7, 7, 8, 8, 7, 6, 7, 4, 4, 1, 0, 7, 7, 3, 6, 5, 1, 10, 0, 1, 5, 2, 3, 1, 4, 0, 6, 9, 8, 7, 8, 2, 8, 7, 10, 1, 4, 0, 8, 3, 7, 2, 3, 2, 9, 4, 7, 7, 10, 7, 9, 9, 10, 4, 0, 1, 9, 4, 5, 2, 4, 0, 2, 6, 10, 6, 5, 4, 2, 0, 0, 10, 3, 9, 8, 1, 9, 9, 2, 6, 8, 3, 8, 6, 2, 10, 8, 8, 7, 0, 8, 4, 2, 3, 3, 3, 10, 2, 5, 7, 10, 0, 2, 6, 2, 6, 0, 10, 8, 0, 7, 6, 0, 7, 6, 9, 1, 2, 4, 6, 5, 9, 1, 3, 4, 8, 5, 7, 9, 6, 10, 5, 6, 9, 3, 0, 10, 10, 4, 0, 3, 6, 6, 9, 2, 3, 8, 0, 4, 5, 0, 9, 2, 9, 9, 8, 3, 1, 0, 9, 1, 3, 8, 4, 4, 10, 3, 10, 2, 2, 9, 3, 2, 2, 4, 2, 5, 9, 6, 9, 2, 5, 9, 7, 9, 8, 6, 6, 8, 4, 5, 3, 10, 8, 9, 7, 0, 6, 2, 7, 8, 10, 3, 5, 7, 10, 0, 6, 1, 7, 10, 7, 1, 4, 5, 10, 2, 5, 3, 1, 7, 8, 7, 5, 7, 1, 10, 8, 7, 4, 8, 2, 3, 1, 4, 1, 9, 8, 8, 4, 3, 5, 0, 4, 4, 8, 4, 5, 9, 4, 5, 5, 9, 0, 2, 10, 10, 7, 3, 8, 6, 1, 6, 4, 10, 3, 1, 1, 4, 9, 6, 9, 1, 10, 5, 7, 3, 3, 8, 6, 2, 5, 0, 8, 3, 5, 4, 10, 9, 0, 2, 2, 8, 9, 10, 5, 6, 9, 8, 6, 2, 7, 7, 7, 4, 7, 1, 10, 4, 10, 8, 4, 9, 3, 6, 7, 3, 4, 9, 0, 5, 7, 10, 1, 5, 2, 8, 6, 3, 4, 5, 1, 5, 8, 0, 3, 2, 8, 3, 8, 7, 4, 2, 6, 8, 9, 9, 8, 8, 4, 6, 8, 4, 5, 7, 10, 2, 3, 7, 1, 10, 4, 7, 7, 1, 0, 5, 3, 6, 10, 0, 4, 2, 9, 5, 9, 9, 6, 8, 4, 2, 8, 5, 2, 5, 1, 7, 8, 7, 0, 0, 4, 6, 8, 6, 5, 6, 9, 2, 10, 7, 6, 0, 9, 0, 1, 1, 9, 0, 2, 5, 5, 10, 8, 5, 3, 0, 1, 9, 3, 5, 3, 7, 9, 5, 10, 4, 9, 9, 7, 0, 8, 5, 3, 7, 3, 0, 2, 0, 1, 10, 4, 8, 8, 4, 2, 3, 4, 4, 10, 2, 4, 1, 4, 9, 8, 0, 5, 0, 6, 4, 0, 7, 6, 1, 6, 7, 10, 1, 0, 10, 5, 6, 9, 2, 6, 2, 7, 6, 5, 5, 2, 7, 4, 2, 6, 10, 9, 2, 8, 10, 0, 6, 3, 7, 1, 9, 10, 10, 9, 6, 4, 1, 1, 0, 6, 2, 8, 1, 4, 9, 5, 9, 2, 0, 8, 1, 5, 7, 5, 8, 4, 0, 6, 10, 6, 1, 3, 2, 10, 5, 9, 6, 3, 3, 8, 1, 9, 1, 3, 7, 6, 4, 5, 5, 4, 9, 8, 3, 0, 6, 2, 6, 7, 8, 9, 8, 4, 4, 2, 2, 7, 10, 10, 3, 0, 1, 4, 7, 1, 6, 7, 10, 1, 2, 10, 8, 5, 9, 5, 8, 1, 10, 2, 8, 1, 0, 10, 6, 0, 3, 2, 5, 9, 6, 7, 7, 3, 4, 3, 5, 10, 10, 6, 2, 3, 0, 9, 1, 0, 0, 6, 5, 9, 5, 7, 8, 10, 9, 4, 0, 3, 2, 10, 4, 2, 3, 2, 9, 0, 10, 8, 3, 7, 2, 4, 9, 6, 5, 7, 9, 7, 10, 10, 4, 6, 9, 7, 0, 6, 10, 5, 6, 3, 7, 3, 2, 9, 2, 9, 6, 8, 8, 10, 2, 5, 3, 6, 1, 1, 2, 8, 10, 7, 3, 9, 9, 4, 3, 7, 2, 8, 9, 7, 8, 4, 2, 0, 9, 3, 6, 1, 6, 1, 5, 5, 1, 9, 2, 6, 9, 8, 0, 5, 6, 6, 4, 0, 3, 2, 5, 6, 8, 3, 4, 8, 0, 7, 8, 8, 9, 5, 1, 10, 10, 4, 5, 3, 4, 6, 9, 4, 1, 0, 4, 4, 10, 2, 4, 9, 9, 1, 4, 9, 3, 0, 9, 6, 0, 7, 5, 3, 7, 3, 3, 8, 3, 0, 4, 9, 9, 9, 9, 3, 0, 9, 9, 10, 4, 7, 2, 5, 10, 1, 6, 2, 0, 7], 'a': 0, 'b': 10, 'N': 1000, '_i5': '# Utilizando from\\nimport random  # importamos el módulo\\nfrom numpy import mean, std\\nnumeros_aleatorios = []\\na, b = 0, 10\\nN = 1000\\nfor _ in range(N):\\n    numeros_aleatorios.append(random.randint(a, b))\\n\\n# Obtenemos estadísticas de sobre la lista de números aleatorios generada\\n\\nprint(\"La media +- desviación típoca es: {} +- {}.\".format(\\n    mean(numeros_aleatorios), std(numeros_aleatorios)))', 'mean': <function mean at 0x0000012A7804D4C0>, 'std': <function std at 0x0000012A7804D670>, '_i6': 'fuera_de_funcion = \"Texto\"\\n\\ndef mi_funcion():\\n    print(fuera_de_funcion)\\n\\nmi_funcion()  # ¿Funcionará? Sí, accede a la variable global', 'fuera_de_funcion': 'Texto', 'mi_funcion': <function mi_funcion at 0x0000012A78647040>, '_i7': 'def mi_funcion():\\n    print(fuera_de_funcion)\\n\\nfuera_de_funcion = \"Texto\"\\n\\nmi_funcion()  # ¿Funcionará? Sí, accede a la variable global (no importa el orden del código, importa el de ejecución)', '_i8': 'def mi_funcion():\\n    dentro_de_funcion = \"Texto\"\\n\\nmi_funcion()\\n# Devuelve error\\nprint(dentro_de_funcion)  # ¿Funcionará? No. La función está declarada dentro de mi_funcion (ámbito local a la función)', '_i9': 'def fn():\\n    for i in [4, 5, 6]:\\n        print(i)\\n    print(\"=======\")\\n    print(i)\\n    print(\"=======\")\\n    print(locals())\\n    print(\"=======\")', 'fn': <function fn at 0x0000012A78647A60>, '_i10': 'fn()', '_i11': 'def mi_funcion():\\n    dentro_de_funcion = \"Texto\"\\n    print(\"Éstos son los elementos de ámbito local: {}\\\\n\".format(locals()))\\n\\nmi_funcion()\\n\\nprint(\"Fuera de la función éstos son los elementos de ámbito locales: {}\\\\n\".format(locals()))\\n\\nprint(\"Que son los mismos que los elementos de ámbito global: {}\\\\n\".format(globals()))'}\n",
      "\n",
      "Que son los mismos que los elementos de ámbito global: {'__name__': '__main__', '__doc__': '\\nEn este ejemplo utilizaremos el módulo random para generar números aleatorios.\\n', '__package__': None, '__loader__': None, '__spec__': None, '__builtin__': <module 'builtins' (built-in)>, '__builtins__': <module 'builtins' (built-in)>, '_ih': ['', 'from sinfo import sinfo\\n\\nsinfo()', 'import math', 'math.pi', '\"\"\"\\nEn este ejemplo utilizaremos el módulo random para generar números aleatorios.\\n\"\"\"\\nimport random  # importamos el módulo\\nimport numpy as np  # si no tenemos insyalado numpy, instalarlo ahora\\nnumeros_aleatorios = []\\na, b = 0, 10\\nN = 10000000\\nfor _ in range(N):\\n    numeros_aleatorios.append(random.randint(a, b))\\n\\n# Obtenemos estadísticas de sobre la lista de números aleatorios generada\\n\\nprint(\"La media +- desviación típica es: {} +- {}.\".format(\\n    np.mean(numeros_aleatorios), np.std(numeros_aleatorios)))', '# Utilizando from\\nimport random  # importamos el módulo\\nfrom numpy import mean, std\\nnumeros_aleatorios = []\\na, b = 0, 10\\nN = 1000\\nfor _ in range(N):\\n    numeros_aleatorios.append(random.randint(a, b))\\n\\n# Obtenemos estadísticas de sobre la lista de números aleatorios generada\\n\\nprint(\"La media +- desviación típoca es: {} +- {}.\".format(\\n    mean(numeros_aleatorios), std(numeros_aleatorios)))', 'fuera_de_funcion = \"Texto\"\\n\\ndef mi_funcion():\\n    print(fuera_de_funcion)\\n\\nmi_funcion()  # ¿Funcionará? Sí, accede a la variable global', 'def mi_funcion():\\n    print(fuera_de_funcion)\\n\\nfuera_de_funcion = \"Texto\"\\n\\nmi_funcion()  # ¿Funcionará? Sí, accede a la variable global (no importa el orden del código, importa el de ejecución)', 'def mi_funcion():\\n    dentro_de_funcion = \"Texto\"\\n\\nmi_funcion()\\n# Devuelve error\\nprint(dentro_de_funcion)  # ¿Funcionará? No. La función está declarada dentro de mi_funcion (ámbito local a la función)', 'def fn():\\n    for i in [4, 5, 6]:\\n        print(i)\\n    print(\"=======\")\\n    print(i)\\n    print(\"=======\")\\n    print(locals())\\n    print(\"=======\")', 'fn()', 'def mi_funcion():\\n    dentro_de_funcion = \"Texto\"\\n    print(\"Éstos son los elementos de ámbito local: {}\\\\n\".format(locals()))\\n\\nmi_funcion()\\n\\nprint(\"Fuera de la función éstos son los elementos de ámbito locales: {}\\\\n\".format(locals()))\\n\\nprint(\"Que son los mismos que los elementos de ámbito global: {}\\\\n\".format(globals()))'], '_oh': {3: 3.141592653589793}, '_dh': ['C:\\\\Users\\\\LUIS\\\\OneDrive - Universidad de Almeria\\\\Python\\\\PYTHON COURSE LUIS'], 'In': ['', 'from sinfo import sinfo\\n\\nsinfo()', 'import math', 'math.pi', '\"\"\"\\nEn este ejemplo utilizaremos el módulo random para generar números aleatorios.\\n\"\"\"\\nimport random  # importamos el módulo\\nimport numpy as np  # si no tenemos insyalado numpy, instalarlo ahora\\nnumeros_aleatorios = []\\na, b = 0, 10\\nN = 10000000\\nfor _ in range(N):\\n    numeros_aleatorios.append(random.randint(a, b))\\n\\n# Obtenemos estadísticas de sobre la lista de números aleatorios generada\\n\\nprint(\"La media +- desviación típica es: {} +- {}.\".format(\\n    np.mean(numeros_aleatorios), np.std(numeros_aleatorios)))', '# Utilizando from\\nimport random  # importamos el módulo\\nfrom numpy import mean, std\\nnumeros_aleatorios = []\\na, b = 0, 10\\nN = 1000\\nfor _ in range(N):\\n    numeros_aleatorios.append(random.randint(a, b))\\n\\n# Obtenemos estadísticas de sobre la lista de números aleatorios generada\\n\\nprint(\"La media +- desviación típoca es: {} +- {}.\".format(\\n    mean(numeros_aleatorios), std(numeros_aleatorios)))', 'fuera_de_funcion = \"Texto\"\\n\\ndef mi_funcion():\\n    print(fuera_de_funcion)\\n\\nmi_funcion()  # ¿Funcionará? Sí, accede a la variable global', 'def mi_funcion():\\n    print(fuera_de_funcion)\\n\\nfuera_de_funcion = \"Texto\"\\n\\nmi_funcion()  # ¿Funcionará? Sí, accede a la variable global (no importa el orden del código, importa el de ejecución)', 'def mi_funcion():\\n    dentro_de_funcion = \"Texto\"\\n\\nmi_funcion()\\n# Devuelve error\\nprint(dentro_de_funcion)  # ¿Funcionará? No. La función está declarada dentro de mi_funcion (ámbito local a la función)', 'def fn():\\n    for i in [4, 5, 6]:\\n        print(i)\\n    print(\"=======\")\\n    print(i)\\n    print(\"=======\")\\n    print(locals())\\n    print(\"=======\")', 'fn()', 'def mi_funcion():\\n    dentro_de_funcion = \"Texto\"\\n    print(\"Éstos son los elementos de ámbito local: {}\\\\n\".format(locals()))\\n\\nmi_funcion()\\n\\nprint(\"Fuera de la función éstos son los elementos de ámbito locales: {}\\\\n\".format(locals()))\\n\\nprint(\"Que son los mismos que los elementos de ámbito global: {}\\\\n\".format(globals()))'], 'Out': {3: 3.141592653589793}, 'get_ipython': <bound method InteractiveShell.get_ipython of <ipykernel.zmqshell.ZMQInteractiveShell object at 0x0000012A7DE5F100>>, 'exit': <IPython.core.autocall.ZMQExitAutocall object at 0x0000012A7DE5FA60>, 'quit': <IPython.core.autocall.ZMQExitAutocall object at 0x0000012A7DE5FA60>, '_': 999, '__': '', '___': '', '_i': 'fn()', '_ii': 'def fn():\\n    for i in [4, 5, 6]:\\n        print(i)\\n    print(\"=======\")\\n    print(i)\\n    print(\"=======\")\\n    print(locals())\\n    print(\"=======\")', '_iii': 'def mi_funcion():\\n    dentro_de_funcion = \"Texto\"\\n\\nmi_funcion()\\n# Devuelve error\\nprint(dentro_de_funcion)  # ¿Funcionará? No. La función está declarada dentro de mi_funcion (ámbito local a la función)', '_i1': 'from sinfo import sinfo\\n\\nsinfo()', 'sinfo': <function sinfo at 0x0000012A7DF1CC10>, '_i2': 'import math', 'math': <module 'math' (built-in)>, '_i3': 'math.pi', '_3': 3.141592653589793, '_i4': '\"\"\"\\nEn este ejemplo utilizaremos el módulo random para generar números aleatorios.\\n\"\"\"\\nimport random  # importamos el módulo\\nimport numpy as np  # si no tenemos insyalado numpy, instalarlo ahora\\nnumeros_aleatorios = []\\na, b = 0, 10\\nN = 10000000\\nfor _ in range(N):\\n    numeros_aleatorios.append(random.randint(a, b))\\n\\n# Obtenemos estadísticas de sobre la lista de números aleatorios generada\\n\\nprint(\"La media +- desviación típica es: {} +- {}.\".format(\\n    np.mean(numeros_aleatorios), np.std(numeros_aleatorios)))', 'random': <module 'random' from 'C:\\\\Users\\\\LUIS\\\\anaconda3\\\\envs\\\\TORRECARDENAS\\\\lib\\\\random.py'>, 'np': <module 'numpy' from 'C:\\\\Users\\\\LUIS\\\\anaconda3\\\\envs\\\\TORRECARDENAS\\\\lib\\\\site-packages\\\\numpy\\\\__init__.py'>, 'numeros_aleatorios': [0, 5, 3, 8, 2, 4, 6, 4, 7, 8, 1, 7, 4, 8, 8, 5, 7, 6, 0, 3, 10, 0, 0, 0, 4, 0, 1, 10, 7, 5, 5, 9, 7, 7, 7, 1, 10, 10, 8, 3, 6, 6, 3, 4, 10, 7, 3, 10, 7, 6, 1, 8, 0, 2, 4, 0, 3, 9, 5, 10, 7, 9, 3, 5, 4, 6, 9, 6, 2, 3, 10, 5, 9, 7, 7, 3, 8, 2, 10, 6, 7, 0, 1, 8, 7, 6, 9, 9, 10, 5, 6, 5, 5, 10, 0, 8, 4, 2, 5, 10, 1, 8, 2, 3, 7, 0, 1, 4, 5, 9, 2, 3, 9, 5, 0, 4, 7, 2, 5, 3, 9, 7, 9, 6, 9, 5, 10, 0, 3, 10, 8, 8, 3, 8, 5, 2, 5, 9, 10, 4, 6, 3, 6, 5, 5, 7, 2, 4, 2, 6, 9, 0, 1, 9, 5, 7, 5, 2, 5, 10, 7, 4, 6, 1, 10, 0, 7, 8, 3, 2, 1, 5, 7, 2, 2, 6, 2, 7, 6, 1, 5, 9, 4, 10, 9, 8, 6, 4, 3, 7, 6, 2, 8, 0, 8, 6, 1, 7, 1, 1, 1, 4, 1, 6, 1, 4, 8, 1, 5, 10, 5, 8, 0, 4, 3, 9, 10, 0, 10, 6, 5, 9, 7, 7, 8, 8, 7, 6, 7, 4, 4, 1, 0, 7, 7, 3, 6, 5, 1, 10, 0, 1, 5, 2, 3, 1, 4, 0, 6, 9, 8, 7, 8, 2, 8, 7, 10, 1, 4, 0, 8, 3, 7, 2, 3, 2, 9, 4, 7, 7, 10, 7, 9, 9, 10, 4, 0, 1, 9, 4, 5, 2, 4, 0, 2, 6, 10, 6, 5, 4, 2, 0, 0, 10, 3, 9, 8, 1, 9, 9, 2, 6, 8, 3, 8, 6, 2, 10, 8, 8, 7, 0, 8, 4, 2, 3, 3, 3, 10, 2, 5, 7, 10, 0, 2, 6, 2, 6, 0, 10, 8, 0, 7, 6, 0, 7, 6, 9, 1, 2, 4, 6, 5, 9, 1, 3, 4, 8, 5, 7, 9, 6, 10, 5, 6, 9, 3, 0, 10, 10, 4, 0, 3, 6, 6, 9, 2, 3, 8, 0, 4, 5, 0, 9, 2, 9, 9, 8, 3, 1, 0, 9, 1, 3, 8, 4, 4, 10, 3, 10, 2, 2, 9, 3, 2, 2, 4, 2, 5, 9, 6, 9, 2, 5, 9, 7, 9, 8, 6, 6, 8, 4, 5, 3, 10, 8, 9, 7, 0, 6, 2, 7, 8, 10, 3, 5, 7, 10, 0, 6, 1, 7, 10, 7, 1, 4, 5, 10, 2, 5, 3, 1, 7, 8, 7, 5, 7, 1, 10, 8, 7, 4, 8, 2, 3, 1, 4, 1, 9, 8, 8, 4, 3, 5, 0, 4, 4, 8, 4, 5, 9, 4, 5, 5, 9, 0, 2, 10, 10, 7, 3, 8, 6, 1, 6, 4, 10, 3, 1, 1, 4, 9, 6, 9, 1, 10, 5, 7, 3, 3, 8, 6, 2, 5, 0, 8, 3, 5, 4, 10, 9, 0, 2, 2, 8, 9, 10, 5, 6, 9, 8, 6, 2, 7, 7, 7, 4, 7, 1, 10, 4, 10, 8, 4, 9, 3, 6, 7, 3, 4, 9, 0, 5, 7, 10, 1, 5, 2, 8, 6, 3, 4, 5, 1, 5, 8, 0, 3, 2, 8, 3, 8, 7, 4, 2, 6, 8, 9, 9, 8, 8, 4, 6, 8, 4, 5, 7, 10, 2, 3, 7, 1, 10, 4, 7, 7, 1, 0, 5, 3, 6, 10, 0, 4, 2, 9, 5, 9, 9, 6, 8, 4, 2, 8, 5, 2, 5, 1, 7, 8, 7, 0, 0, 4, 6, 8, 6, 5, 6, 9, 2, 10, 7, 6, 0, 9, 0, 1, 1, 9, 0, 2, 5, 5, 10, 8, 5, 3, 0, 1, 9, 3, 5, 3, 7, 9, 5, 10, 4, 9, 9, 7, 0, 8, 5, 3, 7, 3, 0, 2, 0, 1, 10, 4, 8, 8, 4, 2, 3, 4, 4, 10, 2, 4, 1, 4, 9, 8, 0, 5, 0, 6, 4, 0, 7, 6, 1, 6, 7, 10, 1, 0, 10, 5, 6, 9, 2, 6, 2, 7, 6, 5, 5, 2, 7, 4, 2, 6, 10, 9, 2, 8, 10, 0, 6, 3, 7, 1, 9, 10, 10, 9, 6, 4, 1, 1, 0, 6, 2, 8, 1, 4, 9, 5, 9, 2, 0, 8, 1, 5, 7, 5, 8, 4, 0, 6, 10, 6, 1, 3, 2, 10, 5, 9, 6, 3, 3, 8, 1, 9, 1, 3, 7, 6, 4, 5, 5, 4, 9, 8, 3, 0, 6, 2, 6, 7, 8, 9, 8, 4, 4, 2, 2, 7, 10, 10, 3, 0, 1, 4, 7, 1, 6, 7, 10, 1, 2, 10, 8, 5, 9, 5, 8, 1, 10, 2, 8, 1, 0, 10, 6, 0, 3, 2, 5, 9, 6, 7, 7, 3, 4, 3, 5, 10, 10, 6, 2, 3, 0, 9, 1, 0, 0, 6, 5, 9, 5, 7, 8, 10, 9, 4, 0, 3, 2, 10, 4, 2, 3, 2, 9, 0, 10, 8, 3, 7, 2, 4, 9, 6, 5, 7, 9, 7, 10, 10, 4, 6, 9, 7, 0, 6, 10, 5, 6, 3, 7, 3, 2, 9, 2, 9, 6, 8, 8, 10, 2, 5, 3, 6, 1, 1, 2, 8, 10, 7, 3, 9, 9, 4, 3, 7, 2, 8, 9, 7, 8, 4, 2, 0, 9, 3, 6, 1, 6, 1, 5, 5, 1, 9, 2, 6, 9, 8, 0, 5, 6, 6, 4, 0, 3, 2, 5, 6, 8, 3, 4, 8, 0, 7, 8, 8, 9, 5, 1, 10, 10, 4, 5, 3, 4, 6, 9, 4, 1, 0, 4, 4, 10, 2, 4, 9, 9, 1, 4, 9, 3, 0, 9, 6, 0, 7, 5, 3, 7, 3, 3, 8, 3, 0, 4, 9, 9, 9, 9, 3, 0, 9, 9, 10, 4, 7, 2, 5, 10, 1, 6, 2, 0, 7], 'a': 0, 'b': 10, 'N': 1000, '_i5': '# Utilizando from\\nimport random  # importamos el módulo\\nfrom numpy import mean, std\\nnumeros_aleatorios = []\\na, b = 0, 10\\nN = 1000\\nfor _ in range(N):\\n    numeros_aleatorios.append(random.randint(a, b))\\n\\n# Obtenemos estadísticas de sobre la lista de números aleatorios generada\\n\\nprint(\"La media +- desviación típoca es: {} +- {}.\".format(\\n    mean(numeros_aleatorios), std(numeros_aleatorios)))', 'mean': <function mean at 0x0000012A7804D4C0>, 'std': <function std at 0x0000012A7804D670>, '_i6': 'fuera_de_funcion = \"Texto\"\\n\\ndef mi_funcion():\\n    print(fuera_de_funcion)\\n\\nmi_funcion()  # ¿Funcionará? Sí, accede a la variable global', 'fuera_de_funcion': 'Texto', 'mi_funcion': <function mi_funcion at 0x0000012A78647040>, '_i7': 'def mi_funcion():\\n    print(fuera_de_funcion)\\n\\nfuera_de_funcion = \"Texto\"\\n\\nmi_funcion()  # ¿Funcionará? Sí, accede a la variable global (no importa el orden del código, importa el de ejecución)', '_i8': 'def mi_funcion():\\n    dentro_de_funcion = \"Texto\"\\n\\nmi_funcion()\\n# Devuelve error\\nprint(dentro_de_funcion)  # ¿Funcionará? No. La función está declarada dentro de mi_funcion (ámbito local a la función)', '_i9': 'def fn():\\n    for i in [4, 5, 6]:\\n        print(i)\\n    print(\"=======\")\\n    print(i)\\n    print(\"=======\")\\n    print(locals())\\n    print(\"=======\")', 'fn': <function fn at 0x0000012A78647A60>, '_i10': 'fn()', '_i11': 'def mi_funcion():\\n    dentro_de_funcion = \"Texto\"\\n    print(\"Éstos son los elementos de ámbito local: {}\\\\n\".format(locals()))\\n\\nmi_funcion()\\n\\nprint(\"Fuera de la función éstos son los elementos de ámbito locales: {}\\\\n\".format(locals()))\\n\\nprint(\"Que son los mismos que los elementos de ámbito global: {}\\\\n\".format(globals()))'}\n",
      "\n"
     ]
    }
   ],
   "source": [
    "def mi_funcion():\n",
    "    dentro_de_funcion = \"Texto\"\n",
    "    print(\"Éstos son los elementos de ámbito local: {}\\n\".format(locals()))\n",
    "\n",
    "mi_funcion()\n",
    "\n",
    "print(\"Fuera de la función éstos son los elementos de ámbito locales: {}\\n\".format(locals()))\n",
    "\n",
    "print(\"Que son los mismos que los elementos de ámbito global: {}\\n\".format(globals()))"
   ]
  },
  {
   "cell_type": "markdown",
   "id": "908b9ed1",
   "metadata": {},
   "source": [
    "<font size=4> <i class=\"fa fa-book\" aria-hidden=\"true\" style=\"color:#00586D\"></i> </font> __Importante!__ Podemos definir funciones dentro de funciones. Lo que tendríamos es un ámbito local dentro de otro ámbito local. Esto se gestiona con una jerarquía de ámbitos locales. Es decir, si tenemos `funcion1`, y dentro del ámbito de esta función definimos `funcion2`, lo que declaremos en `funcion1` será visible para `funcion1` (a no ser que `funcion2`declare una variable con el mismo nombre, en cuyo caso existirán dos variables (con el mismo nombre) pero en distintos ámbitos locales. Ejemplo:"
   ]
  },
  {
   "cell_type": "code",
   "execution_count": 12,
   "id": "f1979e51",
   "metadata": {},
   "outputs": [
    {
     "name": "stdout",
     "output_type": "stream",
     "text": [
      "Desde funcion1\n",
      "Desde funcion1\n"
     ]
    }
   ],
   "source": [
    "def funcion1():\n",
    "    def funcion2():\n",
    "        # La variable no existe en el ámbito local de funcion2, pero se eonctrará en el ámbito de funcion1 (padre).\n",
    "        print(variable)\n",
    "    variable = \"Desde funcion1\"\n",
    "    funcion2()\n",
    "    print(variable)\n",
    "funcion1()"
   ]
  },
  {
   "cell_type": "code",
   "execution_count": 13,
   "id": "c6e5e523",
   "metadata": {},
   "outputs": [
    {
     "name": "stdout",
     "output_type": "stream",
     "text": [
      "Desde funcion2\n",
      "Desde funcion1\n"
     ]
    }
   ],
   "source": [
    "def funcion1():\n",
    "    def funcion2():\n",
    "        # Se define variable en este ámbito. Será la que se use.\n",
    "        variable = \"Desde funcion2\"\n",
    "        print(variable)\n",
    "    # ¡Pero no sobreescribirá a esta! Convivirán las dos versiones, en distintos ámbitos locales.\n",
    "    variable = \"Desde funcion1\"\n",
    "    funcion2()\n",
    "    print(variable)\n",
    "funcion1()"
   ]
  },
  {
   "cell_type": "markdown",
   "id": "b852884d",
   "metadata": {},
   "source": [
    "## Ficheros"
   ]
  },
  {
   "cell_type": "markdown",
   "id": "8b1cd52b",
   "metadata": {},
   "source": [
    "Como en cualquier lenguaje de programación, los ficheros se manejan en dos fases:\n",
    "\n",
    "- Primero se obtiene el descriptor del fichero. Éste es un objeto que permite efectuar operaciones de entrada / salida sobre el fichero. Se crea con la llamada `open`.\n",
    "- Sobre el descriptor se pueden efectuar operaciones de lectura (función `read`) y escritura (función `write`). La función `open` debe ser correctamente parametrizada para poder efectuar correctamente estas operaciones.\n",
    "\n",
    "Hay que recordar cerrar el fichero una vez éste ha sido utilizado. Para ello, se usa la función `close`."
   ]
  },
  {
   "cell_type": "code",
   "execution_count": 14,
   "id": "8134b693",
   "metadata": {},
   "outputs": [
    {
     "ename": "FileNotFoundError",
     "evalue": "[Errno 2] No such file or directory: 'fichero.txt'",
     "output_type": "error",
     "traceback": [
      "\u001b[1;31m---------------------------------------------------------------------------\u001b[0m",
      "\u001b[1;31mFileNotFoundError\u001b[0m                         Traceback (most recent call last)",
      "\u001b[1;32m<ipython-input-14-267b6126f9bf>\u001b[0m in \u001b[0;36m<module>\u001b[1;34m\u001b[0m\n\u001b[0;32m      1\u001b[0m \u001b[1;31m# Crear un fichero llamado fichero.txt usando la interfaz de jupyter\u001b[0m\u001b[1;33m\u001b[0m\u001b[1;33m\u001b[0m\u001b[1;33m\u001b[0m\u001b[0m\n\u001b[0;32m      2\u001b[0m \u001b[1;31m# Abre el fichero\u001b[0m\u001b[1;33m\u001b[0m\u001b[1;33m\u001b[0m\u001b[1;33m\u001b[0m\u001b[0m\n\u001b[1;32m----> 3\u001b[1;33m \u001b[0mfile\u001b[0m \u001b[1;33m=\u001b[0m \u001b[0mopen\u001b[0m\u001b[1;33m(\u001b[0m\u001b[1;34m'fichero.txt'\u001b[0m\u001b[1;33m)\u001b[0m\u001b[1;33m\u001b[0m\u001b[1;33m\u001b[0m\u001b[0m\n\u001b[0m\u001b[0;32m      4\u001b[0m \u001b[1;31m# Lee el contenido\u001b[0m\u001b[1;33m\u001b[0m\u001b[1;33m\u001b[0m\u001b[1;33m\u001b[0m\u001b[0m\n\u001b[0;32m      5\u001b[0m \u001b[0mtexto\u001b[0m \u001b[1;33m=\u001b[0m \u001b[0mfile\u001b[0m\u001b[1;33m.\u001b[0m\u001b[0mread\u001b[0m\u001b[1;33m(\u001b[0m\u001b[1;33m)\u001b[0m\u001b[1;33m\u001b[0m\u001b[1;33m\u001b[0m\u001b[0m\n",
      "\u001b[1;31mFileNotFoundError\u001b[0m: [Errno 2] No such file or directory: 'fichero.txt'"
     ]
    }
   ],
   "source": [
    "# Crear un fichero llamado fichero.txt usando la interfaz de jupyter\n",
    "# Abre el fichero\n",
    "file = open('fichero.txt')\n",
    "# Lee el contenido\n",
    "texto = file.read()\n",
    "print(texto)\n",
    "\n",
    "# Si usamos la función read otra vez, nos devolvera la cadena vacía porque ya ha sido leido!\n",
    "\n",
    "# Cerramos el descriptor del fichero\n",
    "file.close()"
   ]
  },
  {
   "cell_type": "code",
   "execution_count": 15,
   "id": "019437da",
   "metadata": {},
   "outputs": [],
   "source": [
    "file = open('fichero.txt', 'w')\n",
    "file.write('Nuevo texto')\n",
    "# Cerramos el descriptor del fichero\n",
    "file.close()"
   ]
  },
  {
   "cell_type": "code",
   "execution_count": 16,
   "id": "26d36cd7",
   "metadata": {},
   "outputs": [
    {
     "name": "stdout",
     "output_type": "stream",
     "text": [
      "Nuevo texto\n"
     ]
    }
   ],
   "source": [
    "file = open('fichero.txt')\n",
    "texto = file.read()\n",
    "print(texto)"
   ]
  },
  {
   "cell_type": "markdown",
   "id": "11c610c3",
   "metadata": {},
   "source": [
    "Para escribir el fichero, hemos utilizado un segundo parámetro en la función `write`. Este parámetro indica de qué forma se debe abrir el fichero. Los modos en los que se puede abrir un fichero son _(se pueden combinar dos letras para elegir modo texto o binario, por ejemplo 'rb' para leer en binario)_:\n",
    "\n",
    "\n",
    "| Carácter | Significado|\n",
    "|------|------|\n",
    "| 'r' | en modo lectura (por defecto)| \n",
    "| 'w' | en modo escritura (primero vacía el fichero)| \n",
    "| 'x' | en modo escritura, pero lanza una excepción si el fichero ya existe | \n",
    "| 'a' | en modo escritura, pero no vacía el fichero. Lo que se escribe, se pone al final | \n",
    "| '+' | en modo actualización (permite leer y escribir) | \n",
    "| 'b' | modo binario | \n",
    "| 't' | modo texto (por defecto)| "
   ]
  },
  {
   "cell_type": "markdown",
   "id": "058f3845",
   "metadata": {},
   "source": [
    "## Contextos"
   ]
  },
  {
   "cell_type": "markdown",
   "id": "0b395cc3",
   "metadata": {},
   "source": [
    "En el ejemplo anterior, hay que recordar siempre cerrar el descriptor del fichero. En caso contrario, podrían producirse efectos no deseados.\n",
    "\n",
    "Los contextos delimitan un bloque con unas características que lo describen. Por ejemplo, un bloque contextual para leer un fichero comienza con la apertura del descriptor y termina con el cierre del mismo. En Python, ésto se realiza mediante la palabra reservada `with`:"
   ]
  },
  {
   "cell_type": "code",
   "execution_count": 17,
   "id": "ae58dfa4",
   "metadata": {},
   "outputs": [
    {
     "name": "stdout",
     "output_type": "stream",
     "text": [
      "Nuevo texto\n"
     ]
    }
   ],
   "source": [
    "with open('fichero.txt') as f:\n",
    "    texto = f.read()\n",
    "\n",
    "# En este punto el fichero ya ha sido cerrado! (se ha invocado la función close)\n",
    "print(texto)"
   ]
  },
  {
   "cell_type": "markdown",
   "id": "82a64cb8",
   "metadata": {},
   "source": [
    "Existen otras utilidades, como abrir una **conexión a una base de datos**, una **conexión a un web socket**, etc. La instrucción situada tras la palabra `with` debe devolver un objeto con dos funciones implementadas:\n",
    "\n",
    "- `__enter__`: Se llama al principio del bloque\n",
    "- `__exit__`: Se llama al final del bloque"
   ]
  },
  {
   "cell_type": "code",
   "execution_count": 18,
   "id": "d4a9e53e",
   "metadata": {},
   "outputs": [],
   "source": [
    "import requests  # instalar si no está instalado\n",
    "url_quijote = \"https://gist.githubusercontent.com/jsdario/6d6c69398cb0c73111e49f1218960f79/raw/8d4fc4548d437e2a7203a5aeeace5477f598827d/el_quijote.txt\"\n",
    "text_quijote = requests.get(url_quijote).text"
   ]
  },
  {
   "cell_type": "markdown",
   "id": "275a2ab1",
   "metadata": {},
   "source": [
    "<h3><font color=\"#00586D\" size=4><i class=\"fa fa-pencil-square-o\" aria-hidden=\"true\"></i>Ejercicio</font></h3>\n",
    "\n",
    "Usando contextos, escribir el texto en un fichero llamado quijote.txt."
   ]
  },
  {
   "cell_type": "code",
   "execution_count": 19,
   "id": "82ef881a",
   "metadata": {},
   "outputs": [],
   "source": [
    "# Completar"
   ]
  },
  {
   "cell_type": "code",
   "execution_count": 20,
   "id": "e6ad7251",
   "metadata": {},
   "outputs": [
    {
     "ename": "UnicodeEncodeError",
     "evalue": "'charmap' codec can't encode character '\\u0301' in position 77: character maps to <undefined>",
     "output_type": "error",
     "traceback": [
      "\u001b[1;31m---------------------------------------------------------------------------\u001b[0m",
      "\u001b[1;31mUnicodeEncodeError\u001b[0m                        Traceback (most recent call last)",
      "\u001b[1;32m<ipython-input-20-6ac7861cf307>\u001b[0m in \u001b[0;36m<module>\u001b[1;34m\u001b[0m\n\u001b[0;32m      1\u001b[0m \u001b[1;31m# Solucion\u001b[0m\u001b[1;33m\u001b[0m\u001b[1;33m\u001b[0m\u001b[1;33m\u001b[0m\u001b[0m\n\u001b[0;32m      2\u001b[0m \u001b[1;32mwith\u001b[0m \u001b[0mopen\u001b[0m\u001b[1;33m(\u001b[0m\u001b[1;34m'quijote.txt'\u001b[0m\u001b[1;33m,\u001b[0m \u001b[1;34m'w'\u001b[0m\u001b[1;33m)\u001b[0m \u001b[1;32mas\u001b[0m \u001b[0mf\u001b[0m\u001b[1;33m:\u001b[0m\u001b[1;33m\u001b[0m\u001b[1;33m\u001b[0m\u001b[0m\n\u001b[1;32m----> 3\u001b[1;33m     \u001b[0mf\u001b[0m\u001b[1;33m.\u001b[0m\u001b[0mwrite\u001b[0m\u001b[1;33m(\u001b[0m\u001b[0mtext_quijote\u001b[0m\u001b[1;33m)\u001b[0m\u001b[1;33m\u001b[0m\u001b[1;33m\u001b[0m\u001b[0m\n\u001b[0m",
      "\u001b[1;32m~\\anaconda3\\envs\\TORRECARDENAS\\lib\\encodings\\cp1252.py\u001b[0m in \u001b[0;36mencode\u001b[1;34m(self, input, final)\u001b[0m\n\u001b[0;32m     17\u001b[0m \u001b[1;32mclass\u001b[0m \u001b[0mIncrementalEncoder\u001b[0m\u001b[1;33m(\u001b[0m\u001b[0mcodecs\u001b[0m\u001b[1;33m.\u001b[0m\u001b[0mIncrementalEncoder\u001b[0m\u001b[1;33m)\u001b[0m\u001b[1;33m:\u001b[0m\u001b[1;33m\u001b[0m\u001b[1;33m\u001b[0m\u001b[0m\n\u001b[0;32m     18\u001b[0m     \u001b[1;32mdef\u001b[0m \u001b[0mencode\u001b[0m\u001b[1;33m(\u001b[0m\u001b[0mself\u001b[0m\u001b[1;33m,\u001b[0m \u001b[0minput\u001b[0m\u001b[1;33m,\u001b[0m \u001b[0mfinal\u001b[0m\u001b[1;33m=\u001b[0m\u001b[1;32mFalse\u001b[0m\u001b[1;33m)\u001b[0m\u001b[1;33m:\u001b[0m\u001b[1;33m\u001b[0m\u001b[1;33m\u001b[0m\u001b[0m\n\u001b[1;32m---> 19\u001b[1;33m         \u001b[1;32mreturn\u001b[0m \u001b[0mcodecs\u001b[0m\u001b[1;33m.\u001b[0m\u001b[0mcharmap_encode\u001b[0m\u001b[1;33m(\u001b[0m\u001b[0minput\u001b[0m\u001b[1;33m,\u001b[0m\u001b[0mself\u001b[0m\u001b[1;33m.\u001b[0m\u001b[0merrors\u001b[0m\u001b[1;33m,\u001b[0m\u001b[0mencoding_table\u001b[0m\u001b[1;33m)\u001b[0m\u001b[1;33m[\u001b[0m\u001b[1;36m0\u001b[0m\u001b[1;33m]\u001b[0m\u001b[1;33m\u001b[0m\u001b[1;33m\u001b[0m\u001b[0m\n\u001b[0m\u001b[0;32m     20\u001b[0m \u001b[1;33m\u001b[0m\u001b[0m\n\u001b[0;32m     21\u001b[0m \u001b[1;32mclass\u001b[0m \u001b[0mIncrementalDecoder\u001b[0m\u001b[1;33m(\u001b[0m\u001b[0mcodecs\u001b[0m\u001b[1;33m.\u001b[0m\u001b[0mIncrementalDecoder\u001b[0m\u001b[1;33m)\u001b[0m\u001b[1;33m:\u001b[0m\u001b[1;33m\u001b[0m\u001b[1;33m\u001b[0m\u001b[0m\n",
      "\u001b[1;31mUnicodeEncodeError\u001b[0m: 'charmap' codec can't encode character '\\u0301' in position 77: character maps to <undefined>"
     ]
    }
   ],
   "source": [
    "# Solucion\n",
    "with open('quijote.txt', 'w') as f:\n",
    "    f.write(text_quijote)"
   ]
  },
  {
   "cell_type": "markdown",
   "id": "406d70f0",
   "metadata": {},
   "source": [
    "## Pickle: Serialización de Objetos"
   ]
  },
  {
   "cell_type": "markdown",
   "id": "236c765a",
   "metadata": {},
   "source": [
    "A lo largo del curso veremos procesos de cierta entidad que requieren tiempo para poder ejecutarse (por ejemplo, generar una tabla de datos). Si cerramos jupyter, perderemos todas nuestras variables y funciones, teniendo que volver a ejecutar el código. En estos casos, puede ser de utilidad almacenar en un fichero la estructura de datos deseada (por ejemplo, la tabla anteriormente mencionada).\n",
    "\n",
    "`pickle` es un módulo que permite **serializar objetos** de Python para almacenarlos en un fichero, pudiendo recuperarlos cuando sea necesario. Existen ciertas propiedades que tienen que cumplir los objetos para que puedan ser serializados por `pickle`, pero la gran mayoria de elementos que usaremos pueden ser serializados. Existen 4 funciones, dos para leer y 2 para escribir un objeto pickle (por convenio, con extensión 'pkl'):\n",
    "\n",
    "- pickle.load\n",
    "- pickle.loads\n",
    "- pickle.dump\n",
    "- pickle.dumps\n",
    "\n",
    "`load(s)` sirve para leer un fichero pickle, mientras que `dump(s)` sirve para serializar un objeto. La diferencia entre `load` y `loads` (al igual que entre `dump` y `dumps`) es que trabaja sobre un string binario o sobre un descriptor de fichero."
   ]
  },
  {
   "cell_type": "code",
   "execution_count": null,
   "id": "f2250003",
   "metadata": {},
   "outputs": [],
   "source": [
    "import pickle\n",
    "\n",
    "l = list(range(1000))\n",
    "with open('mypickle.pkl', 'wb') as f:\n",
    "    pickle.dump(l, f)\n",
    "    \n",
    "with open('mypickle.pkl', 'rb') as f:\n",
    "    l2 = pickle.load(f)\n",
    "\n",
    "l == l2"
   ]
  },
  {
   "cell_type": "code",
   "execution_count": null,
   "id": "03682c4d",
   "metadata": {},
   "outputs": [],
   "source": [
    "import pickle\n",
    "\n",
    "l = list(range(1000))\n",
    "with open('mypickle.pkl', 'wb') as f:\n",
    "    f.write(pickle.dumps(l))\n",
    "    \n",
    "with open('mypickle.pkl', 'rb') as f:\n",
    "    l2 = pickle.loads(f.read())\n",
    "\n",
    "l == l2"
   ]
  },
  {
   "cell_type": "markdown",
   "id": "d4a2f55b",
   "metadata": {},
   "source": [
    "<div class=\"alert alert-block alert-warning\">\n",
    "<i class=\"fa fa-info-circle\" aria-hidden=\"true\"></i>\n",
    "<strong>Nota</strong>: Pickle está preparado para la serialización de objetos de manera óptima. Normalmente, cuando entrenemos modelos que nos lleven bastante tiempo, como pueden ser los SVM, los guardaremos en un objeto tipo pickle donde se almacenarán todos los parámetros ya entrenados. Utilizaremos una estructura parecida a la siguiente una vez entrenados:"
   ]
  },
  {
   "cell_type": "markdown",
   "id": "0e4ba438",
   "metadata": {},
   "source": [
    "## Librería OS\n",
    "\n",
    "Esta librería es muy interesante de cara a la gestión de archivos y rutas."
   ]
  },
  {
   "cell_type": "code",
   "execution_count": 21,
   "id": "bb0567b2",
   "metadata": {},
   "outputs": [],
   "source": [
    "import os"
   ]
  },
  {
   "cell_type": "code",
   "execution_count": 22,
   "id": "3445d81d",
   "metadata": {},
   "outputs": [
    {
     "data": {
      "text/plain": [
       "'C:\\\\Users\\\\LUIS\\\\OneDrive - Universidad de Almeria\\\\Python\\\\PYTHON COURSE LUIS'"
      ]
     },
     "execution_count": 22,
     "metadata": {},
     "output_type": "execute_result"
    }
   ],
   "source": [
    "os.getcwd()"
   ]
  },
  {
   "cell_type": "code",
   "execution_count": 23,
   "id": "01e9ba90",
   "metadata": {},
   "outputs": [
    {
     "data": {
      "text/plain": [
       "'C:\\\\Users\\\\LUIS\\\\OneDrive - Universidad de Almeria\\\\Python\\\\PYTHON COURSE LUIS\\\\2_Python_Crush_Course_II.ipynb'"
      ]
     },
     "execution_count": 23,
     "metadata": {},
     "output_type": "execute_result"
    }
   ],
   "source": [
    "os.getcwd() + '\\\\2_Python_Crush_Course_II.ipynb'"
   ]
  },
  {
   "cell_type": "code",
   "execution_count": 24,
   "id": "2240cb8e",
   "metadata": {},
   "outputs": [
    {
     "data": {
      "text/plain": [
       "True"
      ]
     },
     "execution_count": 24,
     "metadata": {},
     "output_type": "execute_result"
    }
   ],
   "source": [
    "os.path.isfile(os.getcwd() + '\\\\2_Python_Crush_Course_II.ipynb')"
   ]
  },
  {
   "cell_type": "markdown",
   "id": "77460103",
   "metadata": {},
   "source": [
    "Veamos la estructura de la siguiente celda, este modelo tarda unos 15-20 min en entrenarse, y no nos interesa entrenarlo cada vez que ejecutemos todo el Notebook, por tanto, podemos hacer uso de la siguiente estructura:\n",
    "\n",
    "* Si no existe el modelo serializado, entonces, entrena el modelo (que viene dado por un pipeline y además está dentro de un GridSearch CV, algoritmo de búsqueda exhaustiva sobre los valores de los parámetros especificados para un estimador. Veremos más adelante todo lo que esto conlleva).\n",
    "\n",
    "* En caso de que exista la ruta con el archivo serializado, cárgalo en el objeto `churn_pipe_svc`, y ya lo tendríamos como lo habíamos dejado sin tener que reentrenar el modelo."
   ]
  },
  {
   "cell_type": "code",
   "execution_count": 25,
   "id": "937f55bc",
   "metadata": {},
   "outputs": [
    {
     "ename": "NameError",
     "evalue": "name 'Pipeline' is not defined",
     "output_type": "error",
     "traceback": [
      "\u001b[1;31m---------------------------------------------------------------------------\u001b[0m",
      "\u001b[1;31mNameError\u001b[0m                                 Traceback (most recent call last)",
      "\u001b[1;32m<ipython-input-25-3e7dd820bbbd>\u001b[0m in \u001b[0;36m<module>\u001b[1;34m\u001b[0m\n\u001b[0;32m      9\u001b[0m     \u001b[0msvm_model\u001b[0m \u001b[1;33m=\u001b[0m \u001b[0mSVC\u001b[0m\u001b[1;33m(\u001b[0m\u001b[0mprobability\u001b[0m\u001b[1;33m=\u001b[0m\u001b[1;32mTrue\u001b[0m\u001b[1;33m)\u001b[0m\u001b[1;33m;\u001b[0m\u001b[1;33m\u001b[0m\u001b[1;33m\u001b[0m\u001b[0m\n\u001b[0;32m     10\u001b[0m \u001b[1;33m\u001b[0m\u001b[0m\n\u001b[1;32m---> 11\u001b[1;33m     churn_pipe_svc = Pipeline(\n\u001b[0m\u001b[0;32m     12\u001b[0m                         [\n\u001b[0;32m     13\u001b[0m                             \u001b[1;33m(\u001b[0m\u001b[1;34m'prep'\u001b[0m\u001b[1;33m,\u001b[0m \u001b[0mchurn_trans\u001b[0m\u001b[1;33m)\u001b[0m\u001b[1;33m,\u001b[0m\u001b[1;33m\u001b[0m\u001b[1;33m\u001b[0m\u001b[0m\n",
      "\u001b[1;31mNameError\u001b[0m: name 'Pipeline' is not defined"
     ]
    }
   ],
   "source": [
    "import os\n",
    "import pickle\n",
    "\n",
    "# Si no se han descargado todavía los datos, los descarga y almacena en el archivo.\n",
    "if not os.path.isfile(os.getcwd() + '\\\\churn_pipe_svc.pkl'):\n",
    "    \n",
    "    from sklearn.svm import SVC\n",
    "\n",
    "    svm_model = SVC(probability=True);\n",
    "\n",
    "    churn_pipe_svc = Pipeline(\n",
    "                        [\n",
    "                            ('prep', churn_trans),\n",
    "                            ('clas', svm_model)\n",
    "                        ]\n",
    "    )\n",
    "\n",
    "    parameters = {}\n",
    "    parameters['prep__num__imputer__strategy'] = ['mean', 'median']\n",
    "    parameters['clas__C'] = [10e-2, 1, 100]\n",
    "    parameters['clas__kernel'] = ['linear', 'rbf']\n",
    "\n",
    "    GS = GridSearchCV(churn_pipe_svc, param_grid=parameters, scoring='f1', cv=5 ,refit = True)\n",
    "    GS.fit(X, y)\n",
    "\n",
    "    print(\"Mejor score: \", GS.best_score_)\n",
    "    print(\"Mejore configuración de parámetros: \", GS.best_params_)\n",
    "\n",
    "    churn_pipe_svc = GS.best_estimator_\n",
    "\n",
    "\n",
    "    y_new_pred = churn_pipe_svc.predict(X_new)\n",
    "    show_results(y_new, y_new_pred)\n",
    "    \n",
    "    with open(os.getcwd() + '\\\\churn_pipe_svc.pkl',\"wb\") as model_data_file:\n",
    "        pickle.dump(churn_pipe_svc, model_data_file) \n",
    "        \n",
    "# Si se habían descargado anteriormente, y el archivo está disponible, los lee. \n",
    "else:\n",
    "    with open(os.getcwd() + '\\\\churn_pipe_svc.pkl','rb') as model_data_file:\n",
    "        churn_pipe_svc = pickle.load(model_data_file)"
   ]
  },
  {
   "cell_type": "markdown",
   "id": "76855f4d",
   "metadata": {},
   "source": [
    "## Clases y Objetos"
   ]
  },
  {
   "cell_type": "markdown",
   "id": "e858d9af",
   "metadata": {},
   "source": [
    "Aunque no es un aspecto clave para este curso, en ocasiones el uso de clases puede ser **muy útil**, por lo que es recomendable saber lo básico de la _programación orientada a objetos_.\n",
    "\n",
    "Una clase es una definición que consiste en una colección de **variables** y **métodos** (funciones). Un objeto es una **instanciación** de esa clase, es decir, un objeto que contiene esas variables y funciones. La clase es la receta (solo definición), mientras que el objeto es algo manipulable (podemos llamar a sus funciones, sus atributos, etc.)\n",
    "\n",
    "Dos objetos creados a partir de la misma clase son completamente **independientes**. Para referirse al propio objeto dentro de la definición de las clases, se usa (_por convenio_) la variable `self`.\n",
    "\n",
    "La definición de clases se hace con la palabra reservada `class`. Existe una función que será ejecutada siempre que un objeto se cree a partir de la clase, llamada `__init__`. En una clase, toda función tiene como primer parámetro un argumento llamado `self` (salvo si se usa el decorador @staticmethod: más información [aquí](https://docs.python.org/3/library/functions.html#staticmethod)). Como mencionamos antes, este parámetro permite referenciar al propio objeto dentro de la definición de la clase. Para ver información más detallada sobre las clases, y propiedades como la _herencia_, consultar [aquí](https://docs.python.org/3.6/tutorial/classes.html).\n",
    "\n",
    "Para crear un objeto a partir de una clase, se usa la misma sintaxis que en la llamada a funciones. De hecho, es como llamar a la función `__init__`, omitiendo el primer parámetro `self` y el nombre de la función (`__init__`):"
   ]
  },
  {
   "cell_type": "code",
   "execution_count": null,
   "id": "fe1c827a",
   "metadata": {},
   "outputs": [],
   "source": [
    "class MiClase:\n",
    "    def __init__(self, x):\n",
    "        self.x = x\n",
    "        print(\"¡Objeto creado!\")\n",
    "\n",
    "mi_objeto = MiClase(5)"
   ]
  },
  {
   "cell_type": "code",
   "execution_count": null,
   "id": "db29f3b3",
   "metadata": {},
   "outputs": [],
   "source": [
    "mi_objeto.x"
   ]
  },
  {
   "cell_type": "markdown",
   "id": "12485578",
   "metadata": {},
   "source": [
    "<div class=\"alert alert-block alert-info\">\n",
    "<i class=\"fa fa-info-circle\" aria-hidden=\"true\"></i>\n",
    "    Cuando se define una clase, la función <i>__init__</i> existe por defecto, como una función vacía y sin argumentos (únicamente el self).\n",
    "</div>"
   ]
  },
  {
   "cell_type": "code",
   "execution_count": null,
   "id": "8f590be5",
   "metadata": {},
   "outputs": [],
   "source": [
    "class MiClase:\n",
    "    pass # La palabra reservada 'pass' indica que es una sentencia que no hace nada.\n",
    "         # Sirve para evitar fallos de sintáxis (como ahora, definir una clase sin nada dentro).\n",
    "mi_objeto = MiClase()"
   ]
  },
  {
   "cell_type": "code",
   "execution_count": null,
   "id": "ed35f4f9",
   "metadata": {},
   "outputs": [],
   "source": [
    "# Podemos definir una clase con una función\n",
    "class MiClase:\n",
    "    def saludar(self):\n",
    "        print(\"¡Hola!\")\n",
    "mi_objeto = MiClase()\n",
    "mi_objeto.saludar()  # Invocamos la función saludar del objeto"
   ]
  },
  {
   "cell_type": "markdown",
   "id": "2a4c529e",
   "metadata": {},
   "source": [
    "<font size=4> <i class=\"fa fa-book\" aria-hidden=\"true\" style=\"color:#00586D\"></i> </font> __Importante!__ En el ejemplo a continuación es necesario realizar la asignación `self.nombre = nombre` para que el nombre se guarde en el objeto. Si no, sería una variable declarada en el ámbito de la función que se perdería en cuanto finalizase la ejecución de la misma."
   ]
  },
  {
   "cell_type": "code",
   "execution_count": null,
   "id": "e1e397a6",
   "metadata": {},
   "outputs": [],
   "source": [
    "# Podemos definir una clase con una función y una variable, que además se inicializa en el __init__\n",
    "class MiClase:\n",
    "    def __init__(self, nombre):\n",
    "        self.nombre = nombre # Es necesario \n",
    "    def saludar(self):\n",
    "        print(\"¡Hola {}!\".format(self.nombre))\n",
    "mi_objeto = MiClase(\"Javi\")\n",
    "mi_objeto.saludar()  # Invocamos la función saludar del objeto\n",
    "\n",
    "# Podemos acceder a los atributos (variables almacenadas en self)\n",
    "print(mi_objeto.nombre)"
   ]
  },
  {
   "cell_type": "markdown",
   "id": "e64016ce",
   "metadata": {},
   "source": [
    "## Herencia"
   ]
  },
  {
   "cell_type": "markdown",
   "id": "51bed9fa",
   "metadata": {},
   "source": [
    "Al declarar una clase, es posible heredar funcionalidad declarada en otra definición de clase. Esto es útil si queremos extender la funcionalidad de una clase ya implementada, o incluso para definición de clases como _interfaces_."
   ]
  },
  {
   "cell_type": "code",
   "execution_count": 26,
   "id": "5b2279cc",
   "metadata": {},
   "outputs": [
    {
     "name": "stdout",
     "output_type": "stream",
     "text": [
      "['Nombre', 'Dirección', 'Teléfono']\n",
      "'===================='\n",
      "[{'Dirección': 'C/ Falsa 123', 'Nombre': 'Javier', 'Teléfono': 666667788},\n",
      " {'Dirección': 'C/ Más Falsa 123', 'Nombre': 'Juan', 'Teléfono': 666778899}]\n"
     ]
    }
   ],
   "source": [
    "from pprint import pprint\n",
    "class Tabla:\n",
    "    def __init__(self, columns):\n",
    "        self.columns = columns\n",
    "        self.data = []\n",
    "\n",
    "    def add_row(self, row):\n",
    "        dict_row = { c: field for c, field in zip(self.columns, row)}\n",
    "        self.data.append(dict_row)\n",
    "    \n",
    "    def show(self):\n",
    "        pprint(self.columns)\n",
    "        pprint(\"=\" * 20)\n",
    "        pprint(self.data)\n",
    "\n",
    "t = Tabla(['Nombre', 'Dirección', 'Teléfono'])\n",
    "t.add_row(['Javier', 'C/ Falsa 123', 666667788])\n",
    "t.add_row(['Juan', 'C/ Más Falsa 123', 666778899])\n",
    "t.show()"
   ]
  },
  {
   "cell_type": "code",
   "execution_count": 27,
   "id": "7fcf57e7",
   "metadata": {},
   "outputs": [
    {
     "name": "stdout",
     "output_type": "stream",
     "text": [
      "['Alimento', 'Calorías']\n",
      "'===================='\n",
      "[{'Alimento': 'manzana', 'Calorías': 52},\n",
      " {'Alimento': 'lechuga', 'Calorías': 15}]\n",
      "Esta tabla describe alimentos y cuántas calorías tienen.\n"
     ]
    }
   ],
   "source": [
    "class TablaAlimentos(Tabla):\n",
    "    def __init__(self):\n",
    "        super().__init__(['Alimento', 'Calorías'])\n",
    "\n",
    "    def add_row(self, alimento, calorias):\n",
    "        super().add_row([alimento, calorias])\n",
    "    \n",
    "    def info(self):\n",
    "        print(\"Esta tabla describe alimentos y cuántas calorías tienen.\")\n",
    "\n",
    "t = TablaAlimentos()\n",
    "t.add_row('manzana', 52)\n",
    "t.add_row('lechuga', 15)\n",
    "t.show()\n",
    "t.info()"
   ]
  },
  {
   "cell_type": "markdown",
   "id": "0f8965c5",
   "metadata": {},
   "source": [
    "<h3><font color=\"#00586D\" size=4><i class=\"fa fa-pencil-square-o\" aria-hidden=\"true\"></i>Ejercicio</font></h3>\n",
    "\n",
    "- Implementar una clase Persona que contenga los atributos nombre, edad y salario (estos valores deben inicializarse en el constructor). Crear una función llamada `get_salario` que en función de la edad multiplique el salario base por un factor y devuelva el nuevo número:\n",
    "    - *0.5 si tiene menos de 20 años\n",
    "    - *0.8 si tiene menos de 40 años\n",
    "    - *1.2 si tiene menos de 60 años\n",
    "    - *0.75 en caso contrario\n",
    "\n",
    "- Implementar una clase Matrimonio que contenga dos personas como atributos, y que sobreescriba la función `get_salario` sumando los salarios de ambas personas."
   ]
  },
  {
   "cell_type": "code",
   "execution_count": 28,
   "id": "b2b192e3",
   "metadata": {},
   "outputs": [],
   "source": [
    "# Completar"
   ]
  },
  {
   "cell_type": "code",
   "execution_count": 29,
   "id": "c7d1c219",
   "metadata": {},
   "outputs": [],
   "source": [
    "# Solucion\n",
    "class Persona:\n",
    "    def __init__(self, nombre, edad, salario):\n",
    "        self.nombre = nombre\n",
    "        self.edad = edad\n",
    "        self.salario = salario\n",
    "    def get_salario(self):\n",
    "        if self.edad < 20:\n",
    "            salario = 0.5 * self.salario\n",
    "        elif self.edad < 40:\n",
    "            salario = 0.8 * self.salario\n",
    "        elif self.edad < 60:\n",
    "            salario = 1.2 * self.salario\n",
    "        else:\n",
    "            salario = 0.75 * self.salario\n",
    "        return salario\n",
    "    \n",
    "class Matrimonio:\n",
    "    def __init__(self, p1, p2):\n",
    "        self.p1 = p1\n",
    "        self.p2 = p2\n",
    "    def get_salario(self):\n",
    "        return self.p1.get_salario() + self.p2.get_salario() "
   ]
  },
  {
   "cell_type": "code",
   "execution_count": 30,
   "id": "bcb81f3c",
   "metadata": {},
   "outputs": [
    {
     "name": "stdout",
     "output_type": "stream",
     "text": [
      "El salario de Juan es 960.0\n",
      "El salario de Maria es 1040.0\n",
      "El salario del matrimonio entre Juan y Maria es 2000.0\n"
     ]
    }
   ],
   "source": [
    "p1 = Persona(\"Juan\", 38, 1200)\n",
    "p2 = Persona(\"Maria\", 37, 1300)\n",
    "m = Matrimonio(p1, p2)\n",
    "\n",
    "print(f\"El salario de {p1.nombre} es {p1.get_salario()}\")\n",
    "print(f\"El salario de {p2.nombre} es {p2.get_salario()}\")\n",
    "print(f\"El salario del matrimonio entre {m.p1.nombre} y {m.p2.nombre} es {m.get_salario()}\")"
   ]
  },
  {
   "cell_type": "code",
   "execution_count": null,
   "id": "8a927724",
   "metadata": {},
   "outputs": [],
   "source": []
  },
  {
   "cell_type": "code",
   "execution_count": null,
   "id": "65ff2e39",
   "metadata": {},
   "outputs": [],
   "source": []
  }
 ],
 "metadata": {
  "hide_input": false,
  "kernelspec": {
   "display_name": "Python 3",
   "language": "python",
   "name": "python3"
  },
  "language_info": {
   "codemirror_mode": {
    "name": "ipython",
    "version": 3
   },
   "file_extension": ".py",
   "mimetype": "text/x-python",
   "name": "python",
   "nbconvert_exporter": "python",
   "pygments_lexer": "ipython3",
   "version": "3.8.10"
  },
  "toc": {
   "base_numbering": 1,
   "nav_menu": {},
   "number_sections": true,
   "sideBar": true,
   "skip_h1_title": true,
   "title_cell": "Tabla de Contenidos",
   "title_sidebar": "Contents",
   "toc_cell": true,
   "toc_position": {},
   "toc_section_display": true,
   "toc_window_display": true
  },
  "varInspector": {
   "cols": {
    "lenName": 16,
    "lenType": 16,
    "lenVar": 40
   },
   "kernels_config": {
    "python": {
     "delete_cmd_postfix": "",
     "delete_cmd_prefix": "del ",
     "library": "var_list.py",
     "varRefreshCmd": "print(var_dic_list())"
    },
    "r": {
     "delete_cmd_postfix": ") ",
     "delete_cmd_prefix": "rm(",
     "library": "var_list.r",
     "varRefreshCmd": "cat(var_dic_list()) "
    }
   },
   "types_to_exclude": [
    "module",
    "function",
    "builtin_function_or_method",
    "instance",
    "_Feature"
   ],
   "window_display": false
  }
 },
 "nbformat": 4,
 "nbformat_minor": 5
}
